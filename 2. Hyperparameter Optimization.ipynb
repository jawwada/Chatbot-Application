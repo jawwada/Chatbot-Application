{
 "cells": [
  {
   "cell_type": "markdown",
   "metadata": {
    "collapsed": false,
    "jupyter": {
     "outputs_hidden": false
    }
   },
   "source": [
    "#    Hyperparameter Tuning for Intent Classification using LSTM with Attention Mechanism\n",
    "This notebook is 2nd part of the Ultimate AI Challenge. In the previous notebook, we trained a LSTM Model with Attention Mechanism for Intent Classification on the ATIS dataset. In this notebook, we perform a hyper parameter optimization to learn the best parameters for the model and also log our experiments using an ML server, e.g. MLFlow. Propreitart clouds already use experiment logging, model registry and deployment services, e.g. Vertex AI in GCP, Azure ML and Amazon Sagemaker. I have worked in Vertex AI and Azure ML. MLflow + Optuna is a good open source and scalable alternative to them. We use Optuna for hyperparameter tuning and MLflow for experiment tracking and model registry. Model Serving is done through pytorch save and load methods. To avoid pickling and version issues, we can also use model state dictionaries. The notebook is divided into the following sections:\n",
    "1. Data Preparation\n",
    "2. Hyperparameter Tuning\n",
    "3. Model Training and Evaluation\n",
    "4. Visualize the results\n",
    "5. Model Export, Registry, Model Loading and Inference\n",
    "\n",
    "Let's start"
   ]
  },
  {
   "cell_type": "code",
   "execution_count": 2,
   "metadata": {
    "ExecuteTime": {
     "end_time": "2023-11-22T20:34:59.589625Z",
     "start_time": "2023-11-22T20:34:59.573041Z"
    },
    "collapsed": false,
    "jupyter": {
     "outputs_hidden": false
    }
   },
   "outputs": [
    {
     "name": "stdout",
     "output_type": "stream",
     "text": [
      "Using device: mps\n"
     ]
    }
   ],
   "source": [
    "import sys\n",
    "from sklearn.model_selection import KFold\n",
    "import torch.nn as nn\n",
    "from machine_learning.IntentClassifierLSTMWithAttention import IntentClassifierLSTMWithAttention\n",
    "from machine_learning.IntentTokenizer import IntentTokenizer\n",
    "import torch.optim as optim\n",
    "import pandas as pd\n",
    "import torch\n",
    "from torch.utils.data import DataLoader\n",
    "from machine_learning.model_utils import train, evaluate, predict, get_or_create_experiment\n",
    "import optuna\n",
    "import logging\n",
    "import mlflow\n",
    "from optuna.visualization import plot_optimization_history\n",
    "import matplotlib.pyplot as plt\n",
    "\n",
    "\n",
    "\n",
    "device=torch.device(\"cuda\" if torch.cuda.is_available() else \"mps\" if torch.backends.mps.is_available() else \"cpu\")\n",
    "print(f\"Using device: {device}\")"
   ]
  },
  {
   "cell_type": "code",
   "execution_count": 10,
   "metadata": {},
   "outputs": [],
   "source": [
    "import warnings\n",
    "warnings.filterwarnings(\"ignore\")"
   ]
  },
  {
   "cell_type": "markdown",
   "metadata": {
    "collapsed": false,
    "jupyter": {
     "outputs_hidden": false
    }
   },
   "source": [
    "## Data Preparation\n",
    "Steps:\n",
    "1. Load the data\n",
    "2. Tokenize the data\n",
    "3. Create a PyTorch Dataset\n",
    "4. Create a PyTorch DataLoader"
   ]
  },
  {
   "cell_type": "code",
   "execution_count": 2,
   "metadata": {
    "ExecuteTime": {
     "end_time": "2023-11-22T20:35:00.688317Z",
     "start_time": "2023-11-22T20:34:59.579377Z"
    },
    "collapsed": false,
    "jupyter": {
     "outputs_hidden": false
    }
   },
   "outputs": [
    {
     "name": "stdout",
     "output_type": "stream",
     "text": [
      "inside IntentTokenizer\n",
      "Vocabulary Size: 890\n",
      "Encoding labels for the first time and adding unknown class.\n",
      "Label Encoding: {'abbreviation': 0, 'aircraft': 1, 'aircraft+flight+flight_no': 2, 'airfare': 3, 'airfare+flight_time': 4, 'airline': 5, 'airline+flight_no': 6, 'airport': 7, 'capacity': 8, 'cheapest': 9, 'city': 10, 'distance': 11, 'flight': 12, 'flight+airfare': 13, 'flight_no': 14, 'flight_time': 15, 'ground_fare': 16, 'ground_service': 17, 'ground_service+ground_fare': 18, 'meal': 19, 'quantity': 20, 'restriction': 21, '<unknown>': 22}\n",
      "Number of training samples: torch.Size([4634, 46])\n",
      "Number of training batches: 145\n",
      "Number of test samples: torch.Size([850, 30])\n",
      "Number of test batches: 27\n"
     ]
    }
   ],
   "source": [
    "optuna.logging.set_verbosity(optuna.logging.ERROR)\n",
    "\n",
    "train_df = pd.read_csv('data/atis/train.tsv', sep='\\t', header=None, names=[\"text\", \"label\"])\n",
    "test_df = pd.read_csv('data/atis/test.tsv', sep='\\t', header=None, names=[\"text\", \"label\"])\n",
    "tokenizer = IntentTokenizer(train_df)\n",
    "\n",
    "# define constants and hyperparameters\n",
    "vocab_size=tokenizer.max_vocab_size+1\n",
    "output_dim=len(tokenizer.le.classes_)\n",
    "batch_size = 32\n",
    "num_epochs = 5\n",
    "\n",
    "train_data = tokenizer.process_data(train_df, device=device)\n",
    "train_loader = DataLoader(train_data, shuffle=True, batch_size=batch_size)\n",
    "print(\"Number of training samples:\", train_data.tensors[0].size())\n",
    "print(\"Number of training batches:\", len(train_loader))\n",
    "\n",
    "test_data = tokenizer.process_data(test_df, device=device)\n",
    "print(\"Number of test samples:\", test_data.tensors[0].size())\n",
    "test_loader = DataLoader(test_data, shuffle=True, batch_size=batch_size)\n",
    "print(\"Number of test batches:\", len(test_loader))"
   ]
  },
  {
   "cell_type": "markdown",
   "metadata": {
    "collapsed": false,
    "jupyter": {
     "outputs_hidden": false
    }
   },
   "source": [
    "## Hyperparameter Tuning\n",
    "The Model that we are using for the hyperparameter tuning is the IntentClassifierLSTMWithAttention. The hyperparameters that we are tuning are:\n",
    "1. Learning rate : 1e-3 to 1e-1\n",
    "2. Hidden dimension : 32, 64, 128, 256\n",
    "3. Embedding dimension : 64, 128, 256, 512\n",
    "4. Dropout rate : 0.1 to 0.5\n",
    "5. Weight decay : 1e-6 to 1e-3\n",
    "\n",
    "The objective function is the average validation accuracy over 5 folds. The best model is the one with the highest average validation accuracy. Note our test data is completely hidden to the accuracy optimizer of optuna. We can choose any metric to optimize, for example minimization of loss, etc.."
   ]
  },
  {
   "cell_type": "code",
   "execution_count": 61,
   "metadata": {
    "ExecuteTime": {
     "end_time": "2023-11-22T21:21:40.985739Z",
     "start_time": "2023-11-22T21:21:40.982816Z"
    },
    "collapsed": false,
    "jupyter": {
     "outputs_hidden": false
    }
   },
   "outputs": [],
   "source": [
    "def log_hyperparameters(trial):\n",
    "    # Log hyperparameters\n",
    "    \n",
    "    mlflow.log_param(\"lr\", trial.params[\"lr\"])\n",
    "    mlflow.log_param(\"hidden_dim\", trial.params[\"hidden_dim\"])\n",
    "    mlflow.log_param(\"embedding_dim\", trial.params[\"embedding_dim\"])\n",
    "    mlflow.log_param(\"dropout_rate\", trial.params[\"dropout_rate\"])\n",
    "    mlflow.log_param(\"weight_decay\", trial.params[\"weight_decay\"])\n",
    "    print(f'lr: {trial.params[\"lr\"]}, hidden_dim: {trial.params[\"hidden_dim\"]}, embedding_dim: {trial.params[\"embedding_dim\"]}, dropout_rate: {trial.params[\"dropout_rate\"]}, weight_decay: {trial.params[\"weight_decay\"]}')\n",
    "\n",
    "    return\n",
    "\n",
    "def log_metrics(trial, accuracy):\n",
    "    # Log metrics\n",
    "    mlflow.log_metric(\"accuracy\", accuracy)\n",
    "    return\n",
    "def objective(trial):\n",
    "    with mlflow.start_run():\n",
    "        # Suggest hyperparameters\n",
    "        lr = trial.suggest_float(\"lr\", 1e-4, 1e-2, log=True)\n",
    "        hidden_dim = trial.suggest_categorical(\"hidden_dim\", [32, 64, 256])\n",
    "        embedding_dim = trial.suggest_categorical(\"embedding_dim\", [64, 128, 256])\n",
    "        dropout_rate = trial.suggest_float(\"dropout_rate\", 0.1, 0.5)\n",
    "        weight_decay = trial.suggest_float(\"weight_decay\", 1e-5, 1e-3, log=True)\n",
    "        criterion = nn.CrossEntropyLoss()\n",
    "        log_hyperparameters(trial)\n",
    "        # Model, loss, and optimizer\n",
    "        # model = IntentClassifierLSTM(cfg.vocab_size, embedding_dim, hidden_dim, cfg.output_dim,dropout_rate).to(device)\n",
    "        model = IntentClassifierLSTMWithAttention(vocab_size, embedding_dim, hidden_dim, output_dim, dropout_rate).to(device)\n",
    "        optimizer = optim.Adam(model.parameters(), lr=lr, weight_decay=weight_decay)\n",
    "        kfold = KFold(n_splits=5, shuffle=True, random_state=42)\n",
    "        fold_val_acc = []\n",
    "\n",
    "        for fold, (train_idx, val_idx) in enumerate(kfold.split(train_df)):\n",
    "            # Prepare fold data\n",
    "            train_data_subset = tokenizer.process_data(train_df.loc[train_idx,:], device=device)\n",
    "            val_data_subset = tokenizer.process_data(train_df.loc[val_idx,:], device=device)\n",
    "            train_subset_loader = DataLoader(train_data_subset, batch_size=batch_size, shuffle=True)\n",
    "            val_subset_loader = DataLoader(val_data_subset, batch_size=batch_size, shuffle=False)\n",
    "            fold_loss = train(model, optimizer, criterion, train_subset_loader, num_epochs)\n",
    "            val_accuracy = evaluate(model,  criterion, val_subset_loader, data_type=\"Validation\")\n",
    "            print(f'Fold: {fold + 1}, Training Loss: {fold_loss:.4f}, Validation Accuracy: {val_accuracy:.4f}')\n",
    "            fold_val_acc.append(val_accuracy)\n",
    "        average_val_acc = sum(fold_val_acc) / len(fold_val_acc)\n",
    "        print(f'Average validation accuracy: {average_val_acc:.4f}')\n",
    "        log_metrics(trial, average_val_acc)\n",
    "    return average_val_acc"
   ]
  },
  {
   "cell_type": "markdown",
   "metadata": {
    "collapsed": false,
    "jupyter": {
     "outputs_hidden": false
    }
   },
   "source": [
    "## Optuna Study for Hyperparameter Optimization\n",
    "Create an experiment in MLflow and run the hyperparameter tuning experiment. The best model is the one with the highest average validation accuracy. You can install the mlflow and optuna using pip install. To start mlflow server, I used the following command\n",
    "`mlflow server --backend-store-uri=sqlite:///mlrunsdb15.db --default-artifact-root=file:mlruns --host 127.0.0.1 --port 1234`\n",
    "Once started, it creates mlruns directory in project root and also a db in the root to log the progress, store models and experiments. In practise, it is installed on a server, and http requests are sent to the server. Anyhow pay close attention to the  Here we keep it simple. Optuna also creates a db to store it's studies. Here we choose 20 tries. For 5 folds cross validation, and 5 epochs each, the study takes less than an hour my M1 machine. Optuna uses Bayesian Parameter Optimization."
   ]
  },
  {
   "cell_type": "code",
   "execution_count": null,
   "metadata": {
    "ExecuteTime": {
     "start_time": "2023-11-22T21:21:42.480510Z"
    },
    "collapsed": false,
    "is_executing": true,
    "jupyter": {
     "outputs_hidden": false
    },
    "scrolled": true
   },
   "outputs": [
    {
     "name": "stdout",
     "output_type": "stream",
     "text": [
      "lr: 0.0029129252046828265, hidden_dim: 32, embedding_dim: 64, dropout_rate: 0.3621992380721305, weight_decay: 0.00013176550053080663\n",
      "Epoch [1/5], Loss: 1.6434, Accuracy: 0.6577\n",
      "Epoch [2/5], Loss: 0.5652, Accuracy: 0.8740\n",
      "Epoch [3/5], Loss: 0.3716, Accuracy: 0.9088\n",
      "Epoch [4/5], Loss: 0.2770, Accuracy: 0.9288\n",
      "Epoch [5/5], Loss: 0.2278, Accuracy: 0.9428\n",
      "Validation Loss: 0.1439\n",
      "Validation Accuracy: 0.9601\n",
      "Fold: 1, Training Loss: 0.2278, Validation Accuracy: 0.9601\n",
      "Epoch [1/5], Loss: 0.1955, Accuracy: 0.9482\n",
      "Epoch [2/5], Loss: 0.1380, Accuracy: 0.9628\n",
      "Epoch [3/5], Loss: 0.1157, Accuracy: 0.9722\n",
      "Epoch [4/5], Loss: 0.1016, Accuracy: 0.9714\n",
      "Epoch [5/5], Loss: 0.0911, Accuracy: 0.9776\n",
      "Validation Loss: 0.1126\n",
      "Validation Accuracy: 0.9763\n",
      "Fold: 2, Training Loss: 0.0911, Validation Accuracy: 0.9763\n",
      "Epoch [1/5], Loss: 0.1024, Accuracy: 0.9728\n",
      "Epoch [2/5], Loss: 0.0865, Accuracy: 0.9768\n",
      "Epoch [3/5], Loss: 0.0652, Accuracy: 0.9819\n",
      "Epoch [4/5], Loss: 0.0525, Accuracy: 0.9860\n",
      "Epoch [5/5], Loss: 0.0496, Accuracy: 0.9862\n",
      "Validation Loss: 0.0462\n",
      "Validation Accuracy: 0.9892\n",
      "Fold: 3, Training Loss: 0.0496, Validation Accuracy: 0.9892\n",
      "Epoch [1/5], Loss: 0.0641, Accuracy: 0.9838\n",
      "Epoch [2/5], Loss: 0.0485, Accuracy: 0.9860\n",
      "Epoch [3/5], Loss: 0.0438, Accuracy: 0.9876\n",
      "Epoch [4/5], Loss: 0.0336, Accuracy: 0.9903\n",
      "Epoch [5/5], Loss: 0.0364, Accuracy: 0.9895\n",
      "Validation Loss: 0.0369\n",
      "Validation Accuracy: 0.9935\n",
      "Fold: 4, Training Loss: 0.0364, Validation Accuracy: 0.9935\n",
      "Epoch [1/5], Loss: 0.0519, Accuracy: 0.9860\n",
      "Epoch [2/5], Loss: 0.0389, Accuracy: 0.9871\n",
      "Epoch [3/5], Loss: 0.0422, Accuracy: 0.9876\n",
      "Epoch [4/5], Loss: 0.0235, Accuracy: 0.9949\n",
      "Epoch [5/5], Loss: 0.0199, Accuracy: 0.9935\n",
      "Validation Loss: 0.0189\n",
      "Validation Accuracy: 0.9968\n",
      "Fold: 5, Training Loss: 0.0199, Validation Accuracy: 0.9968\n",
      "Average validation accuracy: 0.9832\n",
      "lr: 0.00042663166307208396, hidden_dim: 64, embedding_dim: 256, dropout_rate: 0.23824075907113682, weight_decay: 0.0007822407221835895\n",
      "Epoch [1/5], Loss: 2.4541, Accuracy: 0.4907\n",
      "Epoch [2/5], Loss: 1.2085, Accuracy: 0.8241\n",
      "Epoch [3/5], Loss: 0.7186, Accuracy: 0.8783\n",
      "Epoch [4/5], Loss: 0.4649, Accuracy: 0.9172\n",
      "Epoch [5/5], Loss: 0.3402, Accuracy: 0.9307\n",
      "Validation Loss: 0.2267\n",
      "Validation Accuracy: 0.9547\n",
      "Fold: 1, Training Loss: 0.3402, Validation Accuracy: 0.9547\n",
      "Epoch [1/5], Loss: 0.2534, Accuracy: 0.9506\n",
      "Epoch [2/5], Loss: 0.1969, Accuracy: 0.9617\n",
      "Epoch [3/5], Loss: 0.1691, Accuracy: 0.9663\n",
      "Epoch [4/5], Loss: 0.1298, Accuracy: 0.9728\n",
      "Epoch [5/5], Loss: 0.1273, Accuracy: 0.9714\n",
      "Validation Loss: 0.1573\n",
      "Validation Accuracy: 0.9644\n",
      "Fold: 2, Training Loss: 0.1273, Validation Accuracy: 0.9644\n",
      "Epoch [1/5], Loss: 0.1281, Accuracy: 0.9730\n",
      "Epoch [2/5], Loss: 0.0954, Accuracy: 0.9790\n",
      "Epoch [3/5], Loss: 0.0864, Accuracy: 0.9808\n",
      "Epoch [4/5], Loss: 0.0943, Accuracy: 0.9819\n",
      "Epoch [5/5], Loss: 0.0756, Accuracy: 0.9825\n",
      "Validation Loss: 0.0665\n",
      "Validation Accuracy: 0.9752\n",
      "Fold: 3, Training Loss: 0.0756, Validation Accuracy: 0.9752\n",
      "Epoch [1/5], Loss: 0.0879, Accuracy: 0.9803\n",
      "Epoch [2/5], Loss: 0.0927, Accuracy: 0.9765\n",
      "Epoch [3/5], Loss: 0.0630, Accuracy: 0.9838\n",
      "Epoch [4/5], Loss: 0.0468, Accuracy: 0.9900\n",
      "Epoch [5/5], Loss: 0.0550, Accuracy: 0.9895\n",
      "Validation Loss: 0.0348\n",
      "Validation Accuracy: 0.9914\n",
      "Fold: 4, Training Loss: 0.0550, Validation Accuracy: 0.9914\n",
      "Epoch [1/5], Loss: 0.0519, Accuracy: 0.9892\n",
      "Epoch [2/5], Loss: 0.0425, Accuracy: 0.9906\n",
      "Epoch [3/5], Loss: 0.0372, Accuracy: 0.9903\n",
      "Epoch [4/5], Loss: 0.0357, Accuracy: 0.9941\n",
      "Epoch [5/5], Loss: 0.0338, Accuracy: 0.9914\n",
      "Validation Loss: 0.0306\n",
      "Validation Accuracy: 0.9957\n",
      "Fold: 5, Training Loss: 0.0338, Validation Accuracy: 0.9957\n",
      "Average validation accuracy: 0.9763\n",
      "lr: 0.0009363250177949657, hidden_dim: 64, embedding_dim: 64, dropout_rate: 0.15275511722845883, weight_decay: 0.00026170690890851654\n",
      "Epoch [1/5], Loss: 1.8855, Accuracy: 0.6434\n",
      "Epoch [2/5], Loss: 0.6370, Accuracy: 0.8848\n",
      "Epoch [3/5], Loss: 0.3668, Accuracy: 0.9291\n",
      "Epoch [4/5], Loss: 0.2751, Accuracy: 0.9417\n",
      "Epoch [5/5], Loss: 0.2245, Accuracy: 0.9490\n",
      "Validation Loss: 0.1990\n",
      "Validation Accuracy: 0.9612\n",
      "Fold: 1, Training Loss: 0.2245, Validation Accuracy: 0.9612\n",
      "Epoch [1/5], Loss: 0.1761, Accuracy: 0.9566\n",
      "Epoch [2/5], Loss: 0.1422, Accuracy: 0.9671\n",
      "Epoch [3/5], Loss: 0.1225, Accuracy: 0.9728\n",
      "Epoch [4/5], Loss: 0.1022, Accuracy: 0.9733\n",
      "Epoch [5/5], Loss: 0.0960, Accuracy: 0.9779\n",
      "Validation Loss: 0.1059\n",
      "Validation Accuracy: 0.9730\n",
      "Fold: 2, Training Loss: 0.0960, Validation Accuracy: 0.9730\n",
      "Epoch [1/5], Loss: 0.0789, Accuracy: 0.9784\n",
      "Epoch [2/5], Loss: 0.0857, Accuracy: 0.9773\n",
      "Epoch [3/5], Loss: 0.0737, Accuracy: 0.9806\n",
      "Epoch [4/5], Loss: 0.0559, Accuracy: 0.9860\n",
      "Epoch [5/5], Loss: 0.0485, Accuracy: 0.9881\n",
      "Validation Loss: 0.0531\n",
      "Validation Accuracy: 0.9849\n",
      "Fold: 3, Training Loss: 0.0485, Validation Accuracy: 0.9849\n",
      "Epoch [1/5], Loss: 0.0526, Accuracy: 0.9884\n",
      "Epoch [2/5], Loss: 0.0559, Accuracy: 0.9868\n",
      "Epoch [3/5], Loss: 0.0487, Accuracy: 0.9884\n",
      "Epoch [4/5], Loss: 0.0427, Accuracy: 0.9889\n",
      "Epoch [5/5], Loss: 0.0442, Accuracy: 0.9897\n",
      "Validation Loss: 0.0366\n",
      "Validation Accuracy: 0.9914\n",
      "Fold: 4, Training Loss: 0.0442, Validation Accuracy: 0.9914\n",
      "Epoch [1/5], Loss: 0.0511, Accuracy: 0.9892\n",
      "Epoch [2/5], Loss: 0.0463, Accuracy: 0.9887\n",
      "Epoch [3/5], Loss: 0.0373, Accuracy: 0.9895\n",
      "Epoch [4/5], Loss: 0.0329, Accuracy: 0.9919\n",
      "Epoch [5/5], Loss: 0.0236, Accuracy: 0.9933\n",
      "Validation Loss: 0.0146\n",
      "Validation Accuracy: 0.9957\n",
      "Fold: 5, Training Loss: 0.0236, Validation Accuracy: 0.9957\n",
      "Average validation accuracy: 0.9812\n",
      "lr: 0.0019306271624527735, hidden_dim: 256, embedding_dim: 64, dropout_rate: 0.3102034561712219, weight_decay: 2.3573421916177962e-05\n",
      "Epoch [1/5], Loss: 1.2998, Accuracy: 0.7505\n",
      "Epoch [2/5], Loss: 0.4445, Accuracy: 0.8996\n",
      "Epoch [3/5], Loss: 0.3067, Accuracy: 0.9255\n",
      "Epoch [4/5], Loss: 0.2194, Accuracy: 0.9439\n",
      "Epoch [5/5], Loss: 0.1452, Accuracy: 0.9612\n",
      "Validation Loss: 0.0949\n",
      "Validation Accuracy: 0.9773\n",
      "Fold: 1, Training Loss: 0.1452, Validation Accuracy: 0.9773\n",
      "Epoch [1/5], Loss: 0.1479, Accuracy: 0.9595\n",
      "Epoch [2/5], Loss: 0.1205, Accuracy: 0.9665\n",
      "Epoch [3/5], Loss: 0.1007, Accuracy: 0.9757\n",
      "Epoch [4/5], Loss: 0.0735, Accuracy: 0.9795\n",
      "Epoch [5/5], Loss: 0.0717, Accuracy: 0.9814\n",
      "Validation Loss: 0.0967\n",
      "Validation Accuracy: 0.9827\n",
      "Fold: 2, Training Loss: 0.0717, Validation Accuracy: 0.9827\n",
      "Epoch [1/5], Loss: 0.0932, Accuracy: 0.9781\n",
      "Epoch [2/5], Loss: 0.0711, Accuracy: 0.9827\n",
      "Epoch [3/5], Loss: 0.0447, Accuracy: 0.9873\n",
      "Epoch [4/5], Loss: 0.0521, Accuracy: 0.9857\n",
      "Epoch [5/5], Loss: 0.0301, Accuracy: 0.9924\n",
      "Validation Loss: 0.0806\n",
      "Validation Accuracy: 0.9871\n",
      "Fold: 3, Training Loss: 0.0301, Validation Accuracy: 0.9871\n",
      "Epoch [1/5], Loss: 0.0793, Accuracy: 0.9835\n",
      "Epoch [2/5], Loss: 0.0570, Accuracy: 0.9879\n",
      "Epoch [3/5], Loss: 0.0344, Accuracy: 0.9884\n",
      "Epoch [4/5], Loss: 0.0180, Accuracy: 0.9941\n",
      "Epoch [5/5], Loss: 0.0403, Accuracy: 0.9889\n",
      "Validation Loss: 0.0285\n",
      "Validation Accuracy: 0.9946\n",
      "Fold: 4, Training Loss: 0.0403, Validation Accuracy: 0.9946\n",
      "Epoch [1/5], Loss: 0.0380, Accuracy: 0.9889\n",
      "Epoch [2/5], Loss: 0.0315, Accuracy: 0.9898\n",
      "Epoch [3/5], Loss: 0.0328, Accuracy: 0.9911\n",
      "Epoch [4/5], Loss: 0.0242, Accuracy: 0.9930\n",
      "Epoch [5/5], Loss: 0.0146, Accuracy: 0.9954\n",
      "Validation Loss: 0.0203\n",
      "Validation Accuracy: 0.9968\n",
      "Fold: 5, Training Loss: 0.0146, Validation Accuracy: 0.9968\n",
      "Average validation accuracy: 0.9877\n",
      "lr: 0.0005667417892925576, hidden_dim: 32, embedding_dim: 64, dropout_rate: 0.21251608484978815, weight_decay: 0.0009593995512801034\n",
      "Epoch [1/5], Loss: 2.9054, Accuracy: 0.3205\n",
      "Epoch [2/5], Loss: 1.7355, Accuracy: 0.7243\n",
      "Epoch [3/5], Loss: 1.0474, Accuracy: 0.8301\n",
      "Epoch [4/5], Loss: 0.7127, Accuracy: 0.8700\n",
      "Epoch [5/5], Loss: 0.5669, Accuracy: 0.8875\n",
      "Validation Loss: 0.3708\n",
      "Validation Accuracy: 0.9234\n",
      "Fold: 1, Training Loss: 0.5669, Validation Accuracy: 0.9234\n",
      "Epoch [1/5], Loss: 0.4745, Accuracy: 0.9018\n",
      "Epoch [2/5], Loss: 0.4061, Accuracy: 0.9123\n",
      "Epoch [3/5], Loss: 0.3488, Accuracy: 0.9261\n",
      "Epoch [4/5], Loss: 0.2954, Accuracy: 0.9320\n",
      "Epoch [5/5], Loss: 0.2999, Accuracy: 0.9312\n",
      "Validation Loss: 0.2614\n",
      "Validation Accuracy: 0.9342\n",
      "Fold: 2, Training Loss: 0.2999, Validation Accuracy: 0.9342\n",
      "Epoch [1/5], Loss: 0.2735, Accuracy: 0.9350\n",
      "Epoch [2/5], Loss: 0.2495, Accuracy: 0.9388\n",
      "Epoch [3/5], Loss: 0.2328, Accuracy: 0.9452\n",
      "Epoch [4/5], Loss: 0.2042, Accuracy: 0.9523\n",
      "Epoch [5/5], Loss: 0.2033, Accuracy: 0.9493\n",
      "Validation Loss: 0.1453\n",
      "Validation Accuracy: 0.9687\n",
      "Fold: 3, Training Loss: 0.2033, Validation Accuracy: 0.9687\n",
      "Epoch [1/5], Loss: 0.1686, Accuracy: 0.9598\n",
      "Epoch [2/5], Loss: 0.1660, Accuracy: 0.9620\n",
      "Epoch [3/5], Loss: 0.1591, Accuracy: 0.9582\n",
      "Epoch [4/5], Loss: 0.1537, Accuracy: 0.9625\n",
      "Epoch [5/5], Loss: 0.1381, Accuracy: 0.9682\n",
      "Validation Loss: 0.1172\n",
      "Validation Accuracy: 0.9687\n",
      "Fold: 4, Training Loss: 0.1381, Validation Accuracy: 0.9687\n",
      "Epoch [1/5], Loss: 0.1237, Accuracy: 0.9711\n",
      "Epoch [2/5], Loss: 0.1248, Accuracy: 0.9698\n",
      "Epoch [3/5], Loss: 0.1171, Accuracy: 0.9720\n",
      "Epoch [4/5], Loss: 0.1023, Accuracy: 0.9728\n",
      "Epoch [5/5], Loss: 0.0934, Accuracy: 0.9790\n",
      "Validation Loss: 0.0859\n",
      "Validation Accuracy: 0.9806\n",
      "Fold: 5, Training Loss: 0.0934, Validation Accuracy: 0.9806\n",
      "Average validation accuracy: 0.9551\n",
      "lr: 0.0002164484816971705, hidden_dim: 256, embedding_dim: 256, dropout_rate: 0.49805696744169203, weight_decay: 0.00016030795555623486\n",
      "Epoch [1/5], Loss: 2.2293, Accuracy: 0.5357\n",
      "Epoch [2/5], Loss: 1.0290, Accuracy: 0.8279\n",
      "Epoch [3/5], Loss: 0.6182, Accuracy: 0.8951\n",
      "Epoch [4/5], Loss: 0.4647, Accuracy: 0.9123\n",
      "Epoch [5/5], Loss: 0.3849, Accuracy: 0.9242\n",
      "Validation Loss: 0.1729\n",
      "Validation Accuracy: 0.9633\n",
      "Fold: 1, Training Loss: 0.3849, Validation Accuracy: 0.9633\n",
      "Epoch [1/5], Loss: 0.3150, Accuracy: 0.9380\n",
      "Epoch [2/5], Loss: 0.2883, Accuracy: 0.9420\n",
      "Epoch [3/5], Loss: 0.2220, Accuracy: 0.9531\n",
      "Epoch [4/5], Loss: 0.1924, Accuracy: 0.9587\n",
      "Epoch [5/5], Loss: 0.1578, Accuracy: 0.9668\n",
      "Validation Loss: 0.1949\n",
      "Validation Accuracy: 0.9655\n",
      "Fold: 2, Training Loss: 0.1578, Validation Accuracy: 0.9655\n",
      "Epoch [1/5], Loss: 0.1667, Accuracy: 0.9641\n",
      "Epoch [2/5], Loss: 0.1689, Accuracy: 0.9674\n",
      "Epoch [3/5], Loss: 0.1111, Accuracy: 0.9757\n",
      "Epoch [4/5], Loss: 0.1124, Accuracy: 0.9744\n",
      "Epoch [5/5], Loss: 0.1167, Accuracy: 0.9736\n",
      "Validation Loss: 0.0764\n",
      "Validation Accuracy: 0.9795\n",
      "Fold: 3, Training Loss: 0.1167, Validation Accuracy: 0.9795\n",
      "Epoch [1/5], Loss: 0.1052, Accuracy: 0.9781\n",
      "Epoch [2/5], Loss: 0.0936, Accuracy: 0.9795\n",
      "Epoch [3/5], Loss: 0.0877, Accuracy: 0.9803\n",
      "Epoch [4/5], Loss: 0.0871, Accuracy: 0.9822\n",
      "Epoch [5/5], Loss: 0.0900, Accuracy: 0.9817\n",
      "Validation Loss: 0.0526\n",
      "Validation Accuracy: 0.9892\n",
      "Fold: 4, Training Loss: 0.0900, Validation Accuracy: 0.9892\n",
      "Epoch [1/5], Loss: 0.0767, Accuracy: 0.9800\n",
      "Epoch [2/5], Loss: 0.0740, Accuracy: 0.9857\n",
      "Epoch [3/5], Loss: 0.0855, Accuracy: 0.9830\n",
      "Epoch [4/5], Loss: 0.0512, Accuracy: 0.9873\n",
      "Epoch [5/5], Loss: 0.0566, Accuracy: 0.9854\n",
      "Validation Loss: 0.0327\n",
      "Validation Accuracy: 0.9903\n",
      "Fold: 5, Training Loss: 0.0566, Validation Accuracy: 0.9903\n",
      "Average validation accuracy: 0.9776\n",
      "lr: 0.0011475727064983526, hidden_dim: 32, embedding_dim: 128, dropout_rate: 0.4407942782141593, weight_decay: 0.0008575047626867207\n",
      "Epoch [1/5], Loss: 2.4296, Accuracy: 0.4826\n",
      "Epoch [2/5], Loss: 1.0866, Accuracy: 0.8052\n",
      "Epoch [3/5], Loss: 0.6263, Accuracy: 0.8657\n",
      "Epoch [4/5], Loss: 0.4516, Accuracy: 0.8918\n",
      "Epoch [5/5], Loss: 0.3603, Accuracy: 0.9131\n",
      "Validation Loss: 0.2020\n",
      "Validation Accuracy: 0.9493\n",
      "Fold: 1, Training Loss: 0.3603, Validation Accuracy: 0.9493\n",
      "Epoch [1/5], Loss: 0.2857, Accuracy: 0.9280\n",
      "Epoch [2/5], Loss: 0.2267, Accuracy: 0.9485\n",
      "Epoch [3/5], Loss: 0.2022, Accuracy: 0.9477\n",
      "Epoch [4/5], Loss: 0.1704, Accuracy: 0.9547\n",
      "Epoch [5/5], Loss: 0.1456, Accuracy: 0.9639\n",
      "Validation Loss: 0.1714\n",
      "Validation Accuracy: 0.9644\n",
      "Fold: 2, Training Loss: 0.1456, Validation Accuracy: 0.9644\n",
      "Epoch [1/5], Loss: 0.1567, Accuracy: 0.9612\n",
      "Epoch [2/5], Loss: 0.1432, Accuracy: 0.9614\n",
      "Epoch [3/5], Loss: 0.1180, Accuracy: 0.9690\n",
      "Epoch [4/5], Loss: 0.1111, Accuracy: 0.9701\n",
      "Epoch [5/5], Loss: 0.0998, Accuracy: 0.9730\n",
      "Validation Loss: 0.0709\n",
      "Validation Accuracy: 0.9784\n",
      "Fold: 3, Training Loss: 0.0998, Validation Accuracy: 0.9784\n",
      "Epoch [1/5], Loss: 0.1099, Accuracy: 0.9717\n",
      "Epoch [2/5], Loss: 0.0896, Accuracy: 0.9771\n",
      "Epoch [3/5], Loss: 0.0743, Accuracy: 0.9830\n",
      "Epoch [4/5], Loss: 0.0855, Accuracy: 0.9757\n",
      "Epoch [5/5], Loss: 0.0846, Accuracy: 0.9787\n",
      "Validation Loss: 0.0648\n",
      "Validation Accuracy: 0.9817\n",
      "Fold: 4, Training Loss: 0.0846, Validation Accuracy: 0.9817\n",
      "Epoch [1/5], Loss: 0.0831, Accuracy: 0.9792\n",
      "Epoch [2/5], Loss: 0.0649, Accuracy: 0.9811\n",
      "Epoch [3/5], Loss: 0.0610, Accuracy: 0.9825\n",
      "Epoch [4/5], Loss: 0.0648, Accuracy: 0.9838\n",
      "Epoch [5/5], Loss: 0.0531, Accuracy: 0.9860\n",
      "Validation Loss: 0.0553\n",
      "Validation Accuracy: 0.9827\n",
      "Fold: 5, Training Loss: 0.0531, Validation Accuracy: 0.9827\n",
      "Average validation accuracy: 0.9713\n",
      "lr: 0.00010701569908803908, hidden_dim: 64, embedding_dim: 256, dropout_rate: 0.3292984614097956, weight_decay: 0.0009075457811180413\n",
      "Epoch [1/5], Loss: 3.0123, Accuracy: 0.1815\n",
      "Epoch [2/5], Loss: 2.5967, Accuracy: 0.4492\n",
      "Epoch [3/5], Loss: 2.0838, Accuracy: 0.6647\n",
      "Epoch [4/5], Loss: 1.7218, Accuracy: 0.7383\n",
      "Epoch [5/5], Loss: 1.5003, Accuracy: 0.7826\n",
      "Validation Loss: 0.6869\n",
      "Validation Accuracy: 0.8533\n",
      "Fold: 1, Training Loss: 1.5003, Validation Accuracy: 0.8533\n",
      "Epoch [1/5], Loss: 1.2636, Accuracy: 0.8093\n",
      "Epoch [2/5], Loss: 1.1180, Accuracy: 0.8301\n",
      "Epoch [3/5], Loss: 1.0013, Accuracy: 0.8403\n",
      "Epoch [4/5], Loss: 0.8946, Accuracy: 0.8543\n",
      "Epoch [5/5], Loss: 0.7509, Accuracy: 0.8724\n",
      "Validation Loss: 0.5088\n",
      "Validation Accuracy: 0.8813\n",
      "Fold: 2, Training Loss: 0.7509, Validation Accuracy: 0.8813\n",
      "Epoch [1/5], Loss: 0.6594, Accuracy: 0.8851\n",
      "Epoch [2/5], Loss: 0.5895, Accuracy: 0.8932\n",
      "Epoch [3/5], Loss: 0.5063, Accuracy: 0.9050\n",
      "Epoch [4/5], Loss: 0.4861, Accuracy: 0.9094\n",
      "Epoch [5/5], Loss: 0.4309, Accuracy: 0.9164\n",
      "Validation Loss: 0.3168\n",
      "Validation Accuracy: 0.9299\n",
      "Fold: 3, Training Loss: 0.4309, Validation Accuracy: 0.9299\n",
      "Epoch [1/5], Loss: 0.4074, Accuracy: 0.9226\n",
      "Epoch [2/5], Loss: 0.3720, Accuracy: 0.9315\n",
      "Epoch [3/5], Loss: 0.3502, Accuracy: 0.9331\n",
      "Epoch [4/5], Loss: 0.3066, Accuracy: 0.9404\n",
      "Epoch [5/5], Loss: 0.3083, Accuracy: 0.9407\n",
      "Validation Loss: 0.2625\n",
      "Validation Accuracy: 0.9461\n",
      "Fold: 4, Training Loss: 0.3083, Validation Accuracy: 0.9461\n",
      "Epoch [1/5], Loss: 0.3003, Accuracy: 0.9369\n",
      "Epoch [2/5], Loss: 0.2856, Accuracy: 0.9436\n",
      "Epoch [3/5], Loss: 0.2587, Accuracy: 0.9474\n",
      "Epoch [4/5], Loss: 0.2534, Accuracy: 0.9496\n",
      "Epoch [5/5], Loss: 0.2291, Accuracy: 0.9512\n",
      "Validation Loss: 0.1491\n",
      "Validation Accuracy: 0.9687\n",
      "Fold: 5, Training Loss: 0.2291, Validation Accuracy: 0.9687\n",
      "Average validation accuracy: 0.9159\n",
      "lr: 0.00013014074936416593, hidden_dim: 64, embedding_dim: 128, dropout_rate: 0.3248277123880601, weight_decay: 0.000155659546605856\n",
      "Epoch [1/5], Loss: 3.0554, Accuracy: 0.1481\n",
      "Epoch [2/5], Loss: 2.5271, Accuracy: 0.4872\n",
      "Epoch [3/5], Loss: 1.9949, Accuracy: 0.6712\n",
      "Epoch [4/5], Loss: 1.6086, Accuracy: 0.7526\n",
      "Epoch [5/5], Loss: 1.3360, Accuracy: 0.7920\n",
      "Validation Loss: 0.6692\n",
      "Validation Accuracy: 0.8684\n",
      "Fold: 1, Training Loss: 1.3360, Validation Accuracy: 0.8684\n",
      "Epoch [1/5], Loss: 1.0970, Accuracy: 0.8284\n",
      "Epoch [2/5], Loss: 0.9057, Accuracy: 0.8576\n",
      "Epoch [3/5], Loss: 0.7719, Accuracy: 0.8727\n",
      "Epoch [4/5], Loss: 0.6732, Accuracy: 0.8870\n",
      "Epoch [5/5], Loss: 0.6074, Accuracy: 0.8932\n",
      "Validation Loss: 0.4378\n",
      "Validation Accuracy: 0.9148\n",
      "Fold: 2, Training Loss: 0.6074, Validation Accuracy: 0.9148\n",
      "Epoch [1/5], Loss: 0.5451, Accuracy: 0.9034\n",
      "Epoch [2/5], Loss: 0.4674, Accuracy: 0.9096\n",
      "Epoch [3/5], Loss: 0.4387, Accuracy: 0.9164\n",
      "Epoch [4/5], Loss: 0.4007, Accuracy: 0.9228\n",
      "Epoch [5/5], Loss: 0.3890, Accuracy: 0.9188\n",
      "Validation Loss: 0.2766\n",
      "Validation Accuracy: 0.9310\n",
      "Fold: 3, Training Loss: 0.3890, Validation Accuracy: 0.9310\n",
      "Epoch [1/5], Loss: 0.3598, Accuracy: 0.9264\n",
      "Epoch [2/5], Loss: 0.3331, Accuracy: 0.9288\n",
      "Epoch [3/5], Loss: 0.3567, Accuracy: 0.9274\n",
      "Epoch [4/5], Loss: 0.3262, Accuracy: 0.9272\n",
      "Epoch [5/5], Loss: 0.3018, Accuracy: 0.9355\n",
      "Validation Loss: 0.2183\n",
      "Validation Accuracy: 0.9439\n",
      "Fold: 4, Training Loss: 0.3018, Validation Accuracy: 0.9439\n",
      "Epoch [1/5], Loss: 0.3038, Accuracy: 0.9347\n",
      "Epoch [2/5], Loss: 0.2665, Accuracy: 0.9396\n",
      "Epoch [3/5], Loss: 0.2477, Accuracy: 0.9444\n",
      "Epoch [4/5], Loss: 0.2242, Accuracy: 0.9469\n",
      "Epoch [5/5], Loss: 0.2232, Accuracy: 0.9504\n",
      "Validation Loss: 0.1414\n",
      "Validation Accuracy: 0.9665\n",
      "Fold: 5, Training Loss: 0.2232, Validation Accuracy: 0.9665\n",
      "Average validation accuracy: 0.9249\n",
      "lr: 0.006589223839688729, hidden_dim: 32, embedding_dim: 128, dropout_rate: 0.3585457247281617, weight_decay: 0.000937125269439999\n",
      "Epoch [1/5], Loss: 1.0567, Accuracy: 0.7742\n",
      "Epoch [2/5], Loss: 0.3475, Accuracy: 0.9191\n",
      "Epoch [3/5], Loss: 0.2176, Accuracy: 0.9428\n",
      "Epoch [4/5], Loss: 0.1479, Accuracy: 0.9625\n",
      "Epoch [5/5], Loss: 0.1528, Accuracy: 0.9595\n",
      "Validation Loss: 0.1069\n",
      "Validation Accuracy: 0.9773\n",
      "Fold: 1, Training Loss: 0.1528, Validation Accuracy: 0.9773\n",
      "Epoch [1/5], Loss: 0.1151, Accuracy: 0.9730\n",
      "Epoch [2/5], Loss: 0.0814, Accuracy: 0.9800\n",
      "Epoch [3/5], Loss: 0.1009, Accuracy: 0.9744\n",
      "Epoch [4/5], Loss: 0.0926, Accuracy: 0.9736\n",
      "Epoch [5/5], Loss: 0.0829, Accuracy: 0.9760\n",
      "Validation Loss: 0.1360\n",
      "Validation Accuracy: 0.9741\n",
      "Fold: 2, Training Loss: 0.0829, Validation Accuracy: 0.9741\n",
      "Epoch [1/5], Loss: 0.1111, Accuracy: 0.9703\n",
      "Epoch [2/5], Loss: 0.0835, Accuracy: 0.9784\n",
      "Epoch [3/5], Loss: 0.0770, Accuracy: 0.9795\n",
      "Epoch [4/5], Loss: 0.1037, Accuracy: 0.9733\n",
      "Epoch [5/5], Loss: 0.0678, Accuracy: 0.9817\n",
      "Validation Loss: 0.0933\n",
      "Validation Accuracy: 0.9676\n",
      "Fold: 3, Training Loss: 0.0678, Validation Accuracy: 0.9676\n",
      "Epoch [1/5], Loss: 0.0989, Accuracy: 0.9752\n",
      "Epoch [2/5], Loss: 0.0774, Accuracy: 0.9784\n",
      "Epoch [3/5], Loss: 0.0799, Accuracy: 0.9792\n",
      "Epoch [4/5], Loss: 0.0761, Accuracy: 0.9814\n",
      "Epoch [5/5], Loss: 0.1014, Accuracy: 0.9722\n",
      "Validation Loss: 0.0916\n",
      "Validation Accuracy: 0.9827\n",
      "Fold: 4, Training Loss: 0.1014, Validation Accuracy: 0.9827\n",
      "Epoch [1/5], Loss: 0.0804, Accuracy: 0.9806\n",
      "Epoch [2/5], Loss: 0.0731, Accuracy: 0.9795\n",
      "Epoch [3/5], Loss: 0.0585, Accuracy: 0.9835\n",
      "Epoch [4/5], Loss: 0.0863, Accuracy: 0.9765\n",
      "Epoch [5/5], Loss: 0.0789, Accuracy: 0.9757\n",
      "Validation Loss: 0.0840\n",
      "Validation Accuracy: 0.9762\n",
      "Fold: 5, Training Loss: 0.0789, Validation Accuracy: 0.9762\n",
      "Average validation accuracy: 0.9756\n",
      "lr: 0.0026138818501543195, hidden_dim: 256, embedding_dim: 64, dropout_rate: 0.10368236220109026, weight_decay: 1.4377486575365003e-05\n",
      "Epoch [1/5], Loss: 1.0932, Accuracy: 0.8001\n",
      "Epoch [2/5], Loss: 0.3564, Accuracy: 0.9204\n",
      "Epoch [3/5], Loss: 0.2013, Accuracy: 0.9496\n",
      "Epoch [4/5], Loss: 0.1230, Accuracy: 0.9671\n",
      "Epoch [5/5], Loss: 0.0906, Accuracy: 0.9792\n",
      "Validation Loss: 0.1261\n",
      "Validation Accuracy: 0.9795\n",
      "Fold: 1, Training Loss: 0.0906, Validation Accuracy: 0.9795\n",
      "Epoch [1/5], Loss: 0.1041, Accuracy: 0.9725\n",
      "Epoch [2/5], Loss: 0.0843, Accuracy: 0.9814\n",
      "Epoch [3/5], Loss: 0.0580, Accuracy: 0.9862\n",
      "Epoch [4/5], Loss: 0.0367, Accuracy: 0.9914\n",
      "Epoch [5/5], Loss: 0.0389, Accuracy: 0.9911\n",
      "Validation Loss: 0.1026\n",
      "Validation Accuracy: 0.9838\n",
      "Fold: 2, Training Loss: 0.0389, Validation Accuracy: 0.9838\n",
      "Epoch [1/5], Loss: 0.0526, Accuracy: 0.9862\n",
      "Epoch [2/5], Loss: 0.0527, Accuracy: 0.9876\n",
      "Epoch [3/5], Loss: 0.0482, Accuracy: 0.9881\n",
      "Epoch [4/5], Loss: 0.0368, Accuracy: 0.9889\n",
      "Epoch [5/5], Loss: 0.0153, Accuracy: 0.9973\n",
      "Validation Loss: 0.0413\n",
      "Validation Accuracy: 0.9935\n",
      "Fold: 3, Training Loss: 0.0153, Validation Accuracy: 0.9935\n",
      "Epoch [1/5], Loss: 0.0356, Accuracy: 0.9914\n",
      "Epoch [2/5], Loss: 0.0170, Accuracy: 0.9951\n",
      "Epoch [3/5], Loss: 0.0229, Accuracy: 0.9938\n",
      "Epoch [4/5], Loss: 0.0248, Accuracy: 0.9954\n",
      "Epoch [5/5], Loss: 0.0140, Accuracy: 0.9962\n",
      "Validation Loss: 0.0130\n",
      "Validation Accuracy: 0.9978\n",
      "Fold: 4, Training Loss: 0.0140, Validation Accuracy: 0.9978\n",
      "Epoch [1/5], Loss: 0.0172, Accuracy: 0.9949\n",
      "Epoch [2/5], Loss: 0.0322, Accuracy: 0.9916\n",
      "Epoch [3/5], Loss: 0.0362, Accuracy: 0.9900\n",
      "Epoch [4/5], Loss: 0.0274, Accuracy: 0.9927\n",
      "Epoch [5/5], Loss: 0.0210, Accuracy: 0.9949\n",
      "Validation Loss: 0.0142\n",
      "Validation Accuracy: 0.9968\n",
      "Fold: 5, Training Loss: 0.0210, Validation Accuracy: 0.9968\n",
      "Average validation accuracy: 0.9903\n",
      "lr: 0.0022945653378163328, hidden_dim: 256, embedding_dim: 64, dropout_rate: 0.10392348868429363, weight_decay: 1.3864709082302738e-05\n",
      "Epoch [1/5], Loss: 0.9887, Accuracy: 0.8069\n",
      "Epoch [2/5], Loss: 0.3267, Accuracy: 0.9218\n",
      "Epoch [3/5], Loss: 0.2402, Accuracy: 0.9420\n",
      "Epoch [4/5], Loss: 0.1570, Accuracy: 0.9617\n",
      "Epoch [5/5], Loss: 0.1301, Accuracy: 0.9665\n",
      "Validation Loss: 0.1339\n",
      "Validation Accuracy: 0.9730\n",
      "Fold: 1, Training Loss: 0.1301, Validation Accuracy: 0.9730\n",
      "Epoch [1/5], Loss: 0.1183, Accuracy: 0.9746\n",
      "Epoch [2/5], Loss: 0.0864, Accuracy: 0.9830\n",
      "Epoch [3/5], Loss: 0.0683, Accuracy: 0.9841\n",
      "Epoch [4/5], Loss: 0.0541, Accuracy: 0.9860\n",
      "Epoch [5/5], Loss: 0.0462, Accuracy: 0.9906\n",
      "Validation Loss: 0.0681\n",
      "Validation Accuracy: 0.9903\n",
      "Fold: 2, Training Loss: 0.0462, Validation Accuracy: 0.9903\n",
      "Epoch [1/5], Loss: 0.0552, Accuracy: 0.9849\n",
      "Epoch [2/5], Loss: 0.0427, Accuracy: 0.9900\n",
      "Epoch [3/5], Loss: 0.0283, Accuracy: 0.9933\n",
      "Epoch [4/5], Loss: 0.0286, Accuracy: 0.9924\n",
      "Epoch [5/5], Loss: 0.0282, Accuracy: 0.9924\n",
      "Validation Loss: 0.0630\n",
      "Validation Accuracy: 0.9871\n",
      "Fold: 3, Training Loss: 0.0282, Validation Accuracy: 0.9871\n",
      "Epoch [1/5], Loss: 0.0402, Accuracy: 0.9906\n",
      "Epoch [2/5], Loss: 0.0599, Accuracy: 0.9868\n",
      "Epoch [3/5], Loss: 0.0255, Accuracy: 0.9949\n",
      "Epoch [4/5], Loss: 0.0243, Accuracy: 0.9954\n",
      "Epoch [5/5], Loss: 0.0197, Accuracy: 0.9960\n",
      "Validation Loss: 0.0243\n",
      "Validation Accuracy: 0.9903\n",
      "Fold: 4, Training Loss: 0.0197, Validation Accuracy: 0.9903\n",
      "Epoch [1/5], Loss: 0.0235, Accuracy: 0.9941\n",
      "Epoch [2/5], Loss: 0.0164, Accuracy: 0.9951\n",
      "Epoch [3/5], Loss: 0.0231, Accuracy: 0.9938\n",
      "Epoch [4/5], Loss: 0.0380, Accuracy: 0.9927\n",
      "Epoch [5/5], Loss: 0.0127, Accuracy: 0.9962\n",
      "Validation Loss: 0.0165\n",
      "Validation Accuracy: 0.9968\n",
      "Fold: 5, Training Loss: 0.0127, Validation Accuracy: 0.9968\n",
      "Average validation accuracy: 0.9875\n",
      "lr: 0.006001595549748373, hidden_dim: 256, embedding_dim: 64, dropout_rate: 0.25156577714190204, weight_decay: 1.3000956420893785e-05\n",
      "Epoch [1/5], Loss: 1.0774, Accuracy: 0.7950\n",
      "Epoch [2/5], Loss: 0.3765, Accuracy: 0.9050\n",
      "Epoch [3/5], Loss: 0.2524, Accuracy: 0.9396\n",
      "Epoch [4/5], Loss: 0.1744, Accuracy: 0.9568\n",
      "Epoch [5/5], Loss: 0.1445, Accuracy: 0.9633\n",
      "Validation Loss: 0.1247\n",
      "Validation Accuracy: 0.9720\n",
      "Fold: 1, Training Loss: 0.1445, Validation Accuracy: 0.9720\n",
      "Epoch [1/5], Loss: 0.1335, Accuracy: 0.9692\n",
      "Epoch [2/5], Loss: 0.1117, Accuracy: 0.9773\n",
      "Epoch [3/5], Loss: 0.1002, Accuracy: 0.9752\n",
      "Epoch [4/5], Loss: 0.0669, Accuracy: 0.9854\n",
      "Epoch [5/5], Loss: 0.0428, Accuracy: 0.9879\n",
      "Validation Loss: 0.1257\n",
      "Validation Accuracy: 0.9763\n",
      "Fold: 2, Training Loss: 0.0428, Validation Accuracy: 0.9763\n",
      "Epoch [1/5], Loss: 0.0691, Accuracy: 0.9868\n",
      "Epoch [2/5], Loss: 0.0369, Accuracy: 0.9906\n",
      "Epoch [3/5], Loss: 0.0377, Accuracy: 0.9922\n",
      "Epoch [4/5], Loss: 0.0409, Accuracy: 0.9906\n",
      "Epoch [5/5], Loss: 0.0352, Accuracy: 0.9914\n",
      "Validation Loss: 0.0683\n",
      "Validation Accuracy: 0.9871\n",
      "Fold: 3, Training Loss: 0.0352, Validation Accuracy: 0.9871\n",
      "Epoch [1/5], Loss: 0.0576, Accuracy: 0.9873\n",
      "Epoch [2/5], Loss: 0.0468, Accuracy: 0.9889\n",
      "Epoch [3/5], Loss: 0.0338, Accuracy: 0.9927\n",
      "Epoch [4/5], Loss: 0.0335, Accuracy: 0.9911\n",
      "Epoch [5/5], Loss: 0.0327, Accuracy: 0.9914\n",
      "Validation Loss: 0.0110\n",
      "Validation Accuracy: 0.9957\n",
      "Fold: 4, Training Loss: 0.0327, Validation Accuracy: 0.9957\n",
      "Epoch [1/5], Loss: 0.0241, Accuracy: 0.9946\n",
      "Epoch [2/5], Loss: 0.0354, Accuracy: 0.9900\n",
      "Epoch [3/5], Loss: 0.0379, Accuracy: 0.9914\n",
      "Epoch [4/5], Loss: 0.0748, Accuracy: 0.9809\n",
      "Epoch [5/5], Loss: 0.0424, Accuracy: 0.9889\n",
      "Validation Loss: 0.0113\n",
      "Validation Accuracy: 0.9968\n",
      "Fold: 5, Training Loss: 0.0424, Validation Accuracy: 0.9968\n",
      "Average validation accuracy: 0.9855\n",
      "lr: 0.002445559274634001, hidden_dim: 256, embedding_dim: 64, dropout_rate: 0.10855430683762912, weight_decay: 2.803266697129988e-05\n",
      "Epoch [1/5], Loss: 0.9501, Accuracy: 0.8158\n",
      "Epoch [2/5], Loss: 0.3594, Accuracy: 0.9228\n",
      "Epoch [3/5], Loss: 0.2544, Accuracy: 0.9417\n",
      "Epoch [4/5], Loss: 0.1638, Accuracy: 0.9603\n",
      "Epoch [5/5], Loss: 0.1238, Accuracy: 0.9703\n",
      "Validation Loss: 0.1656\n",
      "Validation Accuracy: 0.9730\n",
      "Fold: 1, Training Loss: 0.1238, Validation Accuracy: 0.9730\n",
      "Epoch [1/5], Loss: 0.1280, Accuracy: 0.9690\n",
      "Epoch [2/5], Loss: 0.0918, Accuracy: 0.9795\n",
      "Epoch [3/5], Loss: 0.0733, Accuracy: 0.9808\n"
     ]
    }
   ],
   "source": [
    "mlflow.set_tracking_uri('http://127.0.0.1:1234')\n",
    "study_name = \"IntentClassifierLSTMWithAttention_small\"\n",
    "optuna.logging.get_logger(\"optuna\").addHandler(logging.StreamHandler(sys.stdout))\n",
    "storage_name = \"sqlite:///{}.db\".format(study_name)\n",
    "study = optuna.create_study(study_name=study_name, storage=storage_name,load_if_exists=True,direction=\"maximize\")\n",
    "study.optimize(objective, n_trials=20)\n",
    "best_trial = study.best_trial"
   ]
  },
  {
   "cell_type": "markdown",
   "metadata": {
    "collapsed": false,
    "jupyter": {
     "outputs_hidden": false
    }
   },
   "source": [
    "## Best Model Training and Evaluation\n",
    "Once we find the best set of hyper parameters, you can open mlflow on tracking uri, e.g. in my case , I set http://127.0.0.1:1234. Also if you install optuna-dashboard, you can see very nice visualizations and get very detailed insights on hyperparameter space, their importance, and why some combinations work more than others. I invite to try it. Tune the best model with a larger number of epochs and evaluate it on the test set. You can reload an optuna study from its' db later to get the best parameters and train a model."
   ]
  },
  {
   "cell_type": "code",
   "execution_count": 32,
   "metadata": {
    "collapsed": false,
    "is_executing": true,
    "jupyter": {
     "outputs_hidden": false
    }
   },
   "outputs": [],
   "source": [
    "warnings.filterwarnings(\"ignore\", module=\"mlflow.*\")"
   ]
  },
  {
   "cell_type": "code",
   "execution_count": 4,
   "metadata": {
    "collapsed": true,
    "is_executing": true,
    "jupyter": {
     "outputs_hidden": true
    }
   },
   "outputs": [
    {
     "name": "stderr",
     "output_type": "stream",
     "text": [
      "WARNING:root:Malformed experiment '1'. Detailed error Yaml file '/Users/ahmedjawad/Documents/Job Search/Ultimate AI Challenge/ultimate_aiv2/mlruns/1/meta.yaml' does not exist.\n",
      "Traceback (most recent call last):\n",
      "  File \"/Users/ahmedjawad/Documents/Job Search/Ultimate AI Challenge/ultimate_aiv2/venv/lib/python3.9/site-packages/mlflow/store/tracking/file_store.py\", line 302, in search_experiments\n",
      "    exp = self._get_experiment(exp_id, view_type)\n",
      "  File \"/Users/ahmedjawad/Documents/Job Search/Ultimate AI Challenge/ultimate_aiv2/venv/lib/python3.9/site-packages/mlflow/store/tracking/file_store.py\", line 395, in _get_experiment\n",
      "    meta = FileStore._read_yaml(experiment_dir, FileStore.META_DATA_FILE_NAME)\n",
      "  File \"/Users/ahmedjawad/Documents/Job Search/Ultimate AI Challenge/ultimate_aiv2/venv/lib/python3.9/site-packages/mlflow/store/tracking/file_store.py\", line 1303, in _read_yaml\n",
      "    return _read_helper(root, file_name, attempts_remaining=retries)\n",
      "  File \"/Users/ahmedjawad/Documents/Job Search/Ultimate AI Challenge/ultimate_aiv2/venv/lib/python3.9/site-packages/mlflow/store/tracking/file_store.py\", line 1296, in _read_helper\n",
      "    result = read_yaml(root, file_name)\n",
      "  File \"/Users/ahmedjawad/Documents/Job Search/Ultimate AI Challenge/ultimate_aiv2/venv/lib/python3.9/site-packages/mlflow/utils/file_utils.py\", line 303, in read_yaml\n",
      "    raise MissingConfigException(f\"Yaml file '{file_path}' does not exist.\")\n",
      "mlflow.exceptions.MissingConfigException: Yaml file '/Users/ahmedjawad/Documents/Job Search/Ultimate AI Challenge/ultimate_aiv2/mlruns/1/meta.yaml' does not exist.\n",
      "[I 2023-11-22 23:44:36,303] Using an existing study with name 'IntentClassifierLSTMWithAttention_small' instead of creating a new one.\n"
     ]
    },
    {
     "name": "stdout",
     "output_type": "stream",
     "text": [
      "Using an existing study with name 'IntentClassifierLSTMWithAttention_small' instead of creating a new one.\n",
      "Using an existing study with name 'IntentClassifierLSTMWithAttention_small' instead of creating a new one.\n"
     ]
    }
   ],
   "source": [
    "# Reload Optuna Study to get the best parameters\n",
    "experiment_id=get_or_create_experiment('Best E-LSTMWithAttention');\n",
    "study_name = \"IntentClassifierLSTMWithAttention_small\";\n",
    "storage_name = \"sqlite:///{}.db\".format(study_name);\n",
    "optuna.logging.get_logger(\"optuna\").addHandler(logging.StreamHandler(sys.stdout));\n",
    "study = optuna.create_study(study_name=study_name, storage=storage_name,load_if_exists=True,direction=\"maximize\");\n",
    "best_trial = study.best_trial;"
   ]
  },
  {
   "cell_type": "code",
   "execution_count": null,
   "metadata": {
    "collapsed": false,
    "is_executing": true,
    "jupyter": {
     "outputs_hidden": false
    },
    "scrolled": true
   },
   "outputs": [],
   "source": [
    "# Train the model using best parameters\n",
    "model = IntentClassifierLSTMWithAttention(\n",
    "    vocab_size,\n",
    "    best_trial.params['embedding_dim'],\n",
    "    best_trial.params['hidden_dim'],\n",
    "    output_dim,\n",
    "    best_trial.params['dropout_rate']\n",
    ").to(device)\n",
    "\n",
    "optimizer = optim.Adam(model.parameters(), lr=best_trial.params['lr'],\n",
    "                       weight_decay=best_trial.params['weight_decay'])\n",
    "train_loss = train(model, optimizer, nn.CrossEntropyLoss(), train_loader, 10)\n",
    "test_accuracy = evaluate(model, nn.CrossEntropyLoss(), test_loader, data_type=\"Test\")\n",
    "print(f'Test Accuracy: {test_accuracy:.4f}')"
   ]
  },
  {
   "cell_type": "markdown",
   "metadata": {
    "collapsed": false,
    "jupyter": {
     "outputs_hidden": false
    }
   },
   "source": [
    "## Visualize the results\n",
    "Optuna provides a number of visualizations to analyze the results of the hyperparameter tuning experiment. We can use these visualizations to analyze the results of the hyperparameter tuning experiment."
   ]
  },
  {
   "cell_type": "code",
   "execution_count": 5,
   "metadata": {
    "collapsed": false,
    "is_executing": true,
    "jupyter": {
     "outputs_hidden": false
    }
   },
   "outputs": [
    {
     "ename": "ValueError",
     "evalue": "Failed to start Kaleido subprocess. Error stream:\n\n/Users/ahmedjawad/Documents/Job Search/Ultimate AI Challenge/ultimate_aiv2/venv/lib/python3.9/site-packages/kaleido/executable/kaleido: line 4: cd: /Users/ahmedjawad/Documents/Job: No such file or directory\n/Users/ahmedjawad/Documents/Job Search/Ultimate AI Challenge/ultimate_aiv2/venv/lib/python3.9/site-packages/kaleido/executable/kaleido: line 5: ./bin/kaleido: No such file or directory\n",
     "output_type": "error",
     "traceback": [
      "\u001b[0;31m---------------------------------------------------------------------------\u001b[0m",
      "\u001b[0;31mValueError\u001b[0m                                Traceback (most recent call last)",
      "Cell \u001b[0;32mIn[5], line 6\u001b[0m\n\u001b[1;32m      1\u001b[0m fig \u001b[38;5;241m=\u001b[39m optuna\u001b[38;5;241m.\u001b[39mvisualization\u001b[38;5;241m.\u001b[39mplot_contour(study)\n\u001b[1;32m      2\u001b[0m fig\u001b[38;5;241m.\u001b[39mupdate_layout(\n\u001b[1;32m      3\u001b[0m     width\u001b[38;5;241m=\u001b[39m\u001b[38;5;241m1600\u001b[39m,   \u001b[38;5;66;03m# Width of the figure in pixels\u001b[39;00m\n\u001b[1;32m      4\u001b[0m     height\u001b[38;5;241m=\u001b[39m\u001b[38;5;241m800\u001b[39m   \u001b[38;5;66;03m# Height of the figure in pixels\u001b[39;00m\n\u001b[1;32m      5\u001b[0m )\n\u001b[0;32m----> 6\u001b[0m \u001b[43mfig\u001b[49m\u001b[38;5;241;43m.\u001b[39;49m\u001b[43mwrite_image\u001b[49m\u001b[43m(\u001b[49m\u001b[38;5;124;43m\"\u001b[39;49m\u001b[38;5;124;43mplotly_contours.png\u001b[39;49m\u001b[38;5;124;43m\"\u001b[39;49m\u001b[43m)\u001b[49m \n",
      "File \u001b[0;32m~/Documents/Job Search/Ultimate AI Challenge/ultimate_aiv2/venv/lib/python3.9/site-packages/plotly/basedatatypes.py:3841\u001b[0m, in \u001b[0;36mBaseFigure.write_image\u001b[0;34m(self, *args, **kwargs)\u001b[0m\n\u001b[1;32m   3781\u001b[0m \u001b[38;5;250m\u001b[39m\u001b[38;5;124;03m\"\"\"\u001b[39;00m\n\u001b[1;32m   3782\u001b[0m \u001b[38;5;124;03mConvert a figure to a static image and write it to a file or writeable\u001b[39;00m\n\u001b[1;32m   3783\u001b[0m \u001b[38;5;124;03mobject\u001b[39;00m\n\u001b[0;32m   (...)\u001b[0m\n\u001b[1;32m   3837\u001b[0m \u001b[38;5;124;03mNone\u001b[39;00m\n\u001b[1;32m   3838\u001b[0m \u001b[38;5;124;03m\"\"\"\u001b[39;00m\n\u001b[1;32m   3839\u001b[0m \u001b[38;5;28;01mimport\u001b[39;00m \u001b[38;5;21;01mplotly\u001b[39;00m\u001b[38;5;21;01m.\u001b[39;00m\u001b[38;5;21;01mio\u001b[39;00m \u001b[38;5;28;01mas\u001b[39;00m \u001b[38;5;21;01mpio\u001b[39;00m\n\u001b[0;32m-> 3841\u001b[0m \u001b[38;5;28;01mreturn\u001b[39;00m \u001b[43mpio\u001b[49m\u001b[38;5;241;43m.\u001b[39;49m\u001b[43mwrite_image\u001b[49m\u001b[43m(\u001b[49m\u001b[38;5;28;43mself\u001b[39;49m\u001b[43m,\u001b[49m\u001b[43m \u001b[49m\u001b[38;5;241;43m*\u001b[39;49m\u001b[43margs\u001b[49m\u001b[43m,\u001b[49m\u001b[43m \u001b[49m\u001b[38;5;241;43m*\u001b[39;49m\u001b[38;5;241;43m*\u001b[39;49m\u001b[43mkwargs\u001b[49m\u001b[43m)\u001b[49m\n",
      "File \u001b[0;32m~/Documents/Job Search/Ultimate AI Challenge/ultimate_aiv2/venv/lib/python3.9/site-packages/plotly/io/_kaleido.py:266\u001b[0m, in \u001b[0;36mwrite_image\u001b[0;34m(fig, file, format, scale, width, height, validate, engine)\u001b[0m\n\u001b[1;32m    250\u001b[0m             \u001b[38;5;28;01mraise\u001b[39;00m \u001b[38;5;167;01mValueError\u001b[39;00m(\n\u001b[1;32m    251\u001b[0m \u001b[38;5;250m                \u001b[39m\u001b[38;5;124;03m\"\"\"\u001b[39;00m\n\u001b[1;32m    252\u001b[0m \u001b[38;5;124;03mCannot infer image type from output path '{file}'.\u001b[39;00m\n\u001b[0;32m   (...)\u001b[0m\n\u001b[1;32m    260\u001b[0m                 )\n\u001b[1;32m    261\u001b[0m             )\n\u001b[1;32m    263\u001b[0m     \u001b[38;5;66;03m# Request image\u001b[39;00m\n\u001b[1;32m    264\u001b[0m     \u001b[38;5;66;03m# -------------\u001b[39;00m\n\u001b[1;32m    265\u001b[0m     \u001b[38;5;66;03m# Do this first so we don't create a file if image conversion fails\u001b[39;00m\n\u001b[0;32m--> 266\u001b[0m     img_data \u001b[38;5;241m=\u001b[39m \u001b[43mto_image\u001b[49m\u001b[43m(\u001b[49m\n\u001b[1;32m    267\u001b[0m \u001b[43m        \u001b[49m\u001b[43mfig\u001b[49m\u001b[43m,\u001b[49m\n\u001b[1;32m    268\u001b[0m \u001b[43m        \u001b[49m\u001b[38;5;28;43mformat\u001b[39;49m\u001b[38;5;241;43m=\u001b[39;49m\u001b[38;5;28;43mformat\u001b[39;49m\u001b[43m,\u001b[49m\n\u001b[1;32m    269\u001b[0m \u001b[43m        \u001b[49m\u001b[43mscale\u001b[49m\u001b[38;5;241;43m=\u001b[39;49m\u001b[43mscale\u001b[49m\u001b[43m,\u001b[49m\n\u001b[1;32m    270\u001b[0m \u001b[43m        \u001b[49m\u001b[43mwidth\u001b[49m\u001b[38;5;241;43m=\u001b[39;49m\u001b[43mwidth\u001b[49m\u001b[43m,\u001b[49m\n\u001b[1;32m    271\u001b[0m \u001b[43m        \u001b[49m\u001b[43mheight\u001b[49m\u001b[38;5;241;43m=\u001b[39;49m\u001b[43mheight\u001b[49m\u001b[43m,\u001b[49m\n\u001b[1;32m    272\u001b[0m \u001b[43m        \u001b[49m\u001b[43mvalidate\u001b[49m\u001b[38;5;241;43m=\u001b[39;49m\u001b[43mvalidate\u001b[49m\u001b[43m,\u001b[49m\n\u001b[1;32m    273\u001b[0m \u001b[43m        \u001b[49m\u001b[43mengine\u001b[49m\u001b[38;5;241;43m=\u001b[39;49m\u001b[43mengine\u001b[49m\u001b[43m,\u001b[49m\n\u001b[1;32m    274\u001b[0m \u001b[43m    \u001b[49m\u001b[43m)\u001b[49m\n\u001b[1;32m    276\u001b[0m     \u001b[38;5;66;03m# Open file\u001b[39;00m\n\u001b[1;32m    277\u001b[0m     \u001b[38;5;66;03m# ---------\u001b[39;00m\n\u001b[1;32m    278\u001b[0m     \u001b[38;5;28;01mif\u001b[39;00m path \u001b[38;5;129;01mis\u001b[39;00m \u001b[38;5;28;01mNone\u001b[39;00m:\n\u001b[1;32m    279\u001b[0m         \u001b[38;5;66;03m# We previously failed to make sense of `file` as a pathlib object.\u001b[39;00m\n\u001b[1;32m    280\u001b[0m         \u001b[38;5;66;03m# Attempt to write to `file` as an open file descriptor.\u001b[39;00m\n",
      "File \u001b[0;32m~/Documents/Job Search/Ultimate AI Challenge/ultimate_aiv2/venv/lib/python3.9/site-packages/plotly/io/_kaleido.py:143\u001b[0m, in \u001b[0;36mto_image\u001b[0;34m(fig, format, width, height, scale, validate, engine)\u001b[0m\n\u001b[1;32m    140\u001b[0m \u001b[38;5;66;03m# Validate figure\u001b[39;00m\n\u001b[1;32m    141\u001b[0m \u001b[38;5;66;03m# ---------------\u001b[39;00m\n\u001b[1;32m    142\u001b[0m fig_dict \u001b[38;5;241m=\u001b[39m validate_coerce_fig_to_dict(fig, validate)\n\u001b[0;32m--> 143\u001b[0m img_bytes \u001b[38;5;241m=\u001b[39m \u001b[43mscope\u001b[49m\u001b[38;5;241;43m.\u001b[39;49m\u001b[43mtransform\u001b[49m\u001b[43m(\u001b[49m\n\u001b[1;32m    144\u001b[0m \u001b[43m    \u001b[49m\u001b[43mfig_dict\u001b[49m\u001b[43m,\u001b[49m\u001b[43m \u001b[49m\u001b[38;5;28;43mformat\u001b[39;49m\u001b[38;5;241;43m=\u001b[39;49m\u001b[38;5;28;43mformat\u001b[39;49m\u001b[43m,\u001b[49m\u001b[43m \u001b[49m\u001b[43mwidth\u001b[49m\u001b[38;5;241;43m=\u001b[39;49m\u001b[43mwidth\u001b[49m\u001b[43m,\u001b[49m\u001b[43m \u001b[49m\u001b[43mheight\u001b[49m\u001b[38;5;241;43m=\u001b[39;49m\u001b[43mheight\u001b[49m\u001b[43m,\u001b[49m\u001b[43m \u001b[49m\u001b[43mscale\u001b[49m\u001b[38;5;241;43m=\u001b[39;49m\u001b[43mscale\u001b[49m\n\u001b[1;32m    145\u001b[0m \u001b[43m\u001b[49m\u001b[43m)\u001b[49m\n\u001b[1;32m    147\u001b[0m \u001b[38;5;28;01mreturn\u001b[39;00m img_bytes\n",
      "File \u001b[0;32m~/Documents/Job Search/Ultimate AI Challenge/ultimate_aiv2/venv/lib/python3.9/site-packages/kaleido/scopes/plotly.py:153\u001b[0m, in \u001b[0;36mPlotlyScope.transform\u001b[0;34m(self, figure, format, width, height, scale)\u001b[0m\n\u001b[1;32m    142\u001b[0m     \u001b[38;5;28;01mraise\u001b[39;00m \u001b[38;5;167;01mValueError\u001b[39;00m(\n\u001b[1;32m    143\u001b[0m         \u001b[38;5;124m\"\u001b[39m\u001b[38;5;124mInvalid format \u001b[39m\u001b[38;5;124m'\u001b[39m\u001b[38;5;132;01m{original_format}\u001b[39;00m\u001b[38;5;124m'\u001b[39m\u001b[38;5;124m.\u001b[39m\u001b[38;5;130;01m\\n\u001b[39;00m\u001b[38;5;124m\"\u001b[39m\n\u001b[1;32m    144\u001b[0m         \u001b[38;5;124m\"\u001b[39m\u001b[38;5;124m    Supported formats: \u001b[39m\u001b[38;5;132;01m{supported_formats_str}\u001b[39;00m\u001b[38;5;124m\"\u001b[39m\n\u001b[0;32m   (...)\u001b[0m\n\u001b[1;32m    148\u001b[0m         )\n\u001b[1;32m    149\u001b[0m     )\n\u001b[1;32m    151\u001b[0m \u001b[38;5;66;03m# Transform in using _perform_transform rather than superclass so we can access the full\u001b[39;00m\n\u001b[1;32m    152\u001b[0m \u001b[38;5;66;03m# response dict, including error codes.\u001b[39;00m\n\u001b[0;32m--> 153\u001b[0m response \u001b[38;5;241m=\u001b[39m \u001b[38;5;28;43mself\u001b[39;49m\u001b[38;5;241;43m.\u001b[39;49m\u001b[43m_perform_transform\u001b[49m\u001b[43m(\u001b[49m\n\u001b[1;32m    154\u001b[0m \u001b[43m    \u001b[49m\u001b[43mfigure\u001b[49m\u001b[43m,\u001b[49m\u001b[43m \u001b[49m\u001b[38;5;28;43mformat\u001b[39;49m\u001b[38;5;241;43m=\u001b[39;49m\u001b[38;5;28;43mformat\u001b[39;49m\u001b[43m,\u001b[49m\u001b[43m \u001b[49m\u001b[43mwidth\u001b[49m\u001b[38;5;241;43m=\u001b[39;49m\u001b[43mwidth\u001b[49m\u001b[43m,\u001b[49m\u001b[43m \u001b[49m\u001b[43mheight\u001b[49m\u001b[38;5;241;43m=\u001b[39;49m\u001b[43mheight\u001b[49m\u001b[43m,\u001b[49m\u001b[43m \u001b[49m\u001b[43mscale\u001b[49m\u001b[38;5;241;43m=\u001b[39;49m\u001b[43mscale\u001b[49m\n\u001b[1;32m    155\u001b[0m \u001b[43m\u001b[49m\u001b[43m)\u001b[49m\n\u001b[1;32m    157\u001b[0m \u001b[38;5;66;03m# Check for export error, later can customize error messages for plotly Python users\u001b[39;00m\n\u001b[1;32m    158\u001b[0m code \u001b[38;5;241m=\u001b[39m response\u001b[38;5;241m.\u001b[39mget(\u001b[38;5;124m\"\u001b[39m\u001b[38;5;124mcode\u001b[39m\u001b[38;5;124m\"\u001b[39m, \u001b[38;5;241m0\u001b[39m)\n",
      "File \u001b[0;32m~/Documents/Job Search/Ultimate AI Challenge/ultimate_aiv2/venv/lib/python3.9/site-packages/kaleido/scopes/base.py:293\u001b[0m, in \u001b[0;36mBaseScope._perform_transform\u001b[0;34m(self, data, **kwargs)\u001b[0m\n\u001b[1;32m    284\u001b[0m \u001b[38;5;250m\u001b[39m\u001b[38;5;124;03m\"\"\"\u001b[39;00m\n\u001b[1;32m    285\u001b[0m \u001b[38;5;124;03mTransform input data using the current scope, returning dict response with error code\u001b[39;00m\n\u001b[1;32m    286\u001b[0m \u001b[38;5;124;03mwhether successful or not.\u001b[39;00m\n\u001b[0;32m   (...)\u001b[0m\n\u001b[1;32m    290\u001b[0m \u001b[38;5;124;03m:return: Dict of response from Kaleido executable, whether successful or not\u001b[39;00m\n\u001b[1;32m    291\u001b[0m \u001b[38;5;124;03m\"\"\"\u001b[39;00m\n\u001b[1;32m    292\u001b[0m \u001b[38;5;66;03m# Ensure that kaleido subprocess is running\u001b[39;00m\n\u001b[0;32m--> 293\u001b[0m \u001b[38;5;28;43mself\u001b[39;49m\u001b[38;5;241;43m.\u001b[39;49m\u001b[43m_ensure_kaleido\u001b[49m\u001b[43m(\u001b[49m\u001b[43m)\u001b[49m\n\u001b[1;32m    295\u001b[0m \u001b[38;5;66;03m# Perform export\u001b[39;00m\n\u001b[1;32m    296\u001b[0m export_spec \u001b[38;5;241m=\u001b[39m \u001b[38;5;28mself\u001b[39m\u001b[38;5;241m.\u001b[39m_json_dumps(\u001b[38;5;28mdict\u001b[39m(kwargs, data\u001b[38;5;241m=\u001b[39mdata))\u001b[38;5;241m.\u001b[39mencode(\u001b[38;5;124m'\u001b[39m\u001b[38;5;124mutf-8\u001b[39m\u001b[38;5;124m'\u001b[39m)\n",
      "File \u001b[0;32m~/Documents/Job Search/Ultimate AI Challenge/ultimate_aiv2/venv/lib/python3.9/site-packages/kaleido/scopes/base.py:198\u001b[0m, in \u001b[0;36mBaseScope._ensure_kaleido\u001b[0;34m(self)\u001b[0m\n\u001b[1;32m    193\u001b[0m \u001b[38;5;28;01mif\u001b[39;00m \u001b[38;5;129;01mnot\u001b[39;00m startup_response_string:\n\u001b[1;32m    194\u001b[0m     message \u001b[38;5;241m=\u001b[39m (\n\u001b[1;32m    195\u001b[0m         \u001b[38;5;124m\"\u001b[39m\u001b[38;5;124mFailed to start Kaleido subprocess. Error stream:\u001b[39m\u001b[38;5;130;01m\\n\u001b[39;00m\u001b[38;5;130;01m\\n\u001b[39;00m\u001b[38;5;124m\"\u001b[39m \u001b[38;5;241m+\u001b[39m\n\u001b[1;32m    196\u001b[0m         \u001b[38;5;28mself\u001b[39m\u001b[38;5;241m.\u001b[39m_get_decoded_std_error()\n\u001b[1;32m    197\u001b[0m     )\n\u001b[0;32m--> 198\u001b[0m     \u001b[38;5;28;01mraise\u001b[39;00m \u001b[38;5;167;01mValueError\u001b[39;00m(message)\n\u001b[1;32m    199\u001b[0m \u001b[38;5;28;01melse\u001b[39;00m:\n\u001b[1;32m    200\u001b[0m     startup_response \u001b[38;5;241m=\u001b[39m json\u001b[38;5;241m.\u001b[39mloads(startup_response_string)\n",
      "\u001b[0;31mValueError\u001b[0m: Failed to start Kaleido subprocess. Error stream:\n\n/Users/ahmedjawad/Documents/Job Search/Ultimate AI Challenge/ultimate_aiv2/venv/lib/python3.9/site-packages/kaleido/executable/kaleido: line 4: cd: /Users/ahmedjawad/Documents/Job: No such file or directory\n/Users/ahmedjawad/Documents/Job Search/Ultimate AI Challenge/ultimate_aiv2/venv/lib/python3.9/site-packages/kaleido/executable/kaleido: line 5: ./bin/kaleido: No such file or directory\n"
     ]
    }
   ],
   "source": [
    "fig = optuna.visualization.plot_contour(study)\n",
    "fig.update_layout(\n",
    "    width=1600,   # Width of the figure in pixels\n",
    "    height=800   # Height of the figure in pixels\n",
    ")\n",
    "fig.write_image(\"plotly_contours.png\") "
   ]
  },
  {
   "cell_type": "code",
   "execution_count": 23,
   "metadata": {
    "collapsed": false,
    "is_executing": true,
    "jupyter": {
     "outputs_hidden": false
    }
   },
   "outputs": [
    {
     "data": {
      "application/vnd.plotly.v1+json": {
       "config": {
        "plotlyServerURL": "https://plot.ly"
       },
       "data": [
        {
         "mode": "markers",
         "name": "Objective Value",
         "type": "scatter",
         "x": [
          1,
          2,
          3,
          4,
          5,
          6,
          7,
          8,
          9,
          10,
          11,
          12,
          13
         ],
         "y": [
          0.9831708220623903,
          0.97626659770131,
          0.9812288414985053,
          0.9877015663989599,
          0.9551198622556797,
          0.9775599311278398,
          0.9713015580112814,
          0.9158508484369794,
          0.9249118711279797,
          0.9756151546711216,
          0.9902905631627139,
          0.9874858166686472,
          0.9855440690958316
         ]
        },
        {
         "mode": "lines",
         "name": "Best Value",
         "type": "scatter",
         "x": [
          0,
          1,
          2,
          3,
          4,
          5,
          6,
          7,
          8,
          9,
          10,
          11,
          12,
          13,
          14
         ],
         "y": [
          null,
          0.9831708220623903,
          0.9831708220623903,
          0.9831708220623903,
          0.9877015663989599,
          0.9877015663989599,
          0.9877015663989599,
          0.9877015663989599,
          0.9877015663989599,
          0.9877015663989599,
          0.9877015663989599,
          0.9902905631627139,
          0.9902905631627139,
          0.9902905631627139,
          0.9902905631627139
         ]
        },
        {
         "marker": {
          "color": "#cccccc"
         },
         "mode": "markers",
         "name": "Infeasible Trial",
         "showlegend": false,
         "type": "scatter",
         "x": [],
         "y": []
        }
       ],
       "layout": {
        "autosize": true,
        "template": {
         "data": {
          "bar": [
           {
            "error_x": {
             "color": "#2a3f5f"
            },
            "error_y": {
             "color": "#2a3f5f"
            },
            "marker": {
             "line": {
              "color": "#E5ECF6",
              "width": 0.5
             },
             "pattern": {
              "fillmode": "overlay",
              "size": 10,
              "solidity": 0.2
             }
            },
            "type": "bar"
           }
          ],
          "barpolar": [
           {
            "marker": {
             "line": {
              "color": "#E5ECF6",
              "width": 0.5
             },
             "pattern": {
              "fillmode": "overlay",
              "size": 10,
              "solidity": 0.2
             }
            },
            "type": "barpolar"
           }
          ],
          "carpet": [
           {
            "aaxis": {
             "endlinecolor": "#2a3f5f",
             "gridcolor": "white",
             "linecolor": "white",
             "minorgridcolor": "white",
             "startlinecolor": "#2a3f5f"
            },
            "baxis": {
             "endlinecolor": "#2a3f5f",
             "gridcolor": "white",
             "linecolor": "white",
             "minorgridcolor": "white",
             "startlinecolor": "#2a3f5f"
            },
            "type": "carpet"
           }
          ],
          "choropleth": [
           {
            "colorbar": {
             "outlinewidth": 0,
             "ticks": ""
            },
            "type": "choropleth"
           }
          ],
          "contour": [
           {
            "colorbar": {
             "outlinewidth": 0,
             "ticks": ""
            },
            "colorscale": [
             [
              0,
              "#0d0887"
             ],
             [
              0.1111111111111111,
              "#46039f"
             ],
             [
              0.2222222222222222,
              "#7201a8"
             ],
             [
              0.3333333333333333,
              "#9c179e"
             ],
             [
              0.4444444444444444,
              "#bd3786"
             ],
             [
              0.5555555555555556,
              "#d8576b"
             ],
             [
              0.6666666666666666,
              "#ed7953"
             ],
             [
              0.7777777777777778,
              "#fb9f3a"
             ],
             [
              0.8888888888888888,
              "#fdca26"
             ],
             [
              1,
              "#f0f921"
             ]
            ],
            "type": "contour"
           }
          ],
          "contourcarpet": [
           {
            "colorbar": {
             "outlinewidth": 0,
             "ticks": ""
            },
            "type": "contourcarpet"
           }
          ],
          "heatmap": [
           {
            "colorbar": {
             "outlinewidth": 0,
             "ticks": ""
            },
            "colorscale": [
             [
              0,
              "#0d0887"
             ],
             [
              0.1111111111111111,
              "#46039f"
             ],
             [
              0.2222222222222222,
              "#7201a8"
             ],
             [
              0.3333333333333333,
              "#9c179e"
             ],
             [
              0.4444444444444444,
              "#bd3786"
             ],
             [
              0.5555555555555556,
              "#d8576b"
             ],
             [
              0.6666666666666666,
              "#ed7953"
             ],
             [
              0.7777777777777778,
              "#fb9f3a"
             ],
             [
              0.8888888888888888,
              "#fdca26"
             ],
             [
              1,
              "#f0f921"
             ]
            ],
            "type": "heatmap"
           }
          ],
          "heatmapgl": [
           {
            "colorbar": {
             "outlinewidth": 0,
             "ticks": ""
            },
            "colorscale": [
             [
              0,
              "#0d0887"
             ],
             [
              0.1111111111111111,
              "#46039f"
             ],
             [
              0.2222222222222222,
              "#7201a8"
             ],
             [
              0.3333333333333333,
              "#9c179e"
             ],
             [
              0.4444444444444444,
              "#bd3786"
             ],
             [
              0.5555555555555556,
              "#d8576b"
             ],
             [
              0.6666666666666666,
              "#ed7953"
             ],
             [
              0.7777777777777778,
              "#fb9f3a"
             ],
             [
              0.8888888888888888,
              "#fdca26"
             ],
             [
              1,
              "#f0f921"
             ]
            ],
            "type": "heatmapgl"
           }
          ],
          "histogram": [
           {
            "marker": {
             "pattern": {
              "fillmode": "overlay",
              "size": 10,
              "solidity": 0.2
             }
            },
            "type": "histogram"
           }
          ],
          "histogram2d": [
           {
            "colorbar": {
             "outlinewidth": 0,
             "ticks": ""
            },
            "colorscale": [
             [
              0,
              "#0d0887"
             ],
             [
              0.1111111111111111,
              "#46039f"
             ],
             [
              0.2222222222222222,
              "#7201a8"
             ],
             [
              0.3333333333333333,
              "#9c179e"
             ],
             [
              0.4444444444444444,
              "#bd3786"
             ],
             [
              0.5555555555555556,
              "#d8576b"
             ],
             [
              0.6666666666666666,
              "#ed7953"
             ],
             [
              0.7777777777777778,
              "#fb9f3a"
             ],
             [
              0.8888888888888888,
              "#fdca26"
             ],
             [
              1,
              "#f0f921"
             ]
            ],
            "type": "histogram2d"
           }
          ],
          "histogram2dcontour": [
           {
            "colorbar": {
             "outlinewidth": 0,
             "ticks": ""
            },
            "colorscale": [
             [
              0,
              "#0d0887"
             ],
             [
              0.1111111111111111,
              "#46039f"
             ],
             [
              0.2222222222222222,
              "#7201a8"
             ],
             [
              0.3333333333333333,
              "#9c179e"
             ],
             [
              0.4444444444444444,
              "#bd3786"
             ],
             [
              0.5555555555555556,
              "#d8576b"
             ],
             [
              0.6666666666666666,
              "#ed7953"
             ],
             [
              0.7777777777777778,
              "#fb9f3a"
             ],
             [
              0.8888888888888888,
              "#fdca26"
             ],
             [
              1,
              "#f0f921"
             ]
            ],
            "type": "histogram2dcontour"
           }
          ],
          "mesh3d": [
           {
            "colorbar": {
             "outlinewidth": 0,
             "ticks": ""
            },
            "type": "mesh3d"
           }
          ],
          "parcoords": [
           {
            "line": {
             "colorbar": {
              "outlinewidth": 0,
              "ticks": ""
             }
            },
            "type": "parcoords"
           }
          ],
          "pie": [
           {
            "automargin": true,
            "type": "pie"
           }
          ],
          "scatter": [
           {
            "fillpattern": {
             "fillmode": "overlay",
             "size": 10,
             "solidity": 0.2
            },
            "type": "scatter"
           }
          ],
          "scatter3d": [
           {
            "line": {
             "colorbar": {
              "outlinewidth": 0,
              "ticks": ""
             }
            },
            "marker": {
             "colorbar": {
              "outlinewidth": 0,
              "ticks": ""
             }
            },
            "type": "scatter3d"
           }
          ],
          "scattercarpet": [
           {
            "marker": {
             "colorbar": {
              "outlinewidth": 0,
              "ticks": ""
             }
            },
            "type": "scattercarpet"
           }
          ],
          "scattergeo": [
           {
            "marker": {
             "colorbar": {
              "outlinewidth": 0,
              "ticks": ""
             }
            },
            "type": "scattergeo"
           }
          ],
          "scattergl": [
           {
            "marker": {
             "colorbar": {
              "outlinewidth": 0,
              "ticks": ""
             }
            },
            "type": "scattergl"
           }
          ],
          "scattermapbox": [
           {
            "marker": {
             "colorbar": {
              "outlinewidth": 0,
              "ticks": ""
             }
            },
            "type": "scattermapbox"
           }
          ],
          "scatterpolar": [
           {
            "marker": {
             "colorbar": {
              "outlinewidth": 0,
              "ticks": ""
             }
            },
            "type": "scatterpolar"
           }
          ],
          "scatterpolargl": [
           {
            "marker": {
             "colorbar": {
              "outlinewidth": 0,
              "ticks": ""
             }
            },
            "type": "scatterpolargl"
           }
          ],
          "scatterternary": [
           {
            "marker": {
             "colorbar": {
              "outlinewidth": 0,
              "ticks": ""
             }
            },
            "type": "scatterternary"
           }
          ],
          "surface": [
           {
            "colorbar": {
             "outlinewidth": 0,
             "ticks": ""
            },
            "colorscale": [
             [
              0,
              "#0d0887"
             ],
             [
              0.1111111111111111,
              "#46039f"
             ],
             [
              0.2222222222222222,
              "#7201a8"
             ],
             [
              0.3333333333333333,
              "#9c179e"
             ],
             [
              0.4444444444444444,
              "#bd3786"
             ],
             [
              0.5555555555555556,
              "#d8576b"
             ],
             [
              0.6666666666666666,
              "#ed7953"
             ],
             [
              0.7777777777777778,
              "#fb9f3a"
             ],
             [
              0.8888888888888888,
              "#fdca26"
             ],
             [
              1,
              "#f0f921"
             ]
            ],
            "type": "surface"
           }
          ],
          "table": [
           {
            "cells": {
             "fill": {
              "color": "#EBF0F8"
             },
             "line": {
              "color": "white"
             }
            },
            "header": {
             "fill": {
              "color": "#C8D4E3"
             },
             "line": {
              "color": "white"
             }
            },
            "type": "table"
           }
          ]
         },
         "layout": {
          "annotationdefaults": {
           "arrowcolor": "#2a3f5f",
           "arrowhead": 0,
           "arrowwidth": 1
          },
          "autotypenumbers": "strict",
          "coloraxis": {
           "colorbar": {
            "outlinewidth": 0,
            "ticks": ""
           }
          },
          "colorscale": {
           "diverging": [
            [
             0,
             "#8e0152"
            ],
            [
             0.1,
             "#c51b7d"
            ],
            [
             0.2,
             "#de77ae"
            ],
            [
             0.3,
             "#f1b6da"
            ],
            [
             0.4,
             "#fde0ef"
            ],
            [
             0.5,
             "#f7f7f7"
            ],
            [
             0.6,
             "#e6f5d0"
            ],
            [
             0.7,
             "#b8e186"
            ],
            [
             0.8,
             "#7fbc41"
            ],
            [
             0.9,
             "#4d9221"
            ],
            [
             1,
             "#276419"
            ]
           ],
           "sequential": [
            [
             0,
             "#0d0887"
            ],
            [
             0.1111111111111111,
             "#46039f"
            ],
            [
             0.2222222222222222,
             "#7201a8"
            ],
            [
             0.3333333333333333,
             "#9c179e"
            ],
            [
             0.4444444444444444,
             "#bd3786"
            ],
            [
             0.5555555555555556,
             "#d8576b"
            ],
            [
             0.6666666666666666,
             "#ed7953"
            ],
            [
             0.7777777777777778,
             "#fb9f3a"
            ],
            [
             0.8888888888888888,
             "#fdca26"
            ],
            [
             1,
             "#f0f921"
            ]
           ],
           "sequentialminus": [
            [
             0,
             "#0d0887"
            ],
            [
             0.1111111111111111,
             "#46039f"
            ],
            [
             0.2222222222222222,
             "#7201a8"
            ],
            [
             0.3333333333333333,
             "#9c179e"
            ],
            [
             0.4444444444444444,
             "#bd3786"
            ],
            [
             0.5555555555555556,
             "#d8576b"
            ],
            [
             0.6666666666666666,
             "#ed7953"
            ],
            [
             0.7777777777777778,
             "#fb9f3a"
            ],
            [
             0.8888888888888888,
             "#fdca26"
            ],
            [
             1,
             "#f0f921"
            ]
           ]
          },
          "colorway": [
           "#636efa",
           "#EF553B",
           "#00cc96",
           "#ab63fa",
           "#FFA15A",
           "#19d3f3",
           "#FF6692",
           "#B6E880",
           "#FF97FF",
           "#FECB52"
          ],
          "font": {
           "color": "#2a3f5f"
          },
          "geo": {
           "bgcolor": "white",
           "lakecolor": "white",
           "landcolor": "#E5ECF6",
           "showlakes": true,
           "showland": true,
           "subunitcolor": "white"
          },
          "hoverlabel": {
           "align": "left"
          },
          "hovermode": "closest",
          "mapbox": {
           "style": "light"
          },
          "paper_bgcolor": "white",
          "plot_bgcolor": "#E5ECF6",
          "polar": {
           "angularaxis": {
            "gridcolor": "white",
            "linecolor": "white",
            "ticks": ""
           },
           "bgcolor": "#E5ECF6",
           "radialaxis": {
            "gridcolor": "white",
            "linecolor": "white",
            "ticks": ""
           }
          },
          "scene": {
           "xaxis": {
            "backgroundcolor": "#E5ECF6",
            "gridcolor": "white",
            "gridwidth": 2,
            "linecolor": "white",
            "showbackground": true,
            "ticks": "",
            "zerolinecolor": "white"
           },
           "yaxis": {
            "backgroundcolor": "#E5ECF6",
            "gridcolor": "white",
            "gridwidth": 2,
            "linecolor": "white",
            "showbackground": true,
            "ticks": "",
            "zerolinecolor": "white"
           },
           "zaxis": {
            "backgroundcolor": "#E5ECF6",
            "gridcolor": "white",
            "gridwidth": 2,
            "linecolor": "white",
            "showbackground": true,
            "ticks": "",
            "zerolinecolor": "white"
           }
          },
          "shapedefaults": {
           "line": {
            "color": "#2a3f5f"
           }
          },
          "ternary": {
           "aaxis": {
            "gridcolor": "white",
            "linecolor": "white",
            "ticks": ""
           },
           "baxis": {
            "gridcolor": "white",
            "linecolor": "white",
            "ticks": ""
           },
           "bgcolor": "#E5ECF6",
           "caxis": {
            "gridcolor": "white",
            "linecolor": "white",
            "ticks": ""
           }
          },
          "title": {
           "x": 0.05
          },
          "xaxis": {
           "automargin": true,
           "gridcolor": "white",
           "linecolor": "white",
           "ticks": "",
           "title": {
            "standoff": 15
           },
           "zerolinecolor": "white",
           "zerolinewidth": 2
          },
          "yaxis": {
           "automargin": true,
           "gridcolor": "white",
           "linecolor": "white",
           "ticks": "",
           "title": {
            "standoff": 15
           },
           "zerolinecolor": "white",
           "zerolinewidth": 2
          }
         }
        },
        "title": {
         "text": "Optimization History Plot"
        },
        "xaxis": {
         "autorange": true,
         "range": [
          0,
          14
         ],
         "title": {
          "text": "Trial"
         },
         "type": "linear"
        },
        "yaxis": {
         "autorange": true,
         "range": [
          0.909707765182914,
          0.9964336464167793
         ],
         "title": {
          "text": "Objective Value"
         },
         "type": "linear"
        }
       }
      },
      "image/png": "[encoded data removed]",
      "text/html": [
       "<div>                            <div id=\"1674d0b6-6e02-46ef-b5b9-c162cfb2ba23\" class=\"plotly-graph-div\" style=\"height:525px; width:100%;\"></div>            <script type=\"text/javascript\">                require([\"plotly\"], function(Plotly) {                    window.PLOTLYENV=window.PLOTLYENV || {};                                    if (document.getElementById(\"1674d0b6-6e02-46ef-b5b9-c162cfb2ba23\")) {                    Plotly.newPlot(                        \"1674d0b6-6e02-46ef-b5b9-c162cfb2ba23\",                        [{\"mode\":\"markers\",\"name\":\"Objective Value\",\"x\":[1,2,3,4,5,6,7,8,9,10,11,12,13],\"y\":[0.9831708220623903,0.97626659770131,0.9812288414985053,0.9877015663989599,0.9551198622556797,0.9775599311278398,0.9713015580112814,0.9158508484369794,0.9249118711279797,0.9756151546711216,0.9902905631627139,0.9874858166686472,0.9855440690958316],\"type\":\"scatter\"},{\"mode\":\"lines\",\"name\":\"Best Value\",\"x\":[0,1,2,3,4,5,6,7,8,9,10,11,12,13,14],\"y\":[null,0.9831708220623903,0.9831708220623903,0.9831708220623903,0.9877015663989599,0.9877015663989599,0.9877015663989599,0.9877015663989599,0.9877015663989599,0.9877015663989599,0.9877015663989599,0.9902905631627139,0.9902905631627139,0.9902905631627139,0.9902905631627139],\"type\":\"scatter\"},{\"marker\":{\"color\":\"#cccccc\"},\"mode\":\"markers\",\"name\":\"Infeasible Trial\",\"showlegend\":false,\"x\":[],\"y\":[],\"type\":\"scatter\"}],                        {\"title\":{\"text\":\"Optimization History Plot\"},\"xaxis\":{\"title\":{\"text\":\"Trial\"}},\"yaxis\":{\"title\":{\"text\":\"Objective Value\"}},\"template\":{\"data\":{\"histogram2dcontour\":[{\"type\":\"histogram2dcontour\",\"colorbar\":{\"outlinewidth\":0,\"ticks\":\"\"},\"colorscale\":[[0.0,\"#0d0887\"],[0.1111111111111111,\"#46039f\"],[0.2222222222222222,\"#7201a8\"],[0.3333333333333333,\"#9c179e\"],[0.4444444444444444,\"#bd3786\"],[0.5555555555555556,\"#d8576b\"],[0.6666666666666666,\"#ed7953\"],[0.7777777777777778,\"#fb9f3a\"],[0.8888888888888888,\"#fdca26\"],[1.0,\"#f0f921\"]]}],\"choropleth\":[{\"type\":\"choropleth\",\"colorbar\":{\"outlinewidth\":0,\"ticks\":\"\"}}],\"histogram2d\":[{\"type\":\"histogram2d\",\"colorbar\":{\"outlinewidth\":0,\"ticks\":\"\"},\"colorscale\":[[0.0,\"#0d0887\"],[0.1111111111111111,\"#46039f\"],[0.2222222222222222,\"#7201a8\"],[0.3333333333333333,\"#9c179e\"],[0.4444444444444444,\"#bd3786\"],[0.5555555555555556,\"#d8576b\"],[0.6666666666666666,\"#ed7953\"],[0.7777777777777778,\"#fb9f3a\"],[0.8888888888888888,\"#fdca26\"],[1.0,\"#f0f921\"]]}],\"heatmap\":[{\"type\":\"heatmap\",\"colorbar\":{\"outlinewidth\":0,\"ticks\":\"\"},\"colorscale\":[[0.0,\"#0d0887\"],[0.1111111111111111,\"#46039f\"],[0.2222222222222222,\"#7201a8\"],[0.3333333333333333,\"#9c179e\"],[0.4444444444444444,\"#bd3786\"],[0.5555555555555556,\"#d8576b\"],[0.6666666666666666,\"#ed7953\"],[0.7777777777777778,\"#fb9f3a\"],[0.8888888888888888,\"#fdca26\"],[1.0,\"#f0f921\"]]}],\"heatmapgl\":[{\"type\":\"heatmapgl\",\"colorbar\":{\"outlinewidth\":0,\"ticks\":\"\"},\"colorscale\":[[0.0,\"#0d0887\"],[0.1111111111111111,\"#46039f\"],[0.2222222222222222,\"#7201a8\"],[0.3333333333333333,\"#9c179e\"],[0.4444444444444444,\"#bd3786\"],[0.5555555555555556,\"#d8576b\"],[0.6666666666666666,\"#ed7953\"],[0.7777777777777778,\"#fb9f3a\"],[0.8888888888888888,\"#fdca26\"],[1.0,\"#f0f921\"]]}],\"contourcarpet\":[{\"type\":\"contourcarpet\",\"colorbar\":{\"outlinewidth\":0,\"ticks\":\"\"}}],\"contour\":[{\"type\":\"contour\",\"colorbar\":{\"outlinewidth\":0,\"ticks\":\"\"},\"colorscale\":[[0.0,\"#0d0887\"],[0.1111111111111111,\"#46039f\"],[0.2222222222222222,\"#7201a8\"],[0.3333333333333333,\"#9c179e\"],[0.4444444444444444,\"#bd3786\"],[0.5555555555555556,\"#d8576b\"],[0.6666666666666666,\"#ed7953\"],[0.7777777777777778,\"#fb9f3a\"],[0.8888888888888888,\"#fdca26\"],[1.0,\"#f0f921\"]]}],\"surface\":[{\"type\":\"surface\",\"colorbar\":{\"outlinewidth\":0,\"ticks\":\"\"},\"colorscale\":[[0.0,\"#0d0887\"],[0.1111111111111111,\"#46039f\"],[0.2222222222222222,\"#7201a8\"],[0.3333333333333333,\"#9c179e\"],[0.4444444444444444,\"#bd3786\"],[0.5555555555555556,\"#d8576b\"],[0.6666666666666666,\"#ed7953\"],[0.7777777777777778,\"#fb9f3a\"],[0.8888888888888888,\"#fdca26\"],[1.0,\"#f0f921\"]]}],\"mesh3d\":[{\"type\":\"mesh3d\",\"colorbar\":{\"outlinewidth\":0,\"ticks\":\"\"}}],\"scatter\":[{\"fillpattern\":{\"fillmode\":\"overlay\",\"size\":10,\"solidity\":0.2},\"type\":\"scatter\"}],\"parcoords\":[{\"type\":\"parcoords\",\"line\":{\"colorbar\":{\"outlinewidth\":0,\"ticks\":\"\"}}}],\"scatterpolargl\":[{\"type\":\"scatterpolargl\",\"marker\":{\"colorbar\":{\"outlinewidth\":0,\"ticks\":\"\"}}}],\"bar\":[{\"error_x\":{\"color\":\"#2a3f5f\"},\"error_y\":{\"color\":\"#2a3f5f\"},\"marker\":{\"line\":{\"color\":\"#E5ECF6\",\"width\":0.5},\"pattern\":{\"fillmode\":\"overlay\",\"size\":10,\"solidity\":0.2}},\"type\":\"bar\"}],\"scattergeo\":[{\"type\":\"scattergeo\",\"marker\":{\"colorbar\":{\"outlinewidth\":0,\"ticks\":\"\"}}}],\"scatterpolar\":[{\"type\":\"scatterpolar\",\"marker\":{\"colorbar\":{\"outlinewidth\":0,\"ticks\":\"\"}}}],\"histogram\":[{\"marker\":{\"pattern\":{\"fillmode\":\"overlay\",\"size\":10,\"solidity\":0.2}},\"type\":\"histogram\"}],\"scattergl\":[{\"type\":\"scattergl\",\"marker\":{\"colorbar\":{\"outlinewidth\":0,\"ticks\":\"\"}}}],\"scatter3d\":[{\"type\":\"scatter3d\",\"line\":{\"colorbar\":{\"outlinewidth\":0,\"ticks\":\"\"}},\"marker\":{\"colorbar\":{\"outlinewidth\":0,\"ticks\":\"\"}}}],\"scattermapbox\":[{\"type\":\"scattermapbox\",\"marker\":{\"colorbar\":{\"outlinewidth\":0,\"ticks\":\"\"}}}],\"scatterternary\":[{\"type\":\"scatterternary\",\"marker\":{\"colorbar\":{\"outlinewidth\":0,\"ticks\":\"\"}}}],\"scattercarpet\":[{\"type\":\"scattercarpet\",\"marker\":{\"colorbar\":{\"outlinewidth\":0,\"ticks\":\"\"}}}],\"carpet\":[{\"aaxis\":{\"endlinecolor\":\"#2a3f5f\",\"gridcolor\":\"white\",\"linecolor\":\"white\",\"minorgridcolor\":\"white\",\"startlinecolor\":\"#2a3f5f\"},\"baxis\":{\"endlinecolor\":\"#2a3f5f\",\"gridcolor\":\"white\",\"linecolor\":\"white\",\"minorgridcolor\":\"white\",\"startlinecolor\":\"#2a3f5f\"},\"type\":\"carpet\"}],\"table\":[{\"cells\":{\"fill\":{\"color\":\"#EBF0F8\"},\"line\":{\"color\":\"white\"}},\"header\":{\"fill\":{\"color\":\"#C8D4E3\"},\"line\":{\"color\":\"white\"}},\"type\":\"table\"}],\"barpolar\":[{\"marker\":{\"line\":{\"color\":\"#E5ECF6\",\"width\":0.5},\"pattern\":{\"fillmode\":\"overlay\",\"size\":10,\"solidity\":0.2}},\"type\":\"barpolar\"}],\"pie\":[{\"automargin\":true,\"type\":\"pie\"}]},\"layout\":{\"autotypenumbers\":\"strict\",\"colorway\":[\"#636efa\",\"#EF553B\",\"#00cc96\",\"#ab63fa\",\"#FFA15A\",\"#19d3f3\",\"#FF6692\",\"#B6E880\",\"#FF97FF\",\"#FECB52\"],\"font\":{\"color\":\"#2a3f5f\"},\"hovermode\":\"closest\",\"hoverlabel\":{\"align\":\"left\"},\"paper_bgcolor\":\"white\",\"plot_bgcolor\":\"#E5ECF6\",\"polar\":{\"bgcolor\":\"#E5ECF6\",\"angularaxis\":{\"gridcolor\":\"white\",\"linecolor\":\"white\",\"ticks\":\"\"},\"radialaxis\":{\"gridcolor\":\"white\",\"linecolor\":\"white\",\"ticks\":\"\"}},\"ternary\":{\"bgcolor\":\"#E5ECF6\",\"aaxis\":{\"gridcolor\":\"white\",\"linecolor\":\"white\",\"ticks\":\"\"},\"baxis\":{\"gridcolor\":\"white\",\"linecolor\":\"white\",\"ticks\":\"\"},\"caxis\":{\"gridcolor\":\"white\",\"linecolor\":\"white\",\"ticks\":\"\"}},\"coloraxis\":{\"colorbar\":{\"outlinewidth\":0,\"ticks\":\"\"}},\"colorscale\":{\"sequential\":[[0.0,\"#0d0887\"],[0.1111111111111111,\"#46039f\"],[0.2222222222222222,\"#7201a8\"],[0.3333333333333333,\"#9c179e\"],[0.4444444444444444,\"#bd3786\"],[0.5555555555555556,\"#d8576b\"],[0.6666666666666666,\"#ed7953\"],[0.7777777777777778,\"#fb9f3a\"],[0.8888888888888888,\"#fdca26\"],[1.0,\"#f0f921\"]],\"sequentialminus\":[[0.0,\"#0d0887\"],[0.1111111111111111,\"#46039f\"],[0.2222222222222222,\"#7201a8\"],[0.3333333333333333,\"#9c179e\"],[0.4444444444444444,\"#bd3786\"],[0.5555555555555556,\"#d8576b\"],[0.6666666666666666,\"#ed7953\"],[0.7777777777777778,\"#fb9f3a\"],[0.8888888888888888,\"#fdca26\"],[1.0,\"#f0f921\"]],\"diverging\":[[0,\"#8e0152\"],[0.1,\"#c51b7d\"],[0.2,\"#de77ae\"],[0.3,\"#f1b6da\"],[0.4,\"#fde0ef\"],[0.5,\"#f7f7f7\"],[0.6,\"#e6f5d0\"],[0.7,\"#b8e186\"],[0.8,\"#7fbc41\"],[0.9,\"#4d9221\"],[1,\"#276419\"]]},\"xaxis\":{\"gridcolor\":\"white\",\"linecolor\":\"white\",\"ticks\":\"\",\"title\":{\"standoff\":15},\"zerolinecolor\":\"white\",\"automargin\":true,\"zerolinewidth\":2},\"yaxis\":{\"gridcolor\":\"white\",\"linecolor\":\"white\",\"ticks\":\"\",\"title\":{\"standoff\":15},\"zerolinecolor\":\"white\",\"automargin\":true,\"zerolinewidth\":2},\"scene\":{\"xaxis\":{\"backgroundcolor\":\"#E5ECF6\",\"gridcolor\":\"white\",\"linecolor\":\"white\",\"showbackground\":true,\"ticks\":\"\",\"zerolinecolor\":\"white\",\"gridwidth\":2},\"yaxis\":{\"backgroundcolor\":\"#E5ECF6\",\"gridcolor\":\"white\",\"linecolor\":\"white\",\"showbackground\":true,\"ticks\":\"\",\"zerolinecolor\":\"white\",\"gridwidth\":2},\"zaxis\":{\"backgroundcolor\":\"#E5ECF6\",\"gridcolor\":\"white\",\"linecolor\":\"white\",\"showbackground\":true,\"ticks\":\"\",\"zerolinecolor\":\"white\",\"gridwidth\":2}},\"shapedefaults\":{\"line\":{\"color\":\"#2a3f5f\"}},\"annotationdefaults\":{\"arrowcolor\":\"#2a3f5f\",\"arrowhead\":0,\"arrowwidth\":1},\"geo\":{\"bgcolor\":\"white\",\"landcolor\":\"#E5ECF6\",\"subunitcolor\":\"white\",\"showland\":true,\"showlakes\":true,\"lakecolor\":\"white\"},\"title\":{\"x\":0.05},\"mapbox\":{\"style\":\"light\"}}}},                        {\"responsive\": true}                    ).then(function(){\n",
       "                            \n",
       "var gd = document.getElementById('1674d0b6-6e02-46ef-b5b9-c162cfb2ba23');\n",
       "var x = new MutationObserver(function (mutations, observer) {{\n",
       "        var display = window.getComputedStyle(gd).display;\n",
       "        if (!display || display === 'none') {{\n",
       "            console.log([gd, 'removed!']);\n",
       "            Plotly.purge(gd);\n",
       "            observer.disconnect();\n",
       "        }}\n",
       "}});\n",
       "\n",
       "// Listen for the removal of the full notebook cells\n",
       "var notebookContainer = gd.closest('#notebook-container');\n",
       "if (notebookContainer) {{\n",
       "    x.observe(notebookContainer, {childList: true});\n",
       "}}\n",
       "\n",
       "// Listen for the clearing of the current output cell\n",
       "var outputEl = gd.closest('.output');\n",
       "if (outputEl) {{\n",
       "    x.observe(outputEl, {childList: true});\n",
       "}}\n",
       "\n",
       "                        })                };                });            </script>        </div>"
      ]
     },
     "metadata": {},
     "output_type": "display_data"
    }
   ],
   "source": [
    "# Visualize the optimization history\n",
    "# Generate the Optuna plot\n",
    "fig = optuna.visualization.plot_optimization_history(study)\n",
    "fig\n",
    "#for way nicer plotly figures, use \n",
    "#fig = optuna.visualization.plot_optimization_history(study)\n",
    "#fig.save_html(\"plot_optimization_history.html\")"
   ]
  },
  {
   "cell_type": "code",
   "execution_count": 30,
   "metadata": {
    "collapsed": false,
    "is_executing": true,
    "jupyter": {
     "outputs_hidden": false
    }
   },
   "outputs": [
    {
     "data": {
      "application/vnd.plotly.v1+json": {
       "config": {
        "plotlyServerURL": "https://plot.ly"
       },
       "data": [
        {
         "dimensions": [
          {
           "label": "Objective Value",
           "range": [
            0.9158508484369794,
            0.9902905631627139
           ],
           "values": [
            0.9831708220623903,
            0.9551198622556797,
            0.9812288414985053,
            0.9877015663989599,
            0.9902905631627139,
            0.9874858166686472,
            0.9855440690958316,
            0.9713015580112814,
            0.9756151546711216,
            0.9249118711279797,
            0.97626659770131,
            0.9158508484369794,
            0.9775599311278398
           ]
          },
          {
           "label": "dropout_rate",
           "range": [
            0.10368236220109026,
            0.49805696744169203
           ],
           "values": [
            0.3621992380721305,
            0.21251608484978815,
            0.15275511722845883,
            0.3102034561712219,
            0.10368236220109026,
            0.10392348868429363,
            0.25156577714190204,
            0.4407942782141593,
            0.3585457247281617,
            0.3248277123880601,
            0.23824075907113682,
            0.3292984614097956,
            0.49805696744169203
           ]
          },
          {
           "label": "embedding_dim",
           "range": [
            0,
            2
           ],
           "ticktext": [
            "64",
            "128",
            "256"
           ],
           "tickvals": [
            0,
            1,
            2
           ],
           "values": [
            0,
            0,
            0,
            0,
            0,
            0,
            0,
            1,
            1,
            1,
            2,
            2,
            2
           ]
          },
          {
           "label": "hidden_dim",
           "range": [
            0,
            2
           ],
           "ticktext": [
            "32",
            "64",
            "256"
           ],
           "tickvals": [
            0,
            1,
            2
           ],
           "values": [
            0,
            0,
            1,
            2,
            2,
            2,
            2,
            0,
            0,
            1,
            1,
            1,
            2
           ]
          },
          {
           "label": "lr",
           "range": [
            -3.9705525071074708,
            -2.181165738970835
           ],
           "ticktext": [
            "0.000107",
            "0.001",
            "0.00659"
           ],
           "tickvals": [
            -3.9705525071074708,
            -3,
            -2.181165738970835
           ],
           "values": [
            -2.5356706666289592,
            -3.246614763024586,
            -3.0285733724868957,
            -2.7143015879105605,
            -2.5827140468188525,
            -2.6392995712449427,
            -2.22173327522755,
            -2.9402197894240483,
            -2.181165738970835,
            -3.8855866968815143,
            -3.3699469159114495,
            -3.9705525071074708,
            -3.6646454562488535
           ]
          },
          {
           "label": "weight_decay",
           "range": [
            -4.8860246974594865,
            -3.0180004889935534
           ],
           "ticktext": [
            "1.3e-05",
            "0.0001",
            "0.000959"
           ],
           "tickvals": [
            -4.8860246974594865,
            -4,
            -3.0180004889935534
           ],
           "values": [
            -3.8801982839026987,
            -3.0180004889935534,
            -3.5821848120898148,
            -4.627577370744835,
            -4.842317029242157,
            -4.8580892386195575,
            -4.8860246974594865,
            -3.066763459153626,
            -3.0282023512785106,
            -3.8078242388677284,
            -3.1066595791288654,
            -3.0421314577679417,
            -3.7950449245052416
           ]
          }
         ],
         "labelangle": 30,
         "labelside": "bottom",
         "line": {
          "color": [
           0.9831708220623903,
           0.9551198622556797,
           0.9812288414985053,
           0.9877015663989599,
           0.9902905631627139,
           0.9874858166686472,
           0.9855440690958316,
           0.9713015580112814,
           0.9756151546711216,
           0.9249118711279797,
           0.97626659770131,
           0.9158508484369794,
           0.9775599311278398
          ],
          "colorbar": {
           "title": {
            "text": "Objective Value"
           }
          },
          "colorscale": [
           [
            0,
            "rgb(247,251,255)"
           ],
           [
            0.125,
            "rgb(222,235,247)"
           ],
           [
            0.25,
            "rgb(198,219,239)"
           ],
           [
            0.375,
            "rgb(158,202,225)"
           ],
           [
            0.5,
            "rgb(107,174,214)"
           ],
           [
            0.625,
            "rgb(66,146,198)"
           ],
           [
            0.75,
            "rgb(33,113,181)"
           ],
           [
            0.875,
            "rgb(8,81,156)"
           ],
           [
            1,
            "rgb(8,48,107)"
           ]
          ],
          "reversescale": false,
          "showscale": true
         },
         "type": "parcoords"
        }
       ],
       "layout": {
        "height": 800,
        "template": {
         "data": {
          "bar": [
           {
            "error_x": {
             "color": "#2a3f5f"
            },
            "error_y": {
             "color": "#2a3f5f"
            },
            "marker": {
             "line": {
              "color": "#E5ECF6",
              "width": 0.5
             },
             "pattern": {
              "fillmode": "overlay",
              "size": 10,
              "solidity": 0.2
             }
            },
            "type": "bar"
           }
          ],
          "barpolar": [
           {
            "marker": {
             "line": {
              "color": "#E5ECF6",
              "width": 0.5
             },
             "pattern": {
              "fillmode": "overlay",
              "size": 10,
              "solidity": 0.2
             }
            },
            "type": "barpolar"
           }
          ],
          "carpet": [
           {
            "aaxis": {
             "endlinecolor": "#2a3f5f",
             "gridcolor": "white",
             "linecolor": "white",
             "minorgridcolor": "white",
             "startlinecolor": "#2a3f5f"
            },
            "baxis": {
             "endlinecolor": "#2a3f5f",
             "gridcolor": "white",
             "linecolor": "white",
             "minorgridcolor": "white",
             "startlinecolor": "#2a3f5f"
            },
            "type": "carpet"
           }
          ],
          "choropleth": [
           {
            "colorbar": {
             "outlinewidth": 0,
             "ticks": ""
            },
            "type": "choropleth"
           }
          ],
          "contour": [
           {
            "colorbar": {
             "outlinewidth": 0,
             "ticks": ""
            },
            "colorscale": [
             [
              0,
              "#0d0887"
             ],
             [
              0.1111111111111111,
              "#46039f"
             ],
             [
              0.2222222222222222,
              "#7201a8"
             ],
             [
              0.3333333333333333,
              "#9c179e"
             ],
             [
              0.4444444444444444,
              "#bd3786"
             ],
             [
              0.5555555555555556,
              "#d8576b"
             ],
             [
              0.6666666666666666,
              "#ed7953"
             ],
             [
              0.7777777777777778,
              "#fb9f3a"
             ],
             [
              0.8888888888888888,
              "#fdca26"
             ],
             [
              1,
              "#f0f921"
             ]
            ],
            "type": "contour"
           }
          ],
          "contourcarpet": [
           {
            "colorbar": {
             "outlinewidth": 0,
             "ticks": ""
            },
            "type": "contourcarpet"
           }
          ],
          "heatmap": [
           {
            "colorbar": {
             "outlinewidth": 0,
             "ticks": ""
            },
            "colorscale": [
             [
              0,
              "#0d0887"
             ],
             [
              0.1111111111111111,
              "#46039f"
             ],
             [
              0.2222222222222222,
              "#7201a8"
             ],
             [
              0.3333333333333333,
              "#9c179e"
             ],
             [
              0.4444444444444444,
              "#bd3786"
             ],
             [
              0.5555555555555556,
              "#d8576b"
             ],
             [
              0.6666666666666666,
              "#ed7953"
             ],
             [
              0.7777777777777778,
              "#fb9f3a"
             ],
             [
              0.8888888888888888,
              "#fdca26"
             ],
             [
              1,
              "#f0f921"
             ]
            ],
            "type": "heatmap"
           }
          ],
          "heatmapgl": [
           {
            "colorbar": {
             "outlinewidth": 0,
             "ticks": ""
            },
            "colorscale": [
             [
              0,
              "#0d0887"
             ],
             [
              0.1111111111111111,
              "#46039f"
             ],
             [
              0.2222222222222222,
              "#7201a8"
             ],
             [
              0.3333333333333333,
              "#9c179e"
             ],
             [
              0.4444444444444444,
              "#bd3786"
             ],
             [
              0.5555555555555556,
              "#d8576b"
             ],
             [
              0.6666666666666666,
              "#ed7953"
             ],
             [
              0.7777777777777778,
              "#fb9f3a"
             ],
             [
              0.8888888888888888,
              "#fdca26"
             ],
             [
              1,
              "#f0f921"
             ]
            ],
            "type": "heatmapgl"
           }
          ],
          "histogram": [
           {
            "marker": {
             "pattern": {
              "fillmode": "overlay",
              "size": 10,
              "solidity": 0.2
             }
            },
            "type": "histogram"
           }
          ],
          "histogram2d": [
           {
            "colorbar": {
             "outlinewidth": 0,
             "ticks": ""
            },
            "colorscale": [
             [
              0,
              "#0d0887"
             ],
             [
              0.1111111111111111,
              "#46039f"
             ],
             [
              0.2222222222222222,
              "#7201a8"
             ],
             [
              0.3333333333333333,
              "#9c179e"
             ],
             [
              0.4444444444444444,
              "#bd3786"
             ],
             [
              0.5555555555555556,
              "#d8576b"
             ],
             [
              0.6666666666666666,
              "#ed7953"
             ],
             [
              0.7777777777777778,
              "#fb9f3a"
             ],
             [
              0.8888888888888888,
              "#fdca26"
             ],
             [
              1,
              "#f0f921"
             ]
            ],
            "type": "histogram2d"
           }
          ],
          "histogram2dcontour": [
           {
            "colorbar": {
             "outlinewidth": 0,
             "ticks": ""
            },
            "colorscale": [
             [
              0,
              "#0d0887"
             ],
             [
              0.1111111111111111,
              "#46039f"
             ],
             [
              0.2222222222222222,
              "#7201a8"
             ],
             [
              0.3333333333333333,
              "#9c179e"
             ],
             [
              0.4444444444444444,
              "#bd3786"
             ],
             [
              0.5555555555555556,
              "#d8576b"
             ],
             [
              0.6666666666666666,
              "#ed7953"
             ],
             [
              0.7777777777777778,
              "#fb9f3a"
             ],
             [
              0.8888888888888888,
              "#fdca26"
             ],
             [
              1,
              "#f0f921"
             ]
            ],
            "type": "histogram2dcontour"
           }
          ],
          "mesh3d": [
           {
            "colorbar": {
             "outlinewidth": 0,
             "ticks": ""
            },
            "type": "mesh3d"
           }
          ],
          "parcoords": [
           {
            "line": {
             "colorbar": {
              "outlinewidth": 0,
              "ticks": ""
             }
            },
            "type": "parcoords"
           }
          ],
          "pie": [
           {
            "automargin": true,
            "type": "pie"
           }
          ],
          "scatter": [
           {
            "fillpattern": {
             "fillmode": "overlay",
             "size": 10,
             "solidity": 0.2
            },
            "type": "scatter"
           }
          ],
          "scatter3d": [
           {
            "line": {
             "colorbar": {
              "outlinewidth": 0,
              "ticks": ""
             }
            },
            "marker": {
             "colorbar": {
              "outlinewidth": 0,
              "ticks": ""
             }
            },
            "type": "scatter3d"
           }
          ],
          "scattercarpet": [
           {
            "marker": {
             "colorbar": {
              "outlinewidth": 0,
              "ticks": ""
             }
            },
            "type": "scattercarpet"
           }
          ],
          "scattergeo": [
           {
            "marker": {
             "colorbar": {
              "outlinewidth": 0,
              "ticks": ""
             }
            },
            "type": "scattergeo"
           }
          ],
          "scattergl": [
           {
            "marker": {
             "colorbar": {
              "outlinewidth": 0,
              "ticks": ""
             }
            },
            "type": "scattergl"
           }
          ],
          "scattermapbox": [
           {
            "marker": {
             "colorbar": {
              "outlinewidth": 0,
              "ticks": ""
             }
            },
            "type": "scattermapbox"
           }
          ],
          "scatterpolar": [
           {
            "marker": {
             "colorbar": {
              "outlinewidth": 0,
              "ticks": ""
             }
            },
            "type": "scatterpolar"
           }
          ],
          "scatterpolargl": [
           {
            "marker": {
             "colorbar": {
              "outlinewidth": 0,
              "ticks": ""
             }
            },
            "type": "scatterpolargl"
           }
          ],
          "scatterternary": [
           {
            "marker": {
             "colorbar": {
              "outlinewidth": 0,
              "ticks": ""
             }
            },
            "type": "scatterternary"
           }
          ],
          "surface": [
           {
            "colorbar": {
             "outlinewidth": 0,
             "ticks": ""
            },
            "colorscale": [
             [
              0,
              "#0d0887"
             ],
             [
              0.1111111111111111,
              "#46039f"
             ],
             [
              0.2222222222222222,
              "#7201a8"
             ],
             [
              0.3333333333333333,
              "#9c179e"
             ],
             [
              0.4444444444444444,
              "#bd3786"
             ],
             [
              0.5555555555555556,
              "#d8576b"
             ],
             [
              0.6666666666666666,
              "#ed7953"
             ],
             [
              0.7777777777777778,
              "#fb9f3a"
             ],
             [
              0.8888888888888888,
              "#fdca26"
             ],
             [
              1,
              "#f0f921"
             ]
            ],
            "type": "surface"
           }
          ],
          "table": [
           {
            "cells": {
             "fill": {
              "color": "#EBF0F8"
             },
             "line": {
              "color": "white"
             }
            },
            "header": {
             "fill": {
              "color": "#C8D4E3"
             },
             "line": {
              "color": "white"
             }
            },
            "type": "table"
           }
          ]
         },
         "layout": {
          "annotationdefaults": {
           "arrowcolor": "#2a3f5f",
           "arrowhead": 0,
           "arrowwidth": 1
          },
          "autotypenumbers": "strict",
          "coloraxis": {
           "colorbar": {
            "outlinewidth": 0,
            "ticks": ""
           }
          },
          "colorscale": {
           "diverging": [
            [
             0,
             "#8e0152"
            ],
            [
             0.1,
             "#c51b7d"
            ],
            [
             0.2,
             "#de77ae"
            ],
            [
             0.3,
             "#f1b6da"
            ],
            [
             0.4,
             "#fde0ef"
            ],
            [
             0.5,
             "#f7f7f7"
            ],
            [
             0.6,
             "#e6f5d0"
            ],
            [
             0.7,
             "#b8e186"
            ],
            [
             0.8,
             "#7fbc41"
            ],
            [
             0.9,
             "#4d9221"
            ],
            [
             1,
             "#276419"
            ]
           ],
           "sequential": [
            [
             0,
             "#0d0887"
            ],
            [
             0.1111111111111111,
             "#46039f"
            ],
            [
             0.2222222222222222,
             "#7201a8"
            ],
            [
             0.3333333333333333,
             "#9c179e"
            ],
            [
             0.4444444444444444,
             "#bd3786"
            ],
            [
             0.5555555555555556,
             "#d8576b"
            ],
            [
             0.6666666666666666,
             "#ed7953"
            ],
            [
             0.7777777777777778,
             "#fb9f3a"
            ],
            [
             0.8888888888888888,
             "#fdca26"
            ],
            [
             1,
             "#f0f921"
            ]
           ],
           "sequentialminus": [
            [
             0,
             "#0d0887"
            ],
            [
             0.1111111111111111,
             "#46039f"
            ],
            [
             0.2222222222222222,
             "#7201a8"
            ],
            [
             0.3333333333333333,
             "#9c179e"
            ],
            [
             0.4444444444444444,
             "#bd3786"
            ],
            [
             0.5555555555555556,
             "#d8576b"
            ],
            [
             0.6666666666666666,
             "#ed7953"
            ],
            [
             0.7777777777777778,
             "#fb9f3a"
            ],
            [
             0.8888888888888888,
             "#fdca26"
            ],
            [
             1,
             "#f0f921"
            ]
           ]
          },
          "colorway": [
           "#636efa",
           "#EF553B",
           "#00cc96",
           "#ab63fa",
           "#FFA15A",
           "#19d3f3",
           "#FF6692",
           "#B6E880",
           "#FF97FF",
           "#FECB52"
          ],
          "font": {
           "color": "#2a3f5f"
          },
          "geo": {
           "bgcolor": "white",
           "lakecolor": "white",
           "landcolor": "#E5ECF6",
           "showlakes": true,
           "showland": true,
           "subunitcolor": "white"
          },
          "hoverlabel": {
           "align": "left"
          },
          "hovermode": "closest",
          "mapbox": {
           "style": "light"
          },
          "paper_bgcolor": "white",
          "plot_bgcolor": "#E5ECF6",
          "polar": {
           "angularaxis": {
            "gridcolor": "white",
            "linecolor": "white",
            "ticks": ""
           },
           "bgcolor": "#E5ECF6",
           "radialaxis": {
            "gridcolor": "white",
            "linecolor": "white",
            "ticks": ""
           }
          },
          "scene": {
           "xaxis": {
            "backgroundcolor": "#E5ECF6",
            "gridcolor": "white",
            "gridwidth": 2,
            "linecolor": "white",
            "showbackground": true,
            "ticks": "",
            "zerolinecolor": "white"
           },
           "yaxis": {
            "backgroundcolor": "#E5ECF6",
            "gridcolor": "white",
            "gridwidth": 2,
            "linecolor": "white",
            "showbackground": true,
            "ticks": "",
            "zerolinecolor": "white"
           },
           "zaxis": {
            "backgroundcolor": "#E5ECF6",
            "gridcolor": "white",
            "gridwidth": 2,
            "linecolor": "white",
            "showbackground": true,
            "ticks": "",
            "zerolinecolor": "white"
           }
          },
          "shapedefaults": {
           "line": {
            "color": "#2a3f5f"
           }
          },
          "ternary": {
           "aaxis": {
            "gridcolor": "white",
            "linecolor": "white",
            "ticks": ""
           },
           "baxis": {
            "gridcolor": "white",
            "linecolor": "white",
            "ticks": ""
           },
           "bgcolor": "#E5ECF6",
           "caxis": {
            "gridcolor": "white",
            "linecolor": "white",
            "ticks": ""
           }
          },
          "title": {
           "x": 0.05
          },
          "xaxis": {
           "automargin": true,
           "gridcolor": "white",
           "linecolor": "white",
           "ticks": "",
           "title": {
            "standoff": 15
           },
           "zerolinecolor": "white",
           "zerolinewidth": 2
          },
          "yaxis": {
           "automargin": true,
           "gridcolor": "white",
           "linecolor": "white",
           "ticks": "",
           "title": {
            "standoff": 15
           },
           "zerolinecolor": "white",
           "zerolinewidth": 2
          }
         }
        },
        "title": {
         "text": "Parallel Coordinate Plot"
        },
        "width": 1600
       }
      },
      "image/png": "[encoded data removed]",
      "text/html": [
       "<div>                            <div id=\"523ab3a7-96de-4ef9-825e-3464029f08d7\" class=\"plotly-graph-div\" style=\"height:800px; width:1600px;\"></div>            <script type=\"text/javascript\">                require([\"plotly\"], function(Plotly) {                    window.PLOTLYENV=window.PLOTLYENV || {};                                    if (document.getElementById(\"523ab3a7-96de-4ef9-825e-3464029f08d7\")) {                    Plotly.newPlot(                        \"523ab3a7-96de-4ef9-825e-3464029f08d7\",                        [{\"dimensions\":[{\"label\":\"Objective Value\",\"range\":[0.9158508484369794,0.9902905631627139],\"values\":[0.9831708220623903,0.9551198622556797,0.9812288414985053,0.9877015663989599,0.9902905631627139,0.9874858166686472,0.9855440690958316,0.9713015580112814,0.9756151546711216,0.9249118711279797,0.97626659770131,0.9158508484369794,0.9775599311278398]},{\"label\":\"dropout_rate\",\"range\":[0.10368236220109026,0.49805696744169203],\"values\":[0.3621992380721305,0.21251608484978815,0.15275511722845883,0.3102034561712219,0.10368236220109026,0.10392348868429363,0.25156577714190204,0.4407942782141593,0.3585457247281617,0.3248277123880601,0.23824075907113682,0.3292984614097956,0.49805696744169203]},{\"label\":\"embedding_dim\",\"range\":[0,2],\"ticktext\":[\"64\",\"128\",\"256\"],\"tickvals\":[0,1,2],\"values\":[0,0,0,0,0,0,0,1,1,1,2,2,2]},{\"label\":\"hidden_dim\",\"range\":[0,2],\"ticktext\":[\"32\",\"64\",\"256\"],\"tickvals\":[0,1,2],\"values\":[0,0,1,2,2,2,2,0,0,1,1,1,2]},{\"label\":\"lr\",\"range\":[-3.9705525071074708,-2.181165738970835],\"ticktext\":[\"0.000107\",\"0.001\",\"0.00659\"],\"tickvals\":[-3.9705525071074708,-3,-2.181165738970835],\"values\":[-2.5356706666289592,-3.246614763024586,-3.0285733724868957,-2.7143015879105605,-2.5827140468188525,-2.6392995712449427,-2.22173327522755,-2.9402197894240483,-2.181165738970835,-3.8855866968815143,-3.3699469159114495,-3.9705525071074708,-3.6646454562488535]},{\"label\":\"weight_decay\",\"range\":[-4.8860246974594865,-3.0180004889935534],\"ticktext\":[\"1.3e-05\",\"0.0001\",\"0.000959\"],\"tickvals\":[-4.8860246974594865,-4,-3.0180004889935534],\"values\":[-3.8801982839026987,-3.0180004889935534,-3.5821848120898148,-4.627577370744835,-4.842317029242157,-4.8580892386195575,-4.8860246974594865,-3.066763459153626,-3.0282023512785106,-3.8078242388677284,-3.1066595791288654,-3.0421314577679417,-3.7950449245052416]}],\"labelangle\":30,\"labelside\":\"bottom\",\"line\":{\"color\":[0.9831708220623903,0.9551198622556797,0.9812288414985053,0.9877015663989599,0.9902905631627139,0.9874858166686472,0.9855440690958316,0.9713015580112814,0.9756151546711216,0.9249118711279797,0.97626659770131,0.9158508484369794,0.9775599311278398],\"colorbar\":{\"title\":{\"text\":\"Objective Value\"}},\"colorscale\":[[0.0,\"rgb(247,251,255)\"],[0.125,\"rgb(222,235,247)\"],[0.25,\"rgb(198,219,239)\"],[0.375,\"rgb(158,202,225)\"],[0.5,\"rgb(107,174,214)\"],[0.625,\"rgb(66,146,198)\"],[0.75,\"rgb(33,113,181)\"],[0.875,\"rgb(8,81,156)\"],[1.0,\"rgb(8,48,107)\"]],\"reversescale\":false,\"showscale\":true},\"type\":\"parcoords\"}],                        {\"title\":{\"text\":\"Parallel Coordinate Plot\"},\"template\":{\"data\":{\"histogram2dcontour\":[{\"type\":\"histogram2dcontour\",\"colorbar\":{\"outlinewidth\":0,\"ticks\":\"\"},\"colorscale\":[[0.0,\"#0d0887\"],[0.1111111111111111,\"#46039f\"],[0.2222222222222222,\"#7201a8\"],[0.3333333333333333,\"#9c179e\"],[0.4444444444444444,\"#bd3786\"],[0.5555555555555556,\"#d8576b\"],[0.6666666666666666,\"#ed7953\"],[0.7777777777777778,\"#fb9f3a\"],[0.8888888888888888,\"#fdca26\"],[1.0,\"#f0f921\"]]}],\"choropleth\":[{\"type\":\"choropleth\",\"colorbar\":{\"outlinewidth\":0,\"ticks\":\"\"}}],\"histogram2d\":[{\"type\":\"histogram2d\",\"colorbar\":{\"outlinewidth\":0,\"ticks\":\"\"},\"colorscale\":[[0.0,\"#0d0887\"],[0.1111111111111111,\"#46039f\"],[0.2222222222222222,\"#7201a8\"],[0.3333333333333333,\"#9c179e\"],[0.4444444444444444,\"#bd3786\"],[0.5555555555555556,\"#d8576b\"],[0.6666666666666666,\"#ed7953\"],[0.7777777777777778,\"#fb9f3a\"],[0.8888888888888888,\"#fdca26\"],[1.0,\"#f0f921\"]]}],\"heatmap\":[{\"type\":\"heatmap\",\"colorbar\":{\"outlinewidth\":0,\"ticks\":\"\"},\"colorscale\":[[0.0,\"#0d0887\"],[0.1111111111111111,\"#46039f\"],[0.2222222222222222,\"#7201a8\"],[0.3333333333333333,\"#9c179e\"],[0.4444444444444444,\"#bd3786\"],[0.5555555555555556,\"#d8576b\"],[0.6666666666666666,\"#ed7953\"],[0.7777777777777778,\"#fb9f3a\"],[0.8888888888888888,\"#fdca26\"],[1.0,\"#f0f921\"]]}],\"heatmapgl\":[{\"type\":\"heatmapgl\",\"colorbar\":{\"outlinewidth\":0,\"ticks\":\"\"},\"colorscale\":[[0.0,\"#0d0887\"],[0.1111111111111111,\"#46039f\"],[0.2222222222222222,\"#7201a8\"],[0.3333333333333333,\"#9c179e\"],[0.4444444444444444,\"#bd3786\"],[0.5555555555555556,\"#d8576b\"],[0.6666666666666666,\"#ed7953\"],[0.7777777777777778,\"#fb9f3a\"],[0.8888888888888888,\"#fdca26\"],[1.0,\"#f0f921\"]]}],\"contourcarpet\":[{\"type\":\"contourcarpet\",\"colorbar\":{\"outlinewidth\":0,\"ticks\":\"\"}}],\"contour\":[{\"type\":\"contour\",\"colorbar\":{\"outlinewidth\":0,\"ticks\":\"\"},\"colorscale\":[[0.0,\"#0d0887\"],[0.1111111111111111,\"#46039f\"],[0.2222222222222222,\"#7201a8\"],[0.3333333333333333,\"#9c179e\"],[0.4444444444444444,\"#bd3786\"],[0.5555555555555556,\"#d8576b\"],[0.6666666666666666,\"#ed7953\"],[0.7777777777777778,\"#fb9f3a\"],[0.8888888888888888,\"#fdca26\"],[1.0,\"#f0f921\"]]}],\"surface\":[{\"type\":\"surface\",\"colorbar\":{\"outlinewidth\":0,\"ticks\":\"\"},\"colorscale\":[[0.0,\"#0d0887\"],[0.1111111111111111,\"#46039f\"],[0.2222222222222222,\"#7201a8\"],[0.3333333333333333,\"#9c179e\"],[0.4444444444444444,\"#bd3786\"],[0.5555555555555556,\"#d8576b\"],[0.6666666666666666,\"#ed7953\"],[0.7777777777777778,\"#fb9f3a\"],[0.8888888888888888,\"#fdca26\"],[1.0,\"#f0f921\"]]}],\"mesh3d\":[{\"type\":\"mesh3d\",\"colorbar\":{\"outlinewidth\":0,\"ticks\":\"\"}}],\"scatter\":[{\"fillpattern\":{\"fillmode\":\"overlay\",\"size\":10,\"solidity\":0.2},\"type\":\"scatter\"}],\"parcoords\":[{\"type\":\"parcoords\",\"line\":{\"colorbar\":{\"outlinewidth\":0,\"ticks\":\"\"}}}],\"scatterpolargl\":[{\"type\":\"scatterpolargl\",\"marker\":{\"colorbar\":{\"outlinewidth\":0,\"ticks\":\"\"}}}],\"bar\":[{\"error_x\":{\"color\":\"#2a3f5f\"},\"error_y\":{\"color\":\"#2a3f5f\"},\"marker\":{\"line\":{\"color\":\"#E5ECF6\",\"width\":0.5},\"pattern\":{\"fillmode\":\"overlay\",\"size\":10,\"solidity\":0.2}},\"type\":\"bar\"}],\"scattergeo\":[{\"type\":\"scattergeo\",\"marker\":{\"colorbar\":{\"outlinewidth\":0,\"ticks\":\"\"}}}],\"scatterpolar\":[{\"type\":\"scatterpolar\",\"marker\":{\"colorbar\":{\"outlinewidth\":0,\"ticks\":\"\"}}}],\"histogram\":[{\"marker\":{\"pattern\":{\"fillmode\":\"overlay\",\"size\":10,\"solidity\":0.2}},\"type\":\"histogram\"}],\"scattergl\":[{\"type\":\"scattergl\",\"marker\":{\"colorbar\":{\"outlinewidth\":0,\"ticks\":\"\"}}}],\"scatter3d\":[{\"type\":\"scatter3d\",\"line\":{\"colorbar\":{\"outlinewidth\":0,\"ticks\":\"\"}},\"marker\":{\"colorbar\":{\"outlinewidth\":0,\"ticks\":\"\"}}}],\"scattermapbox\":[{\"type\":\"scattermapbox\",\"marker\":{\"colorbar\":{\"outlinewidth\":0,\"ticks\":\"\"}}}],\"scatterternary\":[{\"type\":\"scatterternary\",\"marker\":{\"colorbar\":{\"outlinewidth\":0,\"ticks\":\"\"}}}],\"scattercarpet\":[{\"type\":\"scattercarpet\",\"marker\":{\"colorbar\":{\"outlinewidth\":0,\"ticks\":\"\"}}}],\"carpet\":[{\"aaxis\":{\"endlinecolor\":\"#2a3f5f\",\"gridcolor\":\"white\",\"linecolor\":\"white\",\"minorgridcolor\":\"white\",\"startlinecolor\":\"#2a3f5f\"},\"baxis\":{\"endlinecolor\":\"#2a3f5f\",\"gridcolor\":\"white\",\"linecolor\":\"white\",\"minorgridcolor\":\"white\",\"startlinecolor\":\"#2a3f5f\"},\"type\":\"carpet\"}],\"table\":[{\"cells\":{\"fill\":{\"color\":\"#EBF0F8\"},\"line\":{\"color\":\"white\"}},\"header\":{\"fill\":{\"color\":\"#C8D4E3\"},\"line\":{\"color\":\"white\"}},\"type\":\"table\"}],\"barpolar\":[{\"marker\":{\"line\":{\"color\":\"#E5ECF6\",\"width\":0.5},\"pattern\":{\"fillmode\":\"overlay\",\"size\":10,\"solidity\":0.2}},\"type\":\"barpolar\"}],\"pie\":[{\"automargin\":true,\"type\":\"pie\"}]},\"layout\":{\"autotypenumbers\":\"strict\",\"colorway\":[\"#636efa\",\"#EF553B\",\"#00cc96\",\"#ab63fa\",\"#FFA15A\",\"#19d3f3\",\"#FF6692\",\"#B6E880\",\"#FF97FF\",\"#FECB52\"],\"font\":{\"color\":\"#2a3f5f\"},\"hovermode\":\"closest\",\"hoverlabel\":{\"align\":\"left\"},\"paper_bgcolor\":\"white\",\"plot_bgcolor\":\"#E5ECF6\",\"polar\":{\"bgcolor\":\"#E5ECF6\",\"angularaxis\":{\"gridcolor\":\"white\",\"linecolor\":\"white\",\"ticks\":\"\"},\"radialaxis\":{\"gridcolor\":\"white\",\"linecolor\":\"white\",\"ticks\":\"\"}},\"ternary\":{\"bgcolor\":\"#E5ECF6\",\"aaxis\":{\"gridcolor\":\"white\",\"linecolor\":\"white\",\"ticks\":\"\"},\"baxis\":{\"gridcolor\":\"white\",\"linecolor\":\"white\",\"ticks\":\"\"},\"caxis\":{\"gridcolor\":\"white\",\"linecolor\":\"white\",\"ticks\":\"\"}},\"coloraxis\":{\"colorbar\":{\"outlinewidth\":0,\"ticks\":\"\"}},\"colorscale\":{\"sequential\":[[0.0,\"#0d0887\"],[0.1111111111111111,\"#46039f\"],[0.2222222222222222,\"#7201a8\"],[0.3333333333333333,\"#9c179e\"],[0.4444444444444444,\"#bd3786\"],[0.5555555555555556,\"#d8576b\"],[0.6666666666666666,\"#ed7953\"],[0.7777777777777778,\"#fb9f3a\"],[0.8888888888888888,\"#fdca26\"],[1.0,\"#f0f921\"]],\"sequentialminus\":[[0.0,\"#0d0887\"],[0.1111111111111111,\"#46039f\"],[0.2222222222222222,\"#7201a8\"],[0.3333333333333333,\"#9c179e\"],[0.4444444444444444,\"#bd3786\"],[0.5555555555555556,\"#d8576b\"],[0.6666666666666666,\"#ed7953\"],[0.7777777777777778,\"#fb9f3a\"],[0.8888888888888888,\"#fdca26\"],[1.0,\"#f0f921\"]],\"diverging\":[[0,\"#8e0152\"],[0.1,\"#c51b7d\"],[0.2,\"#de77ae\"],[0.3,\"#f1b6da\"],[0.4,\"#fde0ef\"],[0.5,\"#f7f7f7\"],[0.6,\"#e6f5d0\"],[0.7,\"#b8e186\"],[0.8,\"#7fbc41\"],[0.9,\"#4d9221\"],[1,\"#276419\"]]},\"xaxis\":{\"gridcolor\":\"white\",\"linecolor\":\"white\",\"ticks\":\"\",\"title\":{\"standoff\":15},\"zerolinecolor\":\"white\",\"automargin\":true,\"zerolinewidth\":2},\"yaxis\":{\"gridcolor\":\"white\",\"linecolor\":\"white\",\"ticks\":\"\",\"title\":{\"standoff\":15},\"zerolinecolor\":\"white\",\"automargin\":true,\"zerolinewidth\":2},\"scene\":{\"xaxis\":{\"backgroundcolor\":\"#E5ECF6\",\"gridcolor\":\"white\",\"linecolor\":\"white\",\"showbackground\":true,\"ticks\":\"\",\"zerolinecolor\":\"white\",\"gridwidth\":2},\"yaxis\":{\"backgroundcolor\":\"#E5ECF6\",\"gridcolor\":\"white\",\"linecolor\":\"white\",\"showbackground\":true,\"ticks\":\"\",\"zerolinecolor\":\"white\",\"gridwidth\":2},\"zaxis\":{\"backgroundcolor\":\"#E5ECF6\",\"gridcolor\":\"white\",\"linecolor\":\"white\",\"showbackground\":true,\"ticks\":\"\",\"zerolinecolor\":\"white\",\"gridwidth\":2}},\"shapedefaults\":{\"line\":{\"color\":\"#2a3f5f\"}},\"annotationdefaults\":{\"arrowcolor\":\"#2a3f5f\",\"arrowhead\":0,\"arrowwidth\":1},\"geo\":{\"bgcolor\":\"white\",\"landcolor\":\"#E5ECF6\",\"subunitcolor\":\"white\",\"showland\":true,\"showlakes\":true,\"lakecolor\":\"white\"},\"title\":{\"x\":0.05},\"mapbox\":{\"style\":\"light\"}}},\"width\":1600,\"height\":800},                        {\"responsive\": true}                    ).then(function(){\n",
       "                            \n",
       "var gd = document.getElementById('523ab3a7-96de-4ef9-825e-3464029f08d7');\n",
       "var x = new MutationObserver(function (mutations, observer) {{\n",
       "        var display = window.getComputedStyle(gd).display;\n",
       "        if (!display || display === 'none') {{\n",
       "            console.log([gd, 'removed!']);\n",
       "            Plotly.purge(gd);\n",
       "            observer.disconnect();\n",
       "        }}\n",
       "}});\n",
       "\n",
       "// Listen for the removal of the full notebook cells\n",
       "var notebookContainer = gd.closest('#notebook-container');\n",
       "if (notebookContainer) {{\n",
       "    x.observe(notebookContainer, {childList: true});\n",
       "}}\n",
       "\n",
       "// Listen for the clearing of the current output cell\n",
       "var outputEl = gd.closest('.output');\n",
       "if (outputEl) {{\n",
       "    x.observe(outputEl, {childList: true});\n",
       "}}\n",
       "\n",
       "                        })                };                });            </script>        </div>"
      ]
     },
     "metadata": {},
     "output_type": "display_data"
    }
   ],
   "source": [
    "fig = optuna.visualization.plot_parallel_coordinate(study)\n",
    "fig.update_layout(\n",
    "    width=1600,   # Width of the figure in pixels\n",
    "    height=800   # Height of the figure in pixels\n",
    ")\n",
    "fig"
   ]
  },
  {
   "cell_type": "markdown",
   "metadata": {
    "collapsed": false,
    "jupyter": {
     "outputs_hidden": false
    }
   },
   "source": [
    "## Save the model and check model Serving"
   ]
  },
  {
   "cell_type": "code",
   "execution_count": null,
   "metadata": {
    "collapsed": false,
    "is_executing": true,
    "jupyter": {
     "outputs_hidden": false
    }
   },
   "outputs": [],
   "source": [
    "model_name = \"best_ICELSTMAmodel\"\n",
    "torch.save(model, f\"models/{model_name}.pth\")\n",
    "tokenizer.save_state(f\"models/{model_name}_tokenizer.pickle\", f\"models/{model_name}_le.pickle\")"
   ]
  },
  {
   "cell_type": "code",
   "execution_count": null,
   "metadata": {
    "collapsed": false,
    "is_executing": true,
    "jupyter": {
     "outputs_hidden": false
    }
   },
   "outputs": [],
   "source": [
    "# Load the trained model and tokenizer from saved files\n",
    "model_serve = torch.load(f\"models/{model_name}.pth\").to(device)\n",
    "tokenizer = IntentTokenizer.load_state(IntentTokenizer,f\"models/{model_name}_tokenizer.pickle\", f\"models/{model_name}_le.pickle\")\n",
    "max_query_length = 50\n",
    "query_text = \"what airlines off from love field between 6 and 10 am on june sixth\"\n",
    "query = pd.DataFrame({\"text\": [query_text]})\n",
    "prediction = predict(model_serve, query,tokenizer,device)\n",
    "print(f\"Predicted label: {prediction}\")"
   ]
  },
  {
   "cell_type": "code",
   "execution_count": null,
   "metadata": {},
   "outputs": [],
   "source": []
  }
 ],
 "metadata": {
  "kernelspec": {
   "display_name": "ultimate_nlpv2",
   "language": "python",
   "name": "ultimate-nlp"
  },
  "language_info": {
   "codemirror_mode": {
    "name": "ipython",
    "version": 3
   },
   "file_extension": ".py",
   "mimetype": "text/x-python",
   "name": "python",
   "nbconvert_exporter": "python",
   "pygments_lexer": "ipython3",
   "version": "3.9.10"
  }
 },
 "nbformat": 4,
 "nbformat_minor": 4
}
