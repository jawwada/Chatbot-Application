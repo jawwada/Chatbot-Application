{
 "cells": [
  {
   "cell_type": "markdown",
   "id": "51fd1e24",
   "metadata": {
    "collapsed": false,
    "jupyter": {
     "outputs_hidden": false
    }
   },
   "source": [
    "# Third Party Models. Abstraction of Tokenization and Intent Classifier \n",
    "\n",
    "#### This notebook has two parts. \n",
    "1. using Hugging Face Transformer\n",
    "2. Demonstarion of a Transformer like Interface for Models (Own Tokenizer and Model Abstraction), with train, eval and predict functions that can be used to trained any model.\n",
    "\n",
    "## 4.1 Transformer, Bert's Intent Classification\n",
    "I trained and fine tuned a language model with Attention Mechanism previously. However, I have not made it generalized. Let's use Hugging face transformers. \n",
    "An example Intent Classification model using BERT and HuggingFace Transformers.\n",
    "Steps:\n",
    "1. Load data\n",
    "2. Tokenize data\n",
    "3. Create PyTorch Dataset\n",
    "4. Train model\n",
    "5. Evaluate model\n",
    "6. Save model\n"
   ]
  },
  {
   "cell_type": "code",
   "execution_count": 1,
   "id": "1066ff52-8bf4-459a-b74d-3d2ff0eb33dc",
   "metadata": {},
   "outputs": [
    {
     "name": "stdout",
     "output_type": "stream",
     "text": [
      "Current Working Directory: /Users/ahmedjawad/Documents/JobSearch/UltimateAIChallenge/ultimate_aiv2\n"
     ]
    }
   ],
   "source": [
    "### Important Note; carefully set the project Root, so relative class imports work.\n",
    "import os\n",
    "marker = '.git'  # Replace with your unique marker file or directory that exists in project root\n",
    "while not os.path.exists(marker):\n",
    "    os.chdir('..')\n",
    "# Verify the current working directory\n",
    "print(\"Current Working Directory:\", os.getcwd())"
   ]
  },
  {
   "cell_type": "code",
   "execution_count": 4,
   "id": "3ba54bca",
   "metadata": {
    "ExecuteTime": {
     "end_time": "2023-11-21T23:25:23.003867Z",
     "start_time": "2023-11-21T23:25:18.629779Z"
    },
    "collapsed": false,
    "jupyter": {
     "outputs_hidden": false
    }
   },
   "outputs": [
    {
     "name": "stdout",
     "output_type": "stream",
     "text": [
      "mps\n"
     ]
    }
   ],
   "source": [
    "from transformers import BertTokenizer, BertForSequenceClassification\n",
    "from transformers import Trainer, TrainingArguments\n",
    "from torch.utils.data import Dataset, DataLoader\n",
    "import torch\n",
    "import config.config_bert as cfg\n",
    "import warnings\n",
    "from transformers import TrainerCallback\n",
    "from machine_learning.learners.model_utils import get_or_create_experiment\n",
    "from machine_learning.learners.IntentTokenizer import IntentTokenizer\n",
    "import mlflow\n",
    "import mlflow.pytorch\n",
    "import pandas as pd\n",
    "\n",
    "warnings.filterwarnings(\"ignore\")\n",
    "device = torch.device(\"cuda\" if torch.cuda.is_available() else \"mps\" if torch.backends.mps.is_available() else \"cpu\")\n",
    "print(device)"
   ]
  },
  {
   "cell_type": "markdown",
   "id": "585bd028",
   "metadata": {
    "collapsed": false,
    "jupyter": {
     "outputs_hidden": false
    }
   },
   "source": [
    " ## Data Loading\n",
    " I will use the pretrained Bert tokenizer. The tokenizer will convert the text into tokens that the model can understand. The model will be trained to classify the intent of the text. I will use the BertForSequenceClassification model, which is a pretrained Bert model with a single linear classification layer on top. This model can be used for sequence classification tasks like ours."
   ]
  },
  {
   "cell_type": "code",
   "execution_count": 5,
   "id": "6c74f208",
   "metadata": {
    "ExecuteTime": {
     "end_time": "2023-11-21T23:25:24.884345Z",
     "start_time": "2023-11-21T23:25:23.005060Z"
    },
    "collapsed": false,
    "jupyter": {
     "outputs_hidden": false
    }
   },
   "outputs": [
    {
     "name": "stderr",
     "output_type": "stream",
     "text": [
      "Some weights of BertForSequenceClassification were not initialized from the model checkpoint at bert-base-uncased and are newly initialized: ['classifier.bias', 'classifier.weight']\n",
      "You should probably TRAIN this model on a down-stream task to be able to use it for predictions and inference.\n"
     ]
    }
   ],
   "source": [
    "# Load the pre-trained tokenizer\n",
    "tokenizer = BertTokenizer.from_pretrained('bert-base-uncased')\n",
    "\n",
    "# Load the pre-trained model for sequence classification with the number of labels\n",
    "model = BertForSequenceClassification.from_pretrained('bert-base-uncased', num_labels=len(cfg.le.classes_))\n",
    "model=model.to(device)"
   ]
  },
  {
   "cell_type": "markdown",
   "id": "ad6eb0f1",
   "metadata": {
    "collapsed": false,
    "jupyter": {
     "outputs_hidden": false
    }
   },
   "source": [
    "## PyTorch Dataset\n",
    "The data set uses encodings from tokenizer and labels from label encoder. The data set is then used to train the model."
   ]
  },
  {
   "cell_type": "code",
   "execution_count": 6,
   "id": "6705cecf-4482-45fa-90b0-3d40b639a6ea",
   "metadata": {
    "ExecuteTime": {
     "end_time": "2023-11-21T23:25:25.762342Z",
     "start_time": "2023-11-21T23:25:24.945933Z"
    }
   },
   "outputs": [],
   "source": [
    "class IntentDataset(Dataset):\n",
    "    def __init__(self, texts, labels, tokenizer, max_length):\n",
    "        self.encodings = tokenizer(texts, truncation=True, padding=True, max_length=max_length)\n",
    "        self.labels = labels\n",
    "\n",
    "    def __getitem__(self, idx):\n",
    "        item = {key: torch.tensor(val[idx]) for key, val in self.encodings.items()}\n",
    "        item['labels'] = torch.tensor(self.labels[idx])\n",
    "        return item\n",
    "\n",
    "    def __len__(self):\n",
    "        return len(self.labels)\n",
    "\n",
    "# Load data\n",
    "train_df = pd.read_csv('data/input/atis/train.tsv', sep='\\t', header=None, names=[\"text\", \"label\"])\n",
    "test_df = pd.read_csv('data/input/atis/test.tsv', sep='\\t', header=None, names=[\"text\", \"label\"])\n",
    "\n",
    "# Assume the second column is the label and the first column is the text\n",
    "train_texts = train_df[\"text\"].tolist()\n",
    "test_texts = test_df[\"text\"].tolist()\n",
    "\n",
    "# Convert labels to integer (if they are not already)\n",
    "# This might involve using a LabelEncoder as you have categorical labels\n",
    "from sklearn.preprocessing import LabelEncoder\n",
    "label_encoder = cfg.le\n",
    "num_labels = len(cfg.le.classes_)\n",
    "\n",
    "# Tokenize the text and create datasets\n",
    "max_length = 256  # Max length of the text sequence, you might need to adjust this based on your dataset\n",
    "train_dataset = IntentDataset(train_texts, cfg.train_labels, tokenizer, max_length)\n",
    "test_dataset = IntentDataset(test_texts, cfg.test_labels, tokenizer, max_length)"
   ]
  },
  {
   "cell_type": "markdown",
   "id": "cbe7174b",
   "metadata": {
    "collapsed": false,
    "jupyter": {
     "outputs_hidden": false
    }
   },
   "source": [
    "## Training\n",
    "Hyperparameters are defined here. The model is trained and evaluated."
   ]
  },
  {
   "cell_type": "code",
   "execution_count": 7,
   "id": "329965f9-8bad-46aa-b2f3-b1a3ac1630c1",
   "metadata": {
    "ExecuteTime": {
     "end_time": "2023-11-21T23:29:58.967429Z",
     "start_time": "2023-11-21T23:25:25.766465Z"
    }
   },
   "outputs": [
    {
     "data": {
      "text/html": [
       "\n",
       "    <div>\n",
       "      \n",
       "      <progress value='870' max='870' style='width:300px; height:20px; vertical-align: middle;'></progress>\n",
       "      [870/870 03:07, Epoch 3/3]\n",
       "    </div>\n",
       "    <table border=\"1\" class=\"dataframe\">\n",
       "  <thead>\n",
       " <tr style=\"text-align: left;\">\n",
       "      <th>Step</th>\n",
       "      <th>Training Loss</th>\n",
       "    </tr>\n",
       "  </thead>\n",
       "  <tbody>\n",
       "    <tr>\n",
       "      <td>50</td>\n",
       "      <td>3.007600</td>\n",
       "    </tr>\n",
       "    <tr>\n",
       "      <td>100</td>\n",
       "      <td>1.654500</td>\n",
       "    </tr>\n",
       "    <tr>\n",
       "      <td>150</td>\n",
       "      <td>0.935800</td>\n",
       "    </tr>\n",
       "    <tr>\n",
       "      <td>200</td>\n",
       "      <td>0.681800</td>\n",
       "    </tr>\n",
       "    <tr>\n",
       "      <td>250</td>\n",
       "      <td>0.415900</td>\n",
       "    </tr>\n",
       "    <tr>\n",
       "      <td>300</td>\n",
       "      <td>0.310200</td>\n",
       "    </tr>\n",
       "    <tr>\n",
       "      <td>350</td>\n",
       "      <td>0.225900</td>\n",
       "    </tr>\n",
       "    <tr>\n",
       "      <td>400</td>\n",
       "      <td>0.186500</td>\n",
       "    </tr>\n",
       "    <tr>\n",
       "      <td>450</td>\n",
       "      <td>0.146100</td>\n",
       "    </tr>\n",
       "    <tr>\n",
       "      <td>500</td>\n",
       "      <td>0.147700</td>\n",
       "    </tr>\n",
       "    <tr>\n",
       "      <td>550</td>\n",
       "      <td>0.092100</td>\n",
       "    </tr>\n",
       "    <tr>\n",
       "      <td>600</td>\n",
       "      <td>0.105100</td>\n",
       "    </tr>\n",
       "    <tr>\n",
       "      <td>650</td>\n",
       "      <td>0.090700</td>\n",
       "    </tr>\n",
       "    <tr>\n",
       "      <td>700</td>\n",
       "      <td>0.086600</td>\n",
       "    </tr>\n",
       "    <tr>\n",
       "      <td>750</td>\n",
       "      <td>0.076800</td>\n",
       "    </tr>\n",
       "    <tr>\n",
       "      <td>800</td>\n",
       "      <td>0.096100</td>\n",
       "    </tr>\n",
       "    <tr>\n",
       "      <td>850</td>\n",
       "      <td>0.021200</td>\n",
       "    </tr>\n",
       "  </tbody>\n",
       "</table><p>"
      ],
      "text/plain": [
       "<IPython.core.display.HTML object>"
      ]
     },
     "metadata": {},
     "output_type": "display_data"
    }
   ],
   "source": [
    "training_args = TrainingArguments(\n",
    "    output_dir='./results',          # output directory\n",
    "    num_train_epochs=3,              # total number of training epochs\n",
    "    per_device_train_batch_size=16,  # batch size per device during training\n",
    "    per_device_eval_batch_size=64,   # batch size for evaluation\n",
    "    warmup_steps=500,                # number of warmup steps for learning rate scheduler\n",
    "    weight_decay=1e-5,               # strength of weight decay\n",
    "    logging_dir='./logs',  \n",
    "    logging_strategy=\"steps\",  # or \"epoch\"\n",
    "    logging_steps=50,  # Log every 10 steps# directory for storing logs,\n",
    "    save_strategy=\"no\"\n",
    ")\n",
    "\n",
    "class MLflowLoggingCallback(TrainerCallback):\n",
    "    def on_evaluate(self, args, state, control, metrics=None, **kwargs):\n",
    "        # Log metrics with MLflow here\n",
    "        if metrics:\n",
    "            for key, value in metrics.items():\n",
    "                mlflow.log_metric(key, value, step=state.global_step)\n",
    "\n",
    "mlflow.set_tracking_uri(\"http://0.0.0.0:1234/\")\n",
    "try:\n",
    "    # Create an experiment and log parameters\n",
    "    mlflow(pytorch=True)\n",
    "    mlflow.start_run()\n",
    "    mlflow.log_param(\"epochs\", training_args.num_train_epochs)\n",
    "    mlflow.log_param(\"batch_size\", training_args.per_device_train_batch_size)\n",
    "    mlflow.log_param(\"learning_rate\", training_args.learning_rate)\n",
    "    mlflow.log_param(\"weight_decay\", training_args.weight_decay)\n",
    "    mlflow.log_param(\"warmup_steps\", training_args.warmup_steps)\n",
    "    mlflow.log_param(\"max_length\", max_length)\n",
    "    mlflow.log_param(\"num_labels\", num_labels)\n",
    "    mlflow.log_param(\"model\", \"bert-base-uncased\")\n",
    "\n",
    "except:\n",
    "    pass\n",
    "#mlflow.log_params(your_params_dict)  # Log any initial parameters\n",
    "trainer = Trainer(\n",
    "    model=model,\n",
    "    args=training_args,\n",
    "    train_dataset=train_dataset,\n",
    "    eval_dataset=test_dataset,\n",
    "    callbacks=[MLflowLoggingCallback()]\n",
    ")\n",
    "trainer.train()\n",
    "mlflow.end_run()"
   ]
  },
  {
   "cell_type": "markdown",
   "id": "2facb0df",
   "metadata": {
    "collapsed": false,
    "jupyter": {
     "outputs_hidden": false
    }
   },
   "source": [
    "## Save Model"
   ]
  },
  {
   "cell_type": "code",
   "execution_count": 21,
   "id": "ed9cecb1",
   "metadata": {
    "collapsed": false,
    "jupyter": {
     "outputs_hidden": false
    },
    "scrolled": true
   },
   "outputs": [],
   "source": [
    "trainer.save_model('data/results/bert-results/final_bert_evaluated')"
   ]
  },
  {
   "cell_type": "markdown",
   "id": "18ea53d2",
   "metadata": {
    "collapsed": false,
    "jupyter": {
     "outputs_hidden": false
    }
   },
   "source": [
    " ## Evaluate Model"
   ]
  },
  {
   "cell_type": "code",
   "execution_count": 9,
   "id": "d1afde02-e977-4abd-8203-dc873dbe788f",
   "metadata": {},
   "outputs": [
    {
     "data": {
      "text/html": [
       "\n",
       "    <div>\n",
       "      \n",
       "      <progress value='14' max='14' style='width:300px; height:20px; vertical-align: middle;'></progress>\n",
       "      [14/14 00:01]\n",
       "    </div>\n",
       "    "
      ],
      "text/plain": [
       "<IPython.core.display.HTML object>"
      ]
     },
     "metadata": {},
     "output_type": "display_data"
    },
    {
     "data": {
      "text/plain": [
       "{'eval_loss': 0.17101609706878662,\n",
       " 'eval_runtime': 1.2096,\n",
       " 'eval_samples_per_second': 702.708,\n",
       " 'eval_steps_per_second': 11.574,\n",
       " 'epoch': 3.0}"
      ]
     },
     "execution_count": 9,
     "metadata": {},
     "output_type": "execute_result"
    }
   ],
   "source": [
    "trainer.evaluate()"
   ]
  },
  {
   "cell_type": "markdown",
   "id": "f83612db-b574-429c-9e79-6e86289c48c8",
   "metadata": {},
   "source": [
    "# 4.2 Implementaion of Abstraction ELSTM+Attention\n",
    "Hugging face has its own tokenizer and training interface that abstracts pytorch implementation. I implement a similar approach. I provide an intercae that encapsulates pytorch and just exposes the parameters. Classes are implemented in machine_learning directory"
   ]
  },
  {
   "cell_type": "code",
   "execution_count": 11,
   "id": "6a563561-1604-4bd0-a45a-2e4d8e521676",
   "metadata": {},
   "outputs": [
    {
     "name": "stdout",
     "output_type": "stream",
     "text": [
      "Using device: mps\n"
     ]
    }
   ],
   "source": [
    "import pandas as pd\n",
    "import torch\n",
    "import torch.nn as nn\n",
    "from machine_learning.learners.IntentTokenizer import IntentTokenizer\n",
    "from machine_learning.learners.IntentClassifierLSTMWithAttention import IntentClassifierLSTMWithAttention\n",
    "from machine_learning.learners.model_utils import train, evaluate, predict\n",
    "from torch.utils.data import DataLoader\n",
    "from sklearn.metrics import accuracy_score, precision_score, recall_score, f1_score\n",
    "\n",
    "# Set device\n",
    "device = torch.device(\"cuda\" if torch.cuda.is_available() else \"mps\" if torch.backends.mps.is_available() else \"cpu\")\n",
    "print(f\"Using device: {device}\")\n",
    "\n",
    "# Load and preprocess the data\n",
    "train_df = pd.read_csv('data/input/atis/train.tsv', sep='\\t', header=None, names=[\"text\", \"label\"])\n",
    "test_df = pd.read_csv('data/input/atis/test.tsv', sep='\\t', header=None, names=[\"text\", \"label\"])"
   ]
  },
  {
   "cell_type": "markdown",
   "id": "56e57b0e-2bcf-4f28-842d-71b833b5a1ba",
   "metadata": {},
   "source": [
    "### Own Tokenizer Implementation"
   ]
  },
  {
   "cell_type": "code",
   "execution_count": 12,
   "id": "0d9fa6a0-342b-4747-a2f1-b3e0b821deda",
   "metadata": {},
   "outputs": [
    {
     "name": "stdout",
     "output_type": "stream",
     "text": [
      "inside IntentTokenizer\n",
      "Actual Vocabulary Size: 890\n",
      "Encoding labels for the first time and adding unknown class.\n",
      "Label Encoding: {'abbreviation': 0, 'aircraft': 1, 'aircraft+flight+flight_no': 2, 'airfare': 3, 'airfare+flight_time': 4, 'airline': 5, 'airline+flight_no': 6, 'airport': 7, 'capacity': 8, 'cheapest': 9, 'city': 10, 'distance': 11, 'flight': 12, 'flight+airfare': 13, 'flight_no': 14, 'flight_time': 15, 'ground_fare': 16, 'ground_service': 17, 'ground_service+ground_fare': 18, 'meal': 19, 'quantity': 20, 'restriction': 21, '<unknown>': 22}\n"
     ]
    }
   ],
   "source": [
    "tokenizer = IntentTokenizer(train_df)"
   ]
  },
  {
   "cell_type": "markdown",
   "id": "777fff00-ec4f-4208-8893-7ce6f0dad133",
   "metadata": {},
   "source": [
    "### Get data Tensors and Loaders in One go\n",
    "\n",
    "I use a Tupled Tensor Data Set, (two Tensors) first one giving the sequences, and and the 2nd one the labels"
   ]
  },
  {
   "cell_type": "code",
   "execution_count": 13,
   "id": "8331cd3e-861f-4575-95df-0944c07ed696",
   "metadata": {},
   "outputs": [
    {
     "name": "stdout",
     "output_type": "stream",
     "text": [
      "Number of training samples: torch.Size([4634, 46])\n",
      "Number of test samples: torch.Size([850, 30])\n",
      "Number of training batches: 145\n",
      "Number of test batches: 27\n"
     ]
    }
   ],
   "source": [
    "# Example usage\n",
    "train_data = tokenizer.process_data(train_df,device=device)\n",
    "test_data = tokenizer.process_data(test_df,device=device)\n",
    "print(\"Number of training samples:\", train_data.tensors[0].size())\n",
    "print(\"Number of test samples:\", test_data.tensors[0].size())\n",
    "\n",
    "# Create DataLoaders\n",
    "batch_size = 32\n",
    "train_loader = DataLoader(train_data, shuffle=True, batch_size=batch_size)\n",
    "test_loader = DataLoader(test_data, shuffle=True, batch_size=batch_size)\n",
    "print(\"Number of training batches:\", len(train_loader))\n",
    "print(\"Number of test batches:\", len(test_loader))"
   ]
  },
  {
   "cell_type": "markdown",
   "id": "24c693f5-3869-4512-9156-ad44fa88b471",
   "metadata": {},
   "source": [
    "### Encode Hyper parameters"
   ]
  },
  {
   "cell_type": "code",
   "execution_count": 14,
   "id": "00421fd7-9909-4da8-86d4-d6dbca069d53",
   "metadata": {},
   "outputs": [
    {
     "name": "stdout",
     "output_type": "stream",
     "text": [
      "Vocab Size: 892\n",
      "Embedding Dim: 64\n",
      "Hidden Dim: 128\n",
      "Output Dim: 23\n",
      "Dropout Rate: 0.4\n",
      "learning Rate: 0.0013\n",
      "epochs: 30\n"
     ]
    }
   ],
   "source": [
    "# Define loss function and optimizer\n",
    "loss_function = nn.CrossEntropyLoss()\n",
    "learning_rate = 0.0013              # If you set this too high, it might explode. If too low, it might not learn\n",
    "weight_decay = 4.53e-5              # Regularization strength\n",
    "dropout_rate = 0.4                 # Dropout rate\n",
    "embedding_dim = 64                # Size of each embedding vector\n",
    "hidden_dim = 128                 # Number of features in the hidden state of the LSTM\n",
    "batch_size = 32                  # Number of samples in each batch\n",
    "output_dim = len(IntentTokenizer.le.classes_)  # Number of classes\n",
    "num_epochs = 30         # Number of times to go through the entire dataset\n",
    "vocab_size = tokenizer.max_vocab_size + 1  # The size of the vocabulary\n",
    "# Create a string that summarizes these parameters\n",
    "params_str = f\"Vocab Size: {vocab_size}\\n\" \\\n",
    "             f\"Embedding Dim: {embedding_dim}\\n\" \\\n",
    "             f\"Hidden Dim: {hidden_dim}\\n\" \\\n",
    "             f\"Output Dim: {output_dim}\\n\" \\\n",
    "             f\"Dropout Rate: {dropout_rate}\\n\" \\\n",
    "             f\"learning Rate: {learning_rate}\\n\" \\\n",
    "             f\"epochs: {num_epochs}\"\n",
    "print(params_str)"
   ]
  },
  {
   "cell_type": "markdown",
   "id": "210c1bac-04be-4871-aa67-9c3fdf87617e",
   "metadata": {},
   "source": [
    "### Train, Evaluate, and Predict Abstraction\n",
    "with 3,4 lines of code, you can almost train, evaluate any intent classification model. The current model gives very good results."
   ]
  },
  {
   "cell_type": "code",
   "execution_count": 15,
   "id": "b6d2d0cb-8ac2-49fb-92fa-73ae346bff47",
   "metadata": {},
   "outputs": [
    {
     "name": "stdout",
     "output_type": "stream",
     "text": [
      "Epoch [1/30], Loss: 1.4623, Accuracy: 0.6981\n",
      "Epoch [2/30], Loss: 0.4983, Accuracy: 0.8921\n",
      "Epoch [3/30], Loss: 0.3534, Accuracy: 0.9128\n",
      "Epoch [4/30], Loss: 0.2362, Accuracy: 0.9398\n",
      "Epoch [5/30], Loss: 0.1899, Accuracy: 0.9553\n",
      "Epoch [6/30], Loss: 0.1579, Accuracy: 0.9605\n",
      "Epoch [7/30], Loss: 0.1262, Accuracy: 0.9650\n",
      "Epoch [8/30], Loss: 0.1151, Accuracy: 0.9694\n",
      "Epoch [9/30], Loss: 0.1045, Accuracy: 0.9711\n",
      "Epoch [10/30], Loss: 0.1036, Accuracy: 0.9715\n",
      "Epoch [11/30], Loss: 0.0863, Accuracy: 0.9732\n",
      "Epoch [12/30], Loss: 0.0871, Accuracy: 0.9750\n",
      "Epoch [13/30], Loss: 0.0601, Accuracy: 0.9810\n",
      "Epoch [14/30], Loss: 0.0573, Accuracy: 0.9849\n",
      "Epoch [15/30], Loss: 0.0596, Accuracy: 0.9849\n",
      "Epoch [16/30], Loss: 0.0434, Accuracy: 0.9873\n",
      "Epoch [17/30], Loss: 0.0587, Accuracy: 0.9825\n",
      "Epoch [18/30], Loss: 0.0517, Accuracy: 0.9849\n",
      "Epoch [19/30], Loss: 0.0465, Accuracy: 0.9860\n",
      "Epoch [20/30], Loss: 0.0440, Accuracy: 0.9883\n",
      "Epoch [21/30], Loss: 0.0308, Accuracy: 0.9899\n",
      "Epoch [22/30], Loss: 0.0361, Accuracy: 0.9883\n",
      "Epoch [23/30], Loss: 0.0327, Accuracy: 0.9899\n",
      "Epoch [24/30], Loss: 0.0365, Accuracy: 0.9892\n",
      "Epoch [25/30], Loss: 0.0414, Accuracy: 0.9888\n",
      "Epoch [26/30], Loss: 0.0255, Accuracy: 0.9907\n",
      "Epoch [27/30], Loss: 0.0208, Accuracy: 0.9942\n",
      "Epoch [28/30], Loss: 0.0311, Accuracy: 0.9905\n",
      "Epoch [29/30], Loss: 0.0225, Accuracy: 0.9931\n",
      "Epoch [30/30], Loss: 0.0253, Accuracy: 0.9916\n",
      "Test Loss: 0.3691\n",
      "Test Accuracy: 0.9529\n"
     ]
    },
    {
     "data": {
      "text/plain": [
       "0.9529411764705882"
      ]
     },
     "execution_count": 15,
     "metadata": {},
     "output_type": "execute_result"
    }
   ],
   "source": [
    "# Pick the model and train it. Evaluate the model on the test set.\n",
    "# choose model to train, uncomment the model you want to train and comment the other one\n",
    "# IntentClassifierLSTM is a simple LSTM model. IntentClassifierLSTMWithAttention is a LSTM model with attention.\n",
    "# The latter performs better.\n",
    "# Difference in Accuracy between the two models is about 3%\n",
    "\n",
    "# model = IntentClassifierLSTM(vocab_size, embedding_dim, hidden_dim, output_dim, dropout_rate).to(device)\n",
    "model = IntentClassifierLSTMWithAttention(vocab_size, embedding_dim, hidden_dim, output_dim, dropout_rate).to(device)\n",
    "optimizer = torch.optim.Adam(model.parameters(), lr=learning_rate, weight_decay=weight_decay)\n",
    "train(model, optimizer, loss_function, train_loader, num_epochs)\n",
    "evaluate(model, loss_function, test_loader)"
   ]
  },
  {
   "cell_type": "markdown",
   "id": "3ade7b12-6d50-4752-8424-d4a9d6b4733d",
   "metadata": {},
   "source": [
    "### Dynamic model saving and loading for the server\n",
    "*** A clever way to save the file can help us later , when building a flask server to give the class name and loading the model dynamically. I show how to do that ***"
   ]
  },
  {
   "cell_type": "markdown",
   "id": "714ed14d-ad78-4b80-8218-29800fefbe6a",
   "metadata": {},
   "source": [
    "`class_name=model.__class__.__name__\n",
    "\n",
    "print(class_name)\n",
    "\n",
    "print(f\"class_name={class_name}\")\n",
    "\n",
    "model.save_config_file(f\"config/{class_name}.json\")\n",
    "\n",
    "torch.save(model.state_dict(),f\"data/models/{class_name}_state_dict.pth\")\n",
    "\n",
    "tokenizer.save_state(f\"data/models/{class_name}_tokenizer.pickle\", f\"data/models/{class_name}_le.pickle\")`"
   ]
  },
  {
   "cell_type": "markdown",
   "id": "9a566999-aea9-4027-85cc-96e3bd507f46",
   "metadata": {},
   "source": [
    "## Now load the model dynamically, we will pass the same name ot IntentClassifier class, which will load the parameters of the modela and state dict from config and model dirs on run time"
   ]
  },
  {
   "cell_type": "code",
   "execution_count": 16,
   "id": "b946f191-fb57-4dc4-8de3-0a9cbe19683e",
   "metadata": {},
   "outputs": [
    {
     "data": {
      "text/plain": [
       "True"
      ]
     },
     "execution_count": 16,
     "metadata": {},
     "output_type": "execute_result"
    }
   ],
   "source": [
    "# Load the trained model and tokenizer from saved files\n",
    "from machine_learning.learners.intent_classifier import IntentClassifier\n",
    "class_name=\"IntentClassifierLSTMWithAttention\"\n",
    "model_serve=IntentClassifier(class_name)\n",
    "model_serve.load(class_name)"
   ]
  },
  {
   "cell_type": "markdown",
   "id": "5138d87b-98d5-42ea-a6cb-f8c9fdb6b3ce",
   "metadata": {},
   "source": [
    "### Model Serving"
   ]
  },
  {
   "cell_type": "code",
   "execution_count": 17,
   "id": "5756d7fa-efef-4d2f-b386-2f572ae9dbf6",
   "metadata": {},
   "outputs": [
    {
     "name": "stdout",
     "output_type": "stream",
     "text": [
      "Predicted label: [{'label': 'airline', 'confidence': 0.948722243309021}, {'label': 'aircraft', 'confidence': 0.022765884175896645}, {'label': 'airline+flight_no', 'confidence': 0.010119378566741943}]\n"
     ]
    }
   ],
   "source": [
    "# Predict on a query\n",
    "max_query_length = 50\n",
    "query_text = \"what airlines off from love field between 6 and 10 am on june sixth\"\n",
    "\n",
    "prediction = model_serve.predict(query_text)\n",
    "print(f\"Predicted label: {prediction}\")"
   ]
  },
  {
   "cell_type": "markdown",
   "id": "a00e4134-62e3-436e-88c4-811a0f4eca6c",
   "metadata": {},
   "source": [
    "# Conclusion\n",
    "In the Notebooks, I have accomplished the following:\n",
    "1. Show how to train a simple model and add Attention Mechanism to improve accuracy\n",
    "2. Building a better model through cross validation based hyper parameter selection and parameter logging.\n",
    "3. Model Management, Registry, and Experiment Management. Very important parts of MLOPs and Machine Learning Engineering\n",
    "4. Model Evaluation, on test data and performance during production time. Confidence Scores and Performance Improvment by using a distillation approach (using gpt4 to create OOS data and fine tune the best model choosen through hyperparameter selection). Improve production accuracy and performance\n",
    "5. Using Hugging Face Pretrained Transformers model. Fine tuning on Atis Data Set\n",
    "6. Building a Transfomer like Abstract Interface to ELSTM with Attention Model, i.e. Hide Pytorch and Only allow parameters to pass through (code in machine_learning folder)\n",
    "7. A dynamic loading scheme for the model parameters through json file and class name based state dictionary. That can be used in flask paramteres to load the model dynamically\n",
    "\n",
    "I hope many of the questions in the challenge are resolved. There are tons of things one can do there, one can visualize the impact of Attentions and Embeddings, one can implement A/B testing, logging in production, discuss more distillation approaches, etc.. looking forward to more fun :)\n"
   ]
  },
  {
   "cell_type": "code",
   "execution_count": null,
   "id": "34938274-d9e6-47a1-a69e-8056406ff2b0",
   "metadata": {},
   "outputs": [],
   "source": []
  }
 ],
 "metadata": {
  "kernelspec": {
   "display_name": "Python 3 (ipykernel)",
   "language": "python",
   "name": "python3"
  },
  "language_info": {
   "codemirror_mode": {
    "name": "ipython",
    "version": 3
   },
   "file_extension": ".py",
   "mimetype": "text/x-python",
   "name": "python",
   "nbconvert_exporter": "python",
   "pygments_lexer": "ipython3",
   "version": "3.9.10"
  }
 },
 "nbformat": 4,
 "nbformat_minor": 5
}
