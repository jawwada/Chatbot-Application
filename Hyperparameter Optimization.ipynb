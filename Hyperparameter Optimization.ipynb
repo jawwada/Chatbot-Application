{
 "cells": [
  {
   "cell_type": "markdown",
   "metadata": {
    "collapsed": false,
    "jupyter": {
     "outputs_hidden": false
    }
   },
   "source": [
    "#    Hyperparameter Tuning for Intent Classification using LSTM with Attention Mechanism\n",
    "This notebook is a part of the Ultimate AI Challenge. In this notebook, we train a LSTM with Attention Mechanism for Intent Classification on the ATIS dataset. We use Optuna for hyperparameter tuning and MLflow for experiment tracking and model registry. We also use ONNX for model export and inference. The notebook is divided into the following sections:\n",
    "1. Data Preparation\n",
    "2. Hyperparameter Tuning\n",
    "3. Model Training and Evaluation\n",
    "4. Visualize the results\n",
    "5. Model Export, Registry, Model Loading and Inference\n"
   ]
  },
  {
   "cell_type": "code",
   "execution_count": 35,
   "metadata": {
    "collapsed": false,
    "jupyter": {
     "outputs_hidden": false
    },
    "ExecuteTime": {
     "end_time": "2023-11-22T20:34:59.589625Z",
     "start_time": "2023-11-22T20:34:59.573041Z"
    }
   },
   "outputs": [
    {
     "name": "stdout",
     "output_type": "stream",
     "text": [
      "Using device: mps\n"
     ]
    }
   ],
   "source": [
    "import sys\n",
    "from sklearn.model_selection import KFold\n",
    "import torch.nn as nn\n",
    "from machine_learning.IntentClassifierLSTMWithAttention import IntentClassifierLSTMWithAttention\n",
    "from machine_learning.IntentTokenizer import IntentTokenizer\n",
    "import torch.optim as optim\n",
    "import pandas as pd\n",
    "import torch\n",
    "from torch.utils.data import DataLoader\n",
    "from machine_learning.model_utils import train, evaluate, predict, get_or_create_experiment\n",
    "import optuna\n",
    "import logging\n",
    "import mlflow\n",
    "from optuna.visualization import plot_optimization_history\n",
    "import matplotlib.pyplot as plt\n",
    "\n",
    "import warnings\n",
    "warnings.filterwarnings(\"ignore\", category=UserWarning, message=\".*setuptools.*\")\n",
    "\n",
    "device=torch.device(\"cuda\" if torch.cuda.is_available() else \"mps\" if torch.backends.mps.is_available() else \"cpu\")\n",
    "print(f\"Using device: {device}\")"
   ]
  },
  {
   "cell_type": "markdown",
   "metadata": {
    "collapsed": false,
    "jupyter": {
     "outputs_hidden": false
    }
   },
   "source": [
    "## Data Preparation\n",
    "Steps:\n",
    "1. Load the data\n",
    "2. Tokenize the data\n",
    "3. Create a PyTorch Dataset\n",
    "4. Create a PyTorch DataLoader"
   ]
  },
  {
   "cell_type": "code",
   "execution_count": 36,
   "metadata": {
    "collapsed": false,
    "jupyter": {
     "outputs_hidden": false
    },
    "ExecuteTime": {
     "end_time": "2023-11-22T20:35:00.688317Z",
     "start_time": "2023-11-22T20:34:59.579377Z"
    }
   },
   "outputs": [
    {
     "name": "stdout",
     "output_type": "stream",
     "text": [
      "Number of training samples: torch.Size([4634, 46])\n",
      "Number of training batches: 145\n",
      "Number of test samples: torch.Size([850, 30])\n",
      "Number of test batches: 27\n"
     ]
    }
   ],
   "source": [
    "optuna.logging.set_verbosity(optuna.logging.ERROR)\n",
    "\n",
    "train_df = pd.read_csv('data/atis/train.tsv', sep='\\t', header=None, names=[\"text\", \"label\"])\n",
    "test_df = pd.read_csv('data/atis/test.tsv', sep='\\t', header=None, names=[\"text\", \"label\"])\n",
    "tokenizer = IntentTokenizer(train_df)\n",
    "\n",
    "# define constants and hyperparameters\n",
    "vocab_size=tokenizer.max_vocab_size+1\n",
    "output_dim=len(tokenizer.le.classes_)\n",
    "batch_size = 32\n",
    "num_epochs = 5\n",
    "\n",
    "train_data = tokenizer.process_data(train_df, device=device)\n",
    "train_loader = DataLoader(train_data, shuffle=True, batch_size=batch_size)\n",
    "print(\"Number of training samples:\", train_data.tensors[0].size())\n",
    "print(\"Number of training batches:\", len(train_loader))\n",
    "\n",
    "test_data = tokenizer.process_data(test_df, device=device)\n",
    "print(\"Number of test samples:\", test_data.tensors[0].size())\n",
    "test_loader = DataLoader(test_data, shuffle=True, batch_size=batch_size)\n",
    "print(\"Number of test batches:\", len(test_loader))"
   ]
  },
  {
   "cell_type": "code",
   "execution_count": 37,
   "metadata": {
    "collapsed": false,
    "jupyter": {
     "outputs_hidden": false
    },
    "ExecuteTime": {
     "end_time": "2023-11-22T20:35:00.917993Z",
     "start_time": "2023-11-22T20:35:00.690034Z"
    }
   },
   "outputs": [
    {
     "name": "stdout",
     "output_type": "stream",
     "text": [
      "Sample training data:\n",
      "tensor([[ 10,  69,   1,  38,   2,   9,  66, 397,  86,  17,  81,  16,  13,  66,\n",
      "         525,  16,   4,  35,   0,   0,   0,   0,   0,   0,   0,   0,   0,   0,\n",
      "           0,   0,   0,   0,   0,   0,   0,   0,   0,   0,   0,   0,   0,   0,\n",
      "           0,   0,   0,   0],\n",
      "        [  6,   3,  26,  58,   2,  19,   1,  23,   5,  72,  35,   0,   0,   0,\n",
      "           0,   0,   0,   0,   0,   0,   0,   0,   0,   0,   0,   0,   0,   0,\n",
      "           0,   0,   0,   0,   0,   0,   0,   0,   0,   0,   0,   0,   0,   0,\n",
      "           0,   0,   0,   0],\n",
      "        [  6,  21,   4, 398, 176,  16,  11,  15,  39,   4, 526,  86,   7,  33,\n",
      "          32,   0,   0,   0,   0,   0,   0,   0,   0,   0,   0,   0,   0,   0,\n",
      "           0,   0,   0,   0,   0,   0,   0,   0,   0,   0,   0,   0,   0,   0,\n",
      "           0,   0,   0,   0],\n",
      "        [ 49, 270,   2, 177,   1, 123,   0,   0,   0,   0,   0,   0,   0,   0,\n",
      "           0,   0,   0,   0,   0,   0,   0,   0,   0,   0,   0,   0,   0,   0,\n",
      "           0,   0,   0,   0,   0,   0,   0,   0,   0,   0,   0,   0,   0,   0,\n",
      "           0,   0,   0,   0],\n",
      "        [ 59,  52,  68,   2,  19,   1,  24, 346, 266, 182,   0,   0,   0,   0,\n",
      "           0,   0,   0,   0,   0,   0,   0,   0,   0,   0,   0,   0,   0,   0,\n",
      "           0,   0,   0,   0,   0,   0,   0,   0,   0,   0,   0,   0,   0,   0,\n",
      "           0,   0,   0,   0]], device='mps:0')\n"
     ]
    },
    {
     "data": {
      "text/plain": "<Figure size 1200x400 with 2 Axes>",
      "image/png": "[encoded data removed]"
     },
     "metadata": {},
     "output_type": "display_data"
    }
   ],
   "source": [
    "# Visualize the data\n",
    "print(\"Sample training data:\")\n",
    "print(train_data.tensors[0][:5])\n",
    "\n",
    "# Plot the class distribution ins test and train\n",
    "fig, (ax1, ax2) = plt.subplots(1, 2, figsize=(12, 4))\n",
    "train_df.label.value_counts().plot(kind='bar', ax=ax1)\n",
    "ax1.set_title(\"Train\")\n",
    "test_df.label.value_counts().plot(kind='bar', ax=ax2)\n",
    "ax2.set_title(\"Test\")\n",
    "plt.show()"
   ]
  },
  {
   "cell_type": "markdown",
   "metadata": {
    "collapsed": false,
    "jupyter": {
     "outputs_hidden": false
    }
   },
   "source": [
    "## Hyperparameter Tuning\n",
    "The Model that we are using for the hyperparameter tuning is the IntentClassifierLSTMWithAttention. The hyperparameters that we are tuning are:\n",
    "1. Learning rate : 1e-3 to 1e-1\n",
    "2. Hidden dimension : 32, 64, 128, 256\n",
    "3. Embedding dimension : 64, 128, 256, 512\n",
    "4. Dropout rate : 0.1 to 0.5\n",
    "5. Weight decay : 1e-6 to 1e-3\n",
    "\n",
    "The objective function is the average validation accuracy over 5 folds. The best model is the one with the highest average validation accuracy."
   ]
  },
  {
   "cell_type": "code",
   "execution_count": 61,
   "metadata": {
    "collapsed": false,
    "jupyter": {
     "outputs_hidden": false
    },
    "ExecuteTime": {
     "end_time": "2023-11-22T21:21:40.985739Z",
     "start_time": "2023-11-22T21:21:40.982816Z"
    }
   },
   "outputs": [],
   "source": [
    "def log_hyperparameters(trial):\n",
    "    # Log hyperparameters\n",
    "    \n",
    "    mlflow.log_param(\"lr\", trial.params[\"lr\"])\n",
    "    mlflow.log_param(\"hidden_dim\", trial.params[\"hidden_dim\"])\n",
    "    mlflow.log_param(\"embedding_dim\", trial.params[\"embedding_dim\"])\n",
    "    mlflow.log_param(\"dropout_rate\", trial.params[\"dropout_rate\"])\n",
    "    mlflow.log_param(\"weight_decay\", trial.params[\"weight_decay\"])\n",
    "    print(f'lr: {trial.params[\"lr\"]}, hidden_dim: {trial.params[\"hidden_dim\"]}, embedding_dim: {trial.params[\"embedding_dim\"]}, dropout_rate: {trial.params[\"dropout_rate\"]}, weight_decay: {trial.params[\"weight_decay\"]}')\n",
    "\n",
    "    return\n",
    "\n",
    "def log_metrics(trial, accuracy):\n",
    "    # Log metrics\n",
    "    mlflow.log_metric(\"accuracy\", accuracy)\n",
    "    return\n",
    "def objective(trial):\n",
    "    with mlflow.start_run():\n",
    "        # Suggest hyperparameters\n",
    "        lr = trial.suggest_float(\"lr\", 1e-4, 1e-2, log=True)\n",
    "        hidden_dim = trial.suggest_categorical(\"hidden_dim\", [32, 64, 256])\n",
    "        embedding_dim = trial.suggest_categorical(\"embedding_dim\", [64, 128, 256])\n",
    "        dropout_rate = trial.suggest_float(\"dropout_rate\", 0.1, 0.5)\n",
    "        weight_decay = trial.suggest_float(\"weight_decay\", 1e-5, 1e-3, log=True)\n",
    "        criterion = nn.CrossEntropyLoss()\n",
    "        log_hyperparameters(trial)\n",
    "        # Model, loss, and optimizer\n",
    "        # model = IntentClassifierLSTM(cfg.vocab_size, embedding_dim, hidden_dim, cfg.output_dim,dropout_rate).to(device)\n",
    "        model = IntentClassifierLSTMWithAttention(vocab_size, embedding_dim, hidden_dim, output_dim, dropout_rate).to(device)\n",
    "        optimizer = optim.Adam(model.parameters(), lr=lr, weight_decay=weight_decay)\n",
    "        kfold = KFold(n_splits=5, shuffle=True, random_state=42)\n",
    "        fold_val_acc = []\n",
    "\n",
    "        for fold, (train_idx, val_idx) in enumerate(kfold.split(train_df)):\n",
    "            # Prepare fold data\n",
    "            train_data_subset = tokenizer.process_data(train_df.loc[train_idx,:], device=device)\n",
    "            val_data_subset = tokenizer.process_data(train_df.loc[val_idx,:], device=device)\n",
    "            train_subset_loader = DataLoader(train_data_subset, batch_size=batch_size, shuffle=True)\n",
    "            val_subset_loader = DataLoader(val_data_subset, batch_size=batch_size, shuffle=False)\n",
    "            fold_loss = train(model, optimizer, criterion, train_subset_loader, num_epochs)\n",
    "            val_accuracy = evaluate(model,  criterion, val_subset_loader, data_type=\"Validation\")\n",
    "            print(f'Fold: {fold + 1}, Training Loss: {fold_loss:.4f}, Validation Accuracy: {val_accuracy:.4f}')\n",
    "            fold_val_acc.append(val_accuracy)\n",
    "        average_val_acc = sum(fold_val_acc) / len(fold_val_acc)\n",
    "        print(f'Average validation accuracy: {average_val_acc:.4f}')\n",
    "        log_metrics(trial, average_val_acc)\n",
    "    return average_val_acc"
   ]
  },
  {
   "cell_type": "markdown",
   "metadata": {
    "collapsed": false,
    "jupyter": {
     "outputs_hidden": false
    }
   },
   "source": [
    "## Optuna Experiments\n",
    "Create an experiment in MLflow and run the hyperparameter tuning experiment. The best model is the one with the highest average validation accuracy."
   ]
  },
  {
   "cell_type": "code",
   "execution_count": null,
   "metadata": {
    "collapsed": false,
    "jupyter": {
     "outputs_hidden": false
    },
    "scrolled": true,
    "is_executing": true,
    "ExecuteTime": {
     "start_time": "2023-11-22T21:21:42.480510Z"
    }
   },
   "outputs": [
    {
     "name": "stdout",
     "output_type": "stream",
     "text": [
      "lr: 0.0029129252046828265, hidden_dim: 32, embedding_dim: 64, dropout_rate: 0.3621992380721305, weight_decay: 0.00013176550053080663\n",
      "Epoch [1/5], Loss: 1.6434, Accuracy: 0.6577\n",
      "Epoch [2/5], Loss: 0.5652, Accuracy: 0.8740\n",
      "Epoch [3/5], Loss: 0.3716, Accuracy: 0.9088\n",
      "Epoch [4/5], Loss: 0.2770, Accuracy: 0.9288\n",
      "Epoch [5/5], Loss: 0.2278, Accuracy: 0.9428\n",
      "Validation Loss: 0.1439\n",
      "Validation Accuracy: 0.9601\n",
      "Fold: 1, Training Loss: 0.2278, Validation Accuracy: 0.9601\n",
      "Epoch [1/5], Loss: 0.1955, Accuracy: 0.9482\n",
      "Epoch [2/5], Loss: 0.1380, Accuracy: 0.9628\n",
      "Epoch [3/5], Loss: 0.1157, Accuracy: 0.9722\n",
      "Epoch [4/5], Loss: 0.1016, Accuracy: 0.9714\n",
      "Epoch [5/5], Loss: 0.0911, Accuracy: 0.9776\n",
      "Validation Loss: 0.1126\n",
      "Validation Accuracy: 0.9763\n",
      "Fold: 2, Training Loss: 0.0911, Validation Accuracy: 0.9763\n",
      "Epoch [1/5], Loss: 0.1024, Accuracy: 0.9728\n",
      "Epoch [2/5], Loss: 0.0865, Accuracy: 0.9768\n",
      "Epoch [3/5], Loss: 0.0652, Accuracy: 0.9819\n",
      "Epoch [4/5], Loss: 0.0525, Accuracy: 0.9860\n",
      "Epoch [5/5], Loss: 0.0496, Accuracy: 0.9862\n",
      "Validation Loss: 0.0462\n",
      "Validation Accuracy: 0.9892\n",
      "Fold: 3, Training Loss: 0.0496, Validation Accuracy: 0.9892\n",
      "Epoch [1/5], Loss: 0.0641, Accuracy: 0.9838\n",
      "Epoch [2/5], Loss: 0.0485, Accuracy: 0.9860\n",
      "Epoch [3/5], Loss: 0.0438, Accuracy: 0.9876\n",
      "Epoch [4/5], Loss: 0.0336, Accuracy: 0.9903\n",
      "Epoch [5/5], Loss: 0.0364, Accuracy: 0.9895\n",
      "Validation Loss: 0.0369\n",
      "Validation Accuracy: 0.9935\n",
      "Fold: 4, Training Loss: 0.0364, Validation Accuracy: 0.9935\n",
      "Epoch [1/5], Loss: 0.0519, Accuracy: 0.9860\n",
      "Epoch [2/5], Loss: 0.0389, Accuracy: 0.9871\n",
      "Epoch [3/5], Loss: 0.0422, Accuracy: 0.9876\n",
      "Epoch [4/5], Loss: 0.0235, Accuracy: 0.9949\n",
      "Epoch [5/5], Loss: 0.0199, Accuracy: 0.9935\n",
      "Validation Loss: 0.0189\n",
      "Validation Accuracy: 0.9968\n",
      "Fold: 5, Training Loss: 0.0199, Validation Accuracy: 0.9968\n",
      "Average validation accuracy: 0.9832\n",
      "lr: 0.00042663166307208396, hidden_dim: 64, embedding_dim: 256, dropout_rate: 0.23824075907113682, weight_decay: 0.0007822407221835895\n",
      "Epoch [1/5], Loss: 2.4541, Accuracy: 0.4907\n",
      "Epoch [2/5], Loss: 1.2085, Accuracy: 0.8241\n",
      "Epoch [3/5], Loss: 0.7186, Accuracy: 0.8783\n",
      "Epoch [4/5], Loss: 0.4649, Accuracy: 0.9172\n",
      "Epoch [5/5], Loss: 0.3402, Accuracy: 0.9307\n",
      "Validation Loss: 0.2267\n",
      "Validation Accuracy: 0.9547\n",
      "Fold: 1, Training Loss: 0.3402, Validation Accuracy: 0.9547\n",
      "Epoch [1/5], Loss: 0.2534, Accuracy: 0.9506\n",
      "Epoch [2/5], Loss: 0.1969, Accuracy: 0.9617\n",
      "Epoch [3/5], Loss: 0.1691, Accuracy: 0.9663\n",
      "Epoch [4/5], Loss: 0.1298, Accuracy: 0.9728\n",
      "Epoch [5/5], Loss: 0.1273, Accuracy: 0.9714\n",
      "Validation Loss: 0.1573\n",
      "Validation Accuracy: 0.9644\n",
      "Fold: 2, Training Loss: 0.1273, Validation Accuracy: 0.9644\n",
      "Epoch [1/5], Loss: 0.1281, Accuracy: 0.9730\n",
      "Epoch [2/5], Loss: 0.0954, Accuracy: 0.9790\n",
      "Epoch [3/5], Loss: 0.0864, Accuracy: 0.9808\n",
      "Epoch [4/5], Loss: 0.0943, Accuracy: 0.9819\n",
      "Epoch [5/5], Loss: 0.0756, Accuracy: 0.9825\n",
      "Validation Loss: 0.0665\n",
      "Validation Accuracy: 0.9752\n",
      "Fold: 3, Training Loss: 0.0756, Validation Accuracy: 0.9752\n",
      "Epoch [1/5], Loss: 0.0879, Accuracy: 0.9803\n",
      "Epoch [2/5], Loss: 0.0927, Accuracy: 0.9765\n",
      "Epoch [3/5], Loss: 0.0630, Accuracy: 0.9838\n",
      "Epoch [4/5], Loss: 0.0468, Accuracy: 0.9900\n",
      "Epoch [5/5], Loss: 0.0550, Accuracy: 0.9895\n",
      "Validation Loss: 0.0348\n",
      "Validation Accuracy: 0.9914\n",
      "Fold: 4, Training Loss: 0.0550, Validation Accuracy: 0.9914\n",
      "Epoch [1/5], Loss: 0.0519, Accuracy: 0.9892\n",
      "Epoch [2/5], Loss: 0.0425, Accuracy: 0.9906\n",
      "Epoch [3/5], Loss: 0.0372, Accuracy: 0.9903\n",
      "Epoch [4/5], Loss: 0.0357, Accuracy: 0.9941\n",
      "Epoch [5/5], Loss: 0.0338, Accuracy: 0.9914\n",
      "Validation Loss: 0.0306\n",
      "Validation Accuracy: 0.9957\n",
      "Fold: 5, Training Loss: 0.0338, Validation Accuracy: 0.9957\n",
      "Average validation accuracy: 0.9763\n",
      "lr: 0.0009363250177949657, hidden_dim: 64, embedding_dim: 64, dropout_rate: 0.15275511722845883, weight_decay: 0.00026170690890851654\n",
      "Epoch [1/5], Loss: 1.8855, Accuracy: 0.6434\n",
      "Epoch [2/5], Loss: 0.6370, Accuracy: 0.8848\n",
      "Epoch [3/5], Loss: 0.3668, Accuracy: 0.9291\n",
      "Epoch [4/5], Loss: 0.2751, Accuracy: 0.9417\n",
      "Epoch [5/5], Loss: 0.2245, Accuracy: 0.9490\n",
      "Validation Loss: 0.1990\n",
      "Validation Accuracy: 0.9612\n",
      "Fold: 1, Training Loss: 0.2245, Validation Accuracy: 0.9612\n",
      "Epoch [1/5], Loss: 0.1761, Accuracy: 0.9566\n",
      "Epoch [2/5], Loss: 0.1422, Accuracy: 0.9671\n",
      "Epoch [3/5], Loss: 0.1225, Accuracy: 0.9728\n",
      "Epoch [4/5], Loss: 0.1022, Accuracy: 0.9733\n",
      "Epoch [5/5], Loss: 0.0960, Accuracy: 0.9779\n",
      "Validation Loss: 0.1059\n",
      "Validation Accuracy: 0.9730\n",
      "Fold: 2, Training Loss: 0.0960, Validation Accuracy: 0.9730\n",
      "Epoch [1/5], Loss: 0.0789, Accuracy: 0.9784\n",
      "Epoch [2/5], Loss: 0.0857, Accuracy: 0.9773\n",
      "Epoch [3/5], Loss: 0.0737, Accuracy: 0.9806\n",
      "Epoch [4/5], Loss: 0.0559, Accuracy: 0.9860\n",
      "Epoch [5/5], Loss: 0.0485, Accuracy: 0.9881\n",
      "Validation Loss: 0.0531\n",
      "Validation Accuracy: 0.9849\n",
      "Fold: 3, Training Loss: 0.0485, Validation Accuracy: 0.9849\n",
      "Epoch [1/5], Loss: 0.0526, Accuracy: 0.9884\n",
      "Epoch [2/5], Loss: 0.0559, Accuracy: 0.9868\n",
      "Epoch [3/5], Loss: 0.0487, Accuracy: 0.9884\n",
      "Epoch [4/5], Loss: 0.0427, Accuracy: 0.9889\n",
      "Epoch [5/5], Loss: 0.0442, Accuracy: 0.9897\n",
      "Validation Loss: 0.0366\n",
      "Validation Accuracy: 0.9914\n",
      "Fold: 4, Training Loss: 0.0442, Validation Accuracy: 0.9914\n",
      "Epoch [1/5], Loss: 0.0511, Accuracy: 0.9892\n",
      "Epoch [2/5], Loss: 0.0463, Accuracy: 0.9887\n",
      "Epoch [3/5], Loss: 0.0373, Accuracy: 0.9895\n",
      "Epoch [4/5], Loss: 0.0329, Accuracy: 0.9919\n",
      "Epoch [5/5], Loss: 0.0236, Accuracy: 0.9933\n",
      "Validation Loss: 0.0146\n",
      "Validation Accuracy: 0.9957\n",
      "Fold: 5, Training Loss: 0.0236, Validation Accuracy: 0.9957\n",
      "Average validation accuracy: 0.9812\n",
      "lr: 0.0019306271624527735, hidden_dim: 256, embedding_dim: 64, dropout_rate: 0.3102034561712219, weight_decay: 2.3573421916177962e-05\n",
      "Epoch [1/5], Loss: 1.2998, Accuracy: 0.7505\n",
      "Epoch [2/5], Loss: 0.4445, Accuracy: 0.8996\n",
      "Epoch [3/5], Loss: 0.3067, Accuracy: 0.9255\n",
      "Epoch [4/5], Loss: 0.2194, Accuracy: 0.9439\n",
      "Epoch [5/5], Loss: 0.1452, Accuracy: 0.9612\n",
      "Validation Loss: 0.0949\n",
      "Validation Accuracy: 0.9773\n",
      "Fold: 1, Training Loss: 0.1452, Validation Accuracy: 0.9773\n",
      "Epoch [1/5], Loss: 0.1479, Accuracy: 0.9595\n",
      "Epoch [2/5], Loss: 0.1205, Accuracy: 0.9665\n",
      "Epoch [3/5], Loss: 0.1007, Accuracy: 0.9757\n",
      "Epoch [4/5], Loss: 0.0735, Accuracy: 0.9795\n",
      "Epoch [5/5], Loss: 0.0717, Accuracy: 0.9814\n",
      "Validation Loss: 0.0967\n",
      "Validation Accuracy: 0.9827\n",
      "Fold: 2, Training Loss: 0.0717, Validation Accuracy: 0.9827\n",
      "Epoch [1/5], Loss: 0.0932, Accuracy: 0.9781\n",
      "Epoch [2/5], Loss: 0.0711, Accuracy: 0.9827\n",
      "Epoch [3/5], Loss: 0.0447, Accuracy: 0.9873\n",
      "Epoch [4/5], Loss: 0.0521, Accuracy: 0.9857\n",
      "Epoch [5/5], Loss: 0.0301, Accuracy: 0.9924\n",
      "Validation Loss: 0.0806\n",
      "Validation Accuracy: 0.9871\n",
      "Fold: 3, Training Loss: 0.0301, Validation Accuracy: 0.9871\n",
      "Epoch [1/5], Loss: 0.0793, Accuracy: 0.9835\n",
      "Epoch [2/5], Loss: 0.0570, Accuracy: 0.9879\n",
      "Epoch [3/5], Loss: 0.0344, Accuracy: 0.9884\n",
      "Epoch [4/5], Loss: 0.0180, Accuracy: 0.9941\n",
      "Epoch [5/5], Loss: 0.0403, Accuracy: 0.9889\n",
      "Validation Loss: 0.0285\n",
      "Validation Accuracy: 0.9946\n",
      "Fold: 4, Training Loss: 0.0403, Validation Accuracy: 0.9946\n",
      "Epoch [1/5], Loss: 0.0380, Accuracy: 0.9889\n",
      "Epoch [2/5], Loss: 0.0315, Accuracy: 0.9898\n",
      "Epoch [3/5], Loss: 0.0328, Accuracy: 0.9911\n",
      "Epoch [4/5], Loss: 0.0242, Accuracy: 0.9930\n",
      "Epoch [5/5], Loss: 0.0146, Accuracy: 0.9954\n",
      "Validation Loss: 0.0203\n",
      "Validation Accuracy: 0.9968\n",
      "Fold: 5, Training Loss: 0.0146, Validation Accuracy: 0.9968\n",
      "Average validation accuracy: 0.9877\n",
      "lr: 0.0005667417892925576, hidden_dim: 32, embedding_dim: 64, dropout_rate: 0.21251608484978815, weight_decay: 0.0009593995512801034\n",
      "Epoch [1/5], Loss: 2.9054, Accuracy: 0.3205\n",
      "Epoch [2/5], Loss: 1.7355, Accuracy: 0.7243\n",
      "Epoch [3/5], Loss: 1.0474, Accuracy: 0.8301\n",
      "Epoch [4/5], Loss: 0.7127, Accuracy: 0.8700\n",
      "Epoch [5/5], Loss: 0.5669, Accuracy: 0.8875\n",
      "Validation Loss: 0.3708\n",
      "Validation Accuracy: 0.9234\n",
      "Fold: 1, Training Loss: 0.5669, Validation Accuracy: 0.9234\n",
      "Epoch [1/5], Loss: 0.4745, Accuracy: 0.9018\n",
      "Epoch [2/5], Loss: 0.4061, Accuracy: 0.9123\n",
      "Epoch [3/5], Loss: 0.3488, Accuracy: 0.9261\n",
      "Epoch [4/5], Loss: 0.2954, Accuracy: 0.9320\n",
      "Epoch [5/5], Loss: 0.2999, Accuracy: 0.9312\n",
      "Validation Loss: 0.2614\n",
      "Validation Accuracy: 0.9342\n",
      "Fold: 2, Training Loss: 0.2999, Validation Accuracy: 0.9342\n",
      "Epoch [1/5], Loss: 0.2735, Accuracy: 0.9350\n",
      "Epoch [2/5], Loss: 0.2495, Accuracy: 0.9388\n",
      "Epoch [3/5], Loss: 0.2328, Accuracy: 0.9452\n",
      "Epoch [4/5], Loss: 0.2042, Accuracy: 0.9523\n",
      "Epoch [5/5], Loss: 0.2033, Accuracy: 0.9493\n",
      "Validation Loss: 0.1453\n",
      "Validation Accuracy: 0.9687\n",
      "Fold: 3, Training Loss: 0.2033, Validation Accuracy: 0.9687\n",
      "Epoch [1/5], Loss: 0.1686, Accuracy: 0.9598\n",
      "Epoch [2/5], Loss: 0.1660, Accuracy: 0.9620\n",
      "Epoch [3/5], Loss: 0.1591, Accuracy: 0.9582\n",
      "Epoch [4/5], Loss: 0.1537, Accuracy: 0.9625\n",
      "Epoch [5/5], Loss: 0.1381, Accuracy: 0.9682\n",
      "Validation Loss: 0.1172\n",
      "Validation Accuracy: 0.9687\n",
      "Fold: 4, Training Loss: 0.1381, Validation Accuracy: 0.9687\n",
      "Epoch [1/5], Loss: 0.1237, Accuracy: 0.9711\n",
      "Epoch [2/5], Loss: 0.1248, Accuracy: 0.9698\n",
      "Epoch [3/5], Loss: 0.1171, Accuracy: 0.9720\n",
      "Epoch [4/5], Loss: 0.1023, Accuracy: 0.9728\n",
      "Epoch [5/5], Loss: 0.0934, Accuracy: 0.9790\n",
      "Validation Loss: 0.0859\n",
      "Validation Accuracy: 0.9806\n",
      "Fold: 5, Training Loss: 0.0934, Validation Accuracy: 0.9806\n",
      "Average validation accuracy: 0.9551\n",
      "lr: 0.0002164484816971705, hidden_dim: 256, embedding_dim: 256, dropout_rate: 0.49805696744169203, weight_decay: 0.00016030795555623486\n",
      "Epoch [1/5], Loss: 2.2293, Accuracy: 0.5357\n",
      "Epoch [2/5], Loss: 1.0290, Accuracy: 0.8279\n",
      "Epoch [3/5], Loss: 0.6182, Accuracy: 0.8951\n",
      "Epoch [4/5], Loss: 0.4647, Accuracy: 0.9123\n",
      "Epoch [5/5], Loss: 0.3849, Accuracy: 0.9242\n",
      "Validation Loss: 0.1729\n",
      "Validation Accuracy: 0.9633\n",
      "Fold: 1, Training Loss: 0.3849, Validation Accuracy: 0.9633\n",
      "Epoch [1/5], Loss: 0.3150, Accuracy: 0.9380\n",
      "Epoch [2/5], Loss: 0.2883, Accuracy: 0.9420\n",
      "Epoch [3/5], Loss: 0.2220, Accuracy: 0.9531\n",
      "Epoch [4/5], Loss: 0.1924, Accuracy: 0.9587\n",
      "Epoch [5/5], Loss: 0.1578, Accuracy: 0.9668\n",
      "Validation Loss: 0.1949\n",
      "Validation Accuracy: 0.9655\n",
      "Fold: 2, Training Loss: 0.1578, Validation Accuracy: 0.9655\n",
      "Epoch [1/5], Loss: 0.1667, Accuracy: 0.9641\n",
      "Epoch [2/5], Loss: 0.1689, Accuracy: 0.9674\n",
      "Epoch [3/5], Loss: 0.1111, Accuracy: 0.9757\n",
      "Epoch [4/5], Loss: 0.1124, Accuracy: 0.9744\n",
      "Epoch [5/5], Loss: 0.1167, Accuracy: 0.9736\n",
      "Validation Loss: 0.0764\n",
      "Validation Accuracy: 0.9795\n",
      "Fold: 3, Training Loss: 0.1167, Validation Accuracy: 0.9795\n",
      "Epoch [1/5], Loss: 0.1052, Accuracy: 0.9781\n",
      "Epoch [2/5], Loss: 0.0936, Accuracy: 0.9795\n",
      "Epoch [3/5], Loss: 0.0877, Accuracy: 0.9803\n",
      "Epoch [4/5], Loss: 0.0871, Accuracy: 0.9822\n",
      "Epoch [5/5], Loss: 0.0900, Accuracy: 0.9817\n",
      "Validation Loss: 0.0526\n",
      "Validation Accuracy: 0.9892\n",
      "Fold: 4, Training Loss: 0.0900, Validation Accuracy: 0.9892\n",
      "Epoch [1/5], Loss: 0.0767, Accuracy: 0.9800\n",
      "Epoch [2/5], Loss: 0.0740, Accuracy: 0.9857\n",
      "Epoch [3/5], Loss: 0.0855, Accuracy: 0.9830\n",
      "Epoch [4/5], Loss: 0.0512, Accuracy: 0.9873\n",
      "Epoch [5/5], Loss: 0.0566, Accuracy: 0.9854\n",
      "Validation Loss: 0.0327\n",
      "Validation Accuracy: 0.9903\n",
      "Fold: 5, Training Loss: 0.0566, Validation Accuracy: 0.9903\n",
      "Average validation accuracy: 0.9776\n",
      "lr: 0.0011475727064983526, hidden_dim: 32, embedding_dim: 128, dropout_rate: 0.4407942782141593, weight_decay: 0.0008575047626867207\n",
      "Epoch [1/5], Loss: 2.4296, Accuracy: 0.4826\n",
      "Epoch [2/5], Loss: 1.0866, Accuracy: 0.8052\n",
      "Epoch [3/5], Loss: 0.6263, Accuracy: 0.8657\n",
      "Epoch [4/5], Loss: 0.4516, Accuracy: 0.8918\n",
      "Epoch [5/5], Loss: 0.3603, Accuracy: 0.9131\n",
      "Validation Loss: 0.2020\n",
      "Validation Accuracy: 0.9493\n",
      "Fold: 1, Training Loss: 0.3603, Validation Accuracy: 0.9493\n",
      "Epoch [1/5], Loss: 0.2857, Accuracy: 0.9280\n",
      "Epoch [2/5], Loss: 0.2267, Accuracy: 0.9485\n",
      "Epoch [3/5], Loss: 0.2022, Accuracy: 0.9477\n",
      "Epoch [4/5], Loss: 0.1704, Accuracy: 0.9547\n",
      "Epoch [5/5], Loss: 0.1456, Accuracy: 0.9639\n",
      "Validation Loss: 0.1714\n",
      "Validation Accuracy: 0.9644\n",
      "Fold: 2, Training Loss: 0.1456, Validation Accuracy: 0.9644\n",
      "Epoch [1/5], Loss: 0.1567, Accuracy: 0.9612\n",
      "Epoch [2/5], Loss: 0.1432, Accuracy: 0.9614\n",
      "Epoch [3/5], Loss: 0.1180, Accuracy: 0.9690\n",
      "Epoch [4/5], Loss: 0.1111, Accuracy: 0.9701\n",
      "Epoch [5/5], Loss: 0.0998, Accuracy: 0.9730\n",
      "Validation Loss: 0.0709\n",
      "Validation Accuracy: 0.9784\n",
      "Fold: 3, Training Loss: 0.0998, Validation Accuracy: 0.9784\n",
      "Epoch [1/5], Loss: 0.1099, Accuracy: 0.9717\n",
      "Epoch [2/5], Loss: 0.0896, Accuracy: 0.9771\n",
      "Epoch [3/5], Loss: 0.0743, Accuracy: 0.9830\n",
      "Epoch [4/5], Loss: 0.0855, Accuracy: 0.9757\n",
      "Epoch [5/5], Loss: 0.0846, Accuracy: 0.9787\n",
      "Validation Loss: 0.0648\n",
      "Validation Accuracy: 0.9817\n",
      "Fold: 4, Training Loss: 0.0846, Validation Accuracy: 0.9817\n",
      "Epoch [1/5], Loss: 0.0831, Accuracy: 0.9792\n",
      "Epoch [2/5], Loss: 0.0649, Accuracy: 0.9811\n",
      "Epoch [3/5], Loss: 0.0610, Accuracy: 0.9825\n",
      "Epoch [4/5], Loss: 0.0648, Accuracy: 0.9838\n",
      "Epoch [5/5], Loss: 0.0531, Accuracy: 0.9860\n",
      "Validation Loss: 0.0553\n",
      "Validation Accuracy: 0.9827\n",
      "Fold: 5, Training Loss: 0.0531, Validation Accuracy: 0.9827\n",
      "Average validation accuracy: 0.9713\n",
      "lr: 0.00010701569908803908, hidden_dim: 64, embedding_dim: 256, dropout_rate: 0.3292984614097956, weight_decay: 0.0009075457811180413\n",
      "Epoch [1/5], Loss: 3.0123, Accuracy: 0.1815\n",
      "Epoch [2/5], Loss: 2.5967, Accuracy: 0.4492\n",
      "Epoch [3/5], Loss: 2.0838, Accuracy: 0.6647\n",
      "Epoch [4/5], Loss: 1.7218, Accuracy: 0.7383\n",
      "Epoch [5/5], Loss: 1.5003, Accuracy: 0.7826\n",
      "Validation Loss: 0.6869\n",
      "Validation Accuracy: 0.8533\n",
      "Fold: 1, Training Loss: 1.5003, Validation Accuracy: 0.8533\n",
      "Epoch [1/5], Loss: 1.2636, Accuracy: 0.8093\n",
      "Epoch [2/5], Loss: 1.1180, Accuracy: 0.8301\n",
      "Epoch [3/5], Loss: 1.0013, Accuracy: 0.8403\n",
      "Epoch [4/5], Loss: 0.8946, Accuracy: 0.8543\n",
      "Epoch [5/5], Loss: 0.7509, Accuracy: 0.8724\n",
      "Validation Loss: 0.5088\n",
      "Validation Accuracy: 0.8813\n",
      "Fold: 2, Training Loss: 0.7509, Validation Accuracy: 0.8813\n"
     ]
    }
   ],
   "source": [
    "mlflow.set_tracking_uri('http://127.0.0.1:1234')\n",
    "study_name = \"IntentClassifierLSTMWithAttention_small\"\n",
    "optuna.logging.get_logger(\"optuna\").addHandler(logging.StreamHandler(sys.stdout))\n",
    "storage_name = \"sqlite:///{}.db\".format(study_name)\n",
    "study = optuna.create_study(study_name=study_name, storage=storage_name,load_if_exists=True,direction=\"maximize\")\n",
    "study.optimize(objective, n_trials=20)\n",
    "best_trial = study.best_trial"
   ]
  },
  {
   "cell_type": "markdown",
   "metadata": {
    "collapsed": false,
    "jupyter": {
     "outputs_hidden": false
    }
   },
   "source": [
    "## Best Model Training and Evaluation\n",
    "Tune the best model with a larger number of epochs and evaluate it on the test set."
   ]
  },
  {
   "cell_type": "code",
   "execution_count": null,
   "metadata": {
    "collapsed": false,
    "jupyter": {
     "outputs_hidden": false
    },
    "is_executing": true
   },
   "outputs": [],
   "source": [
    "experiment_id=get_or_create_experiment('Best E-LSTMWithAttention')\n",
    "with mlflow.start_run(experiment_id=experiment_id):\n",
    "    # Log the best parameters\n",
    "    mlflow.log_params(best_trial.params)\n",
    "\n",
    "    # Train the model using best parameters\n",
    "    model = IntentClassifierLSTMWithAttention(\n",
    "        vocab_size,\n",
    "        best_trial.params['embedding_dim'],\n",
    "        best_trial.params['hidden_dim'],\n",
    "        output_dim,\n",
    "        best_trial.params['dropout_rate']\n",
    "    ).to(device)\n",
    "\n",
    "    optimizer = optim.Adam(model.parameters(), lr=best_trial.params['lr'],\n",
    "                           weight_decay=best_trial.params['weight_decay'])\n",
    "    train_loss = train(model, optimizer, nn.CrossEntropyLoss(), train_loader, 10)\n",
    "    test_accuracy = evaluate(model, nn.CrossEntropyLoss(), test_loader, data_type=\"Test\")\n",
    "    print(f'Test Accuracy: {test_accuracy:.4f}')\n",
    "    mlflow.log_metric(\"test_accuracy\", test_accuracy)\n",
    "    mlflow.log_metric(\"train_loss\", train_loss)\n",
    "    mlflow.pytorch.log_model(model, f\"best_model_{study.study_name}\")"
   ]
  },
  {
   "cell_type": "markdown",
   "metadata": {
    "collapsed": false,
    "jupyter": {
     "outputs_hidden": false
    }
   },
   "source": [
    "## Visualize the results\n",
    "Optuna provides a number of visualizations to analyze the results of the hyperparameter tuning experiment. We can use these visualizations to analyze the results of the hyperparameter tuning experiment."
   ]
  },
  {
   "cell_type": "code",
   "execution_count": null,
   "metadata": {
    "collapsed": false,
    "jupyter": {
     "outputs_hidden": false
    },
    "is_executing": true
   },
   "outputs": [],
   "source": [
    "# Visualize the optimization history\n",
    "# Generate the Optuna plot\n",
    "fig = optuna.visualization.matplotlib.plot_optimization_history(study)\n",
    "fig.show()"
   ]
  },
  {
   "cell_type": "code",
   "execution_count": null,
   "metadata": {
    "collapsed": false,
    "jupyter": {
     "outputs_hidden": false
    },
    "is_executing": true
   },
   "outputs": [],
   "source": [
    "fig=optuna.visualization.matplotlib.plot_parallel_coordinate(study)\n",
    "fig.show()"
   ]
  },
  {
   "cell_type": "code",
   "execution_count": null,
   "metadata": {
    "collapsed": false,
    "jupyter": {
     "outputs_hidden": false
    },
    "is_executing": true
   },
   "outputs": [],
   "source": [
    "fig = optuna.visualization.matplotlib.plot_contour(study)\n",
    "fig.show()"
   ]
  },
  {
   "cell_type": "markdown",
   "metadata": {
    "collapsed": false,
    "jupyter": {
     "outputs_hidden": false
    }
   },
   "source": [
    "## Save the model and check model Serving"
   ]
  },
  {
   "cell_type": "code",
   "execution_count": null,
   "metadata": {
    "collapsed": false,
    "jupyter": {
     "outputs_hidden": false
    },
    "is_executing": true
   },
   "outputs": [],
   "source": [
    "model_name = \"best_ICELSTMAmodel\"\n",
    "torch.save(model, f\"models/{model_name}.pth\")\n",
    "tokenizer.save_state(f\"models/{model_name}_tokenizer.pickle\", f\"models/{model_name}_le.pickle\")"
   ]
  },
  {
   "cell_type": "code",
   "execution_count": null,
   "outputs": [],
   "source": [
    "# Load the trained model and tokenizer from saved files\n",
    "model_serve = torch.load(f\"models/{model_name}.pth\").to(device)\n",
    "tokenizer = IntentTokenizer.load_state(IntentTokenizer,f\"models/{model_name}_tokenizer.pickle\", f\"models/{model_name}_le.pickle\")\n",
    "max_query_length = 50\n",
    "query_text = \"what airlines off from love field between 6 and 10 am on june sixth\"\n",
    "query = pd.DataFrame({\"text\": [query_text]})\n",
    "prediction = predict(model_serve, query,tokenizer,device)\n",
    "print(f\"Predicted label: {prediction}\")"
   ],
   "metadata": {
    "collapsed": false,
    "is_executing": true
   }
  },
  {
   "cell_type": "code",
   "execution_count": null,
   "metadata": {},
   "outputs": [],
   "source": []
  }
 ],
 "metadata": {
  "kernelspec": {
   "display_name": "ultimate_nlp",
   "language": "python",
   "name": "ultimate-nlp"
  },
  "language_info": {
   "codemirror_mode": {
    "name": "ipython",
    "version": 3
   },
   "file_extension": ".py",
   "mimetype": "text/x-python",
   "name": "python",
   "nbconvert_exporter": "python",
   "pygments_lexer": "ipython3",
   "version": "3.9.10"
  }
 },
 "nbformat": 4,
 "nbformat_minor": 4
}
