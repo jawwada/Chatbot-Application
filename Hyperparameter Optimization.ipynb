{
 "cells": [
  {
   "cell_type": "markdown",
   "metadata": {
    "collapsed": false,
    "jupyter": {
     "outputs_hidden": false
    }
   },
   "source": [
    "#    Hyperparameter Tuning for Intent Classification using LSTM with Attention Mechanism\n",
    "This notebook is a part of the Ultimate AI Challenge. In this notebook, we train a LSTM with Attention Mechanism for Intent Classification on the ATIS dataset. We use Optuna for hyperparameter tuning and MLflow for experiment tracking and model registry. We also use ONNX for model export and inference. The notebook is divided into the following sections:\n",
    "1. Data Preparation\n",
    "2. Hyperparameter Tuning\n",
    "3. Model Training and Evaluation\n",
    "4. Visualize the results\n",
    "5. Model Export, Registry, Model Loading and Inference\n"
   ]
  },
  {
   "cell_type": "code",
   "execution_count": 6,
   "metadata": {
    "collapsed": false,
    "jupyter": {
     "outputs_hidden": false
    },
    "ExecuteTime": {
     "end_time": "2023-11-22T15:11:35.351927Z",
     "start_time": "2023-11-22T15:11:35.345151Z"
    }
   },
   "outputs": [
    {
     "name": "stdout",
     "output_type": "stream",
     "text": [
      "Using device: mps\n"
     ]
    }
   ],
   "source": [
    "import sys\n",
    "from sklearn.model_selection import KFold\n",
    "import torch.nn as nn\n",
    "from machine_learning.IntentClassifierLSTMWithAttention import IntentClassifierLSTMWithAttention\n",
    "from machine_learning.IntentTokenizer import IntentTokenizer\n",
    "import torch.optim as optim\n",
    "import pandas as pd\n",
    "import torch\n",
    "from torch.utils.data import DataLoader\n",
    "from machine_learning.model_utils import train, evaluate, predict, get_or_create_experiment\n",
    "import optuna\n",
    "import logging\n",
    "import mlflow\n",
    "from optuna.visualization import plot_optimization_history\n",
    "import matplotlib.pyplot as plt\n",
    "\n",
    "import warnings\n",
    "warnings.filterwarnings(\"ignore\", category=UserWarning, message=\".*setuptools.*\")\n",
    "\n",
    "device=torch.device(\"cuda\" if torch.cuda.is_available() else \"mps\" if torch.backends.mps.is_available() else \"cpu\")\n",
    "print(f\"Using device: {device}\")"
   ]
  },
  {
   "cell_type": "markdown",
   "metadata": {
    "collapsed": false,
    "jupyter": {
     "outputs_hidden": false
    }
   },
   "source": [
    "## Data Preparation\n",
    "Steps:\n",
    "1. Load the data\n",
    "2. Tokenize the data\n",
    "3. Create a PyTorch Dataset\n",
    "4. Create a PyTorch DataLoader"
   ]
  },
  {
   "cell_type": "code",
   "execution_count": 2,
   "metadata": {
    "collapsed": false,
    "jupyter": {
     "outputs_hidden": false
    },
    "ExecuteTime": {
     "end_time": "2023-11-22T15:00:56.142775Z",
     "start_time": "2023-11-22T15:00:55.080484Z"
    }
   },
   "outputs": [
    {
     "name": "stdout",
     "output_type": "stream",
     "text": [
      "inside IntentTokenizer\n",
      "Vocabulary Size: 890\n",
      "Encoding labels for the first time and adding unknown class.\n",
      "Label Encoding: {'abbreviation': 0, 'aircraft': 1, 'aircraft+flight+flight_no': 2, 'airfare': 3, 'airfare+flight_time': 4, 'airline': 5, 'airline+flight_no': 6, 'airport': 7, 'capacity': 8, 'cheapest': 9, 'city': 10, 'distance': 11, 'flight': 12, 'flight+airfare': 13, 'flight_no': 14, 'flight_time': 15, 'ground_fare': 16, 'ground_service': 17, 'ground_service+ground_fare': 18, 'meal': 19, 'quantity': 20, 'restriction': 21, '<unknown>': 22}\n",
      "Number of training samples: torch.Size([4634, 46])\n",
      "Number of training batches: 145\n",
      "Number of test samples: torch.Size([850, 30])\n",
      "Number of test batches: 27\n"
     ]
    }
   ],
   "source": [
    "optuna.logging.set_verbosity(optuna.logging.ERROR)\n",
    "\n",
    "train_df = pd.read_csv('data/atis/train.tsv', sep='\\t', header=None, names=[\"text\", \"label\"])\n",
    "test_df = pd.read_csv('data/atis/test.tsv', sep='\\t', header=None, names=[\"text\", \"label\"])\n",
    "tokenizer = IntentTokenizer(train_df)\n",
    "\n",
    "# define constants and hyperparameters\n",
    "vocab_size=tokenizer.max_vocab_size+1\n",
    "output_dim=len(tokenizer.le.classes_)\n",
    "batch_size = 32\n",
    "num_epochs = 5\n",
    "\n",
    "train_data = tokenizer.process_data(train_df, device=device)\n",
    "train_loader = DataLoader(train_data, shuffle=True, batch_size=batch_size)\n",
    "print(\"Number of training samples:\", train_data.tensors[0].size())\n",
    "print(\"Number of training batches:\", len(train_loader))\n",
    "\n",
    "test_data = tokenizer.process_data(test_df, device=device)\n",
    "print(\"Number of test samples:\", test_data.tensors[0].size())\n",
    "test_loader = DataLoader(test_data, shuffle=True, batch_size=batch_size)\n",
    "print(\"Number of test batches:\", len(test_loader))"
   ]
  },
  {
   "cell_type": "code",
   "execution_count": 3,
   "metadata": {
    "collapsed": false,
    "jupyter": {
     "outputs_hidden": false
    },
    "ExecuteTime": {
     "end_time": "2023-11-22T15:00:56.554630Z",
     "start_time": "2023-11-22T15:00:56.144368Z"
    }
   },
   "outputs": [
    {
     "name": "stdout",
     "output_type": "stream",
     "text": [
      "Sample training data:\n",
      "tensor([[ 10,  69,   1,  38,   2,   9,  66, 397,  86,  17,  81,  16,  13,  66,\n",
      "         525,  16,   4,  35,   0,   0,   0,   0,   0,   0,   0,   0,   0,   0,\n",
      "           0,   0,   0,   0,   0,   0,   0,   0,   0,   0,   0,   0,   0,   0,\n",
      "           0,   0,   0,   0],\n",
      "        [  6,   3,  26,  58,   2,  19,   1,  23,   5,  72,  35,   0,   0,   0,\n",
      "           0,   0,   0,   0,   0,   0,   0,   0,   0,   0,   0,   0,   0,   0,\n",
      "           0,   0,   0,   0,   0,   0,   0,   0,   0,   0,   0,   0,   0,   0,\n",
      "           0,   0,   0,   0],\n",
      "        [  6,  21,   4, 398, 176,  16,  11,  15,  39,   4, 526,  86,   7,  33,\n",
      "          32,   0,   0,   0,   0,   0,   0,   0,   0,   0,   0,   0,   0,   0,\n",
      "           0,   0,   0,   0,   0,   0,   0,   0,   0,   0,   0,   0,   0,   0,\n",
      "           0,   0,   0,   0],\n",
      "        [ 49, 270,   2, 177,   1, 123,   0,   0,   0,   0,   0,   0,   0,   0,\n",
      "           0,   0,   0,   0,   0,   0,   0,   0,   0,   0,   0,   0,   0,   0,\n",
      "           0,   0,   0,   0,   0,   0,   0,   0,   0,   0,   0,   0,   0,   0,\n",
      "           0,   0,   0,   0],\n",
      "        [ 59,  52,  68,   2,  19,   1,  24, 346, 266, 182,   0,   0,   0,   0,\n",
      "           0,   0,   0,   0,   0,   0,   0,   0,   0,   0,   0,   0,   0,   0,\n",
      "           0,   0,   0,   0,   0,   0,   0,   0,   0,   0,   0,   0,   0,   0,\n",
      "           0,   0,   0,   0]], device='mps:0')\n"
     ]
    },
    {
     "data": {
      "text/plain": "<Figure size 1200x400 with 2 Axes>",
      "image/png": "[encoded data removed]"
     },
     "metadata": {},
     "output_type": "display_data"
    }
   ],
   "source": [
    "# Visualize the data\n",
    "print(\"Sample training data:\")\n",
    "print(train_data.tensors[0][:5])\n",
    "\n",
    "# Plot the class distribution ins test and train\n",
    "fig, (ax1, ax2) = plt.subplots(1, 2, figsize=(12, 4))\n",
    "train_df.label.value_counts().plot(kind='bar', ax=ax1)\n",
    "ax1.set_title(\"Train\")\n",
    "test_df.label.value_counts().plot(kind='bar', ax=ax2)\n",
    "ax2.set_title(\"Test\")\n",
    "plt.show()"
   ]
  },
  {
   "cell_type": "markdown",
   "metadata": {
    "collapsed": false,
    "jupyter": {
     "outputs_hidden": false
    }
   },
   "source": [
    "## Hyperparameter Tuning\n",
    "The Model that we are using for the hyperparameter tuning is the IntentClassifierLSTMWithAttention. The hyperparameters that we are tuning are:\n",
    "1. Learning rate : 1e-3 to 1e-1\n",
    "2. Hidden dimension : 32, 64, 128, 256\n",
    "3. Embedding dimension : 64, 128, 256, 512\n",
    "4. Dropout rate : 0.1 to 0.5\n",
    "5. Weight decay : 1e-6 to 1e-3\n",
    "\n",
    "The objective function is the average validation accuracy over 5 folds. The best model is the one with the highest average validation accuracy."
   ]
  },
  {
   "cell_type": "code",
   "execution_count": 4,
   "metadata": {
    "collapsed": false,
    "jupyter": {
     "outputs_hidden": false
    },
    "ExecuteTime": {
     "end_time": "2023-11-22T15:00:56.559122Z",
     "start_time": "2023-11-22T15:00:56.557376Z"
    }
   },
   "outputs": [],
   "source": [
    "def log_hyperparameters(trial):\n",
    "    # Log hyperparameters\n",
    "    \n",
    "    mlflow.log_param(\"lr\", trial.params[\"lr\"])\n",
    "    mlflow.log_param(\"hidden_dim\", trial.params[\"hidden_dim\"])\n",
    "    mlflow.log_param(\"embedding_dim\", trial.params[\"embedding_dim\"])\n",
    "    mlflow.log_param(\"dropout_rate\", trial.params[\"dropout_rate\"])\n",
    "    mlflow.log_param(\"weight_decay\", trial.params[\"weight_decay\"])\n",
    "    print(f'lr: {trial.params[\"lr\"]}, hidden_dim: {trial.params[\"hidden_dim\"]}, embedding_dim: {trial.params[\"embedding_dim\"]}, dropout_rate: {trial.params[\"dropout_rate\"]}, weight_decay: {trial.params[\"weight_decay\"]}')\n",
    "\n",
    "    return\n",
    "\n",
    "def log_metrics(trial, accuracy):\n",
    "    # Log metrics\n",
    "    mlflow.log_metric(\"accuracy\", accuracy)\n",
    "    return\n",
    "def objective(trial):\n",
    "    with mlflow.start_run():\n",
    "        # Suggest hyperparameters\n",
    "        lr = trial.suggest_float(\"lr\", 1e-3, 1e-1, log=True)\n",
    "        hidden_dim = trial.suggest_categorical(\"hidden_dim\", [32, 64, 128, 256])\n",
    "        embedding_dim = trial.suggest_categorical(\"embedding_dim\", [64, 128, 256, 512])\n",
    "        dropout_rate = trial.suggest_float(\"dropout_rate\", 0.1, 0.5)\n",
    "        weight_decay = trial.suggest_float(\"weight_decay\", 1e-6, 1e-3, log=True)\n",
    "        criterion = nn.CrossEntropyLoss()\n",
    "        log_hyperparameters(trial)\n",
    "        # Model, loss, and optimizer\n",
    "        # model = IntentClassifierLSTM(cfg.vocab_size, embedding_dim, hidden_dim, cfg.output_dim,dropout_rate).to(device)\n",
    "        model = IntentClassifierLSTMWithAttention(vocab_size, embedding_dim, hidden_dim, output_dim, dropout_rate).to(device)\n",
    "        optimizer = optim.Adam(model.parameters(), lr=lr, weight_decay=weight_decay)\n",
    "        kfold = KFold(n_splits=5, shuffle=True, random_state=42)\n",
    "        fold_val_acc = []\n",
    "\n",
    "        for fold, (train_idx, val_idx) in enumerate(kfold.split(train_df)):\n",
    "            # Prepare fold data\n",
    "            train_data_subset = tokenizer.process_data(train_df.loc[train_idx,:], device=device)\n",
    "            val_data_subset = tokenizer.process_data(train_df.loc[val_idx,:], device=device)\n",
    "            train_subset_loader = DataLoader(train_data_subset, batch_size=batch_size, shuffle=True)\n",
    "            val_subset_loader = DataLoader(val_data_subset, batch_size=batch_size, shuffle=False)\n",
    "            fold_loss = train(model, optimizer, criterion, train_subset_loader, num_epochs)\n",
    "            val_accuracy = evaluate(model,  criterion, val_subset_loader, data_type=\"Validation\")\n",
    "            print(f'Fold: {fold + 1}, Training Loss: {fold_loss:.4f}, Validation Accuracy: {val_accuracy:.4f}')\n",
    "            fold_val_acc.append(val_accuracy)\n",
    "        average_val_acc = sum(fold_val_acc) / len(fold_val_acc)\n",
    "        print(f'Average validation accuracy: {average_val_acc:.4f}')\n",
    "        log_metrics(trial, average_val_acc)\n",
    "    return average_val_acc"
   ]
  },
  {
   "cell_type": "markdown",
   "metadata": {
    "collapsed": false,
    "jupyter": {
     "outputs_hidden": false
    }
   },
   "source": [
    "## Optuna Experiments\n",
    "Create an experiment in MLflow and run the hyperparameter tuning experiment. The best model is the one with the highest average validation accuracy."
   ]
  },
  {
   "cell_type": "code",
   "execution_count": 7,
   "metadata": {
    "collapsed": false,
    "jupyter": {
     "outputs_hidden": false
    },
    "scrolled": true,
    "ExecuteTime": {
     "end_time": "2023-11-22T15:20:52.142185Z",
     "start_time": "2023-11-22T15:11:48.701145Z"
    }
   },
   "outputs": [
    {
     "name": "stdout",
     "output_type": "stream",
     "text": [
      "lr: 0.001564255410763439, hidden_dim: 32, embedding_dim: 128, dropout_rate: 0.3909687711135753, weight_decay: 1.928612343790645e-06\n",
      "Epoch [1/5], Loss: 1.9981, Accuracy: 0.5851\n",
      "Epoch [2/5], Loss: 0.6744, Accuracy: 0.8670\n",
      "Epoch [3/5], Loss: 0.4192, Accuracy: 0.9045\n",
      "Epoch [4/5], Loss: 0.3262, Accuracy: 0.9261\n",
      "Epoch [5/5], Loss: 0.2646, Accuracy: 0.9326\n",
      "Validation Loss: 0.1715\n",
      "Validation Accuracy: 0.9504\n",
      "Fold: 1, Training Loss: 0.2646, Validation Accuracy: 0.9504\n",
      "Epoch [1/5], Loss: 0.2110, Accuracy: 0.9490\n",
      "Epoch [2/5], Loss: 0.1642, Accuracy: 0.9612\n",
      "Epoch [3/5], Loss: 0.1407, Accuracy: 0.9663\n",
      "Epoch [4/5], Loss: 0.1236, Accuracy: 0.9668\n",
      "Epoch [5/5], Loss: 0.1041, Accuracy: 0.9719\n",
      "Validation Loss: 0.1163\n",
      "Validation Accuracy: 0.9730\n",
      "Fold: 2, Training Loss: 0.1041, Validation Accuracy: 0.9730\n",
      "Epoch [1/5], Loss: 0.1187, Accuracy: 0.9657\n",
      "Epoch [2/5], Loss: 0.0892, Accuracy: 0.9763\n",
      "Epoch [3/5], Loss: 0.0842, Accuracy: 0.9795\n",
      "Epoch [4/5], Loss: 0.0665, Accuracy: 0.9830\n",
      "Epoch [5/5], Loss: 0.0591, Accuracy: 0.9838\n",
      "Validation Loss: 0.0428\n",
      "Validation Accuracy: 0.9903\n",
      "Fold: 3, Training Loss: 0.0591, Validation Accuracy: 0.9903\n",
      "Epoch [1/5], Loss: 0.0648, Accuracy: 0.9830\n",
      "Epoch [2/5], Loss: 0.0630, Accuracy: 0.9822\n",
      "Epoch [3/5], Loss: 0.0557, Accuracy: 0.9849\n",
      "Epoch [4/5], Loss: 0.0444, Accuracy: 0.9881\n",
      "Epoch [5/5], Loss: 0.0535, Accuracy: 0.9857\n",
      "Validation Loss: 0.0154\n",
      "Validation Accuracy: 0.9935\n",
      "Fold: 4, Training Loss: 0.0535, Validation Accuracy: 0.9935\n",
      "Epoch [1/5], Loss: 0.0546, Accuracy: 0.9860\n",
      "Epoch [2/5], Loss: 0.0455, Accuracy: 0.9865\n",
      "Epoch [3/5], Loss: 0.0375, Accuracy: 0.9892\n",
      "Epoch [4/5], Loss: 0.0328, Accuracy: 0.9889\n",
      "Epoch [5/5], Loss: 0.0417, Accuracy: 0.9906\n",
      "Validation Loss: 0.0142\n",
      "Validation Accuracy: 0.9968\n",
      "Fold: 5, Training Loss: 0.0417, Validation Accuracy: 0.9968\n",
      "Average validation accuracy: 0.9808\n",
      "lr: 0.06801476908360586, hidden_dim: 32, embedding_dim: 128, dropout_rate: 0.4710957333033716, weight_decay: 1.0517923183572593e-05\n",
      "Epoch [1/5], Loss: 1.0251, Accuracy: 0.7510\n",
      "Epoch [2/5], Loss: 0.8368, Accuracy: 0.7901\n",
      "Epoch [3/5], Loss: 0.8051, Accuracy: 0.7931\n",
      "Epoch [4/5], Loss: 0.8127, Accuracy: 0.7915\n",
      "Epoch [5/5], Loss: 0.8239, Accuracy: 0.7864\n",
      "Validation Loss: 0.7115\n",
      "Validation Accuracy: 0.8220\n",
      "Fold: 1, Training Loss: 0.8239, Validation Accuracy: 0.8220\n",
      "Epoch [1/5], Loss: 0.8179, Accuracy: 0.7947\n",
      "Epoch [2/5], Loss: 0.8022, Accuracy: 0.7926\n",
      "Epoch [3/5], Loss: 0.7567, Accuracy: 0.8031\n",
      "Epoch [4/5], Loss: 0.7959, Accuracy: 0.7915\n",
      "Epoch [5/5], Loss: 0.8031, Accuracy: 0.7869\n",
      "Validation Loss: 0.7655\n",
      "Validation Accuracy: 0.7929\n",
      "Fold: 2, Training Loss: 0.8031, Validation Accuracy: 0.7929\n",
      "Epoch [1/5], Loss: 0.7651, Accuracy: 0.7990\n",
      "Epoch [2/5], Loss: 0.7654, Accuracy: 0.8063\n",
      "Epoch [3/5], Loss: 0.7361, Accuracy: 0.8069\n",
      "Epoch [4/5], Loss: 0.7470, Accuracy: 0.8031\n",
      "Epoch [5/5], Loss: 0.7639, Accuracy: 0.7993\n",
      "Validation Loss: 0.6997\n",
      "Validation Accuracy: 0.8101\n",
      "Fold: 3, Training Loss: 0.7639, Validation Accuracy: 0.8101\n",
      "Epoch [1/5], Loss: 0.7953, Accuracy: 0.7928\n",
      "Epoch [2/5], Loss: 0.7778, Accuracy: 0.7907\n",
      "Epoch [3/5], Loss: 0.7719, Accuracy: 0.7961\n",
      "Epoch [4/5], Loss: 0.8084, Accuracy: 0.7869\n",
      "Epoch [5/5], Loss: 0.8200, Accuracy: 0.7858\n",
      "Validation Loss: 0.7147\n",
      "Validation Accuracy: 0.8080\n",
      "Fold: 4, Training Loss: 0.8200, Validation Accuracy: 0.8080\n",
      "Epoch [1/5], Loss: 0.8376, Accuracy: 0.7848\n",
      "Epoch [2/5], Loss: 0.8512, Accuracy: 0.7754\n",
      "Epoch [3/5], Loss: 0.8060, Accuracy: 0.7837\n",
      "Epoch [4/5], Loss: 0.8307, Accuracy: 0.7764\n",
      "Epoch [5/5], Loss: 0.8245, Accuracy: 0.7783\n",
      "Validation Loss: 0.6378\n",
      "Validation Accuracy: 0.8402\n",
      "Fold: 5, Training Loss: 0.8245, Validation Accuracy: 0.8402\n",
      "Average validation accuracy: 0.8146\n",
      "lr: 0.027680504943332948, hidden_dim: 64, embedding_dim: 64, dropout_rate: 0.19692706531519374, weight_decay: 0.0007005969243711236\n",
      "Epoch [1/5], Loss: 0.7749, Accuracy: 0.8314\n",
      "Epoch [2/5], Loss: 0.3552, Accuracy: 0.9112\n",
      "Epoch [3/5], Loss: 0.2689, Accuracy: 0.9318\n",
      "Epoch [4/5], Loss: 0.2495, Accuracy: 0.9331\n",
      "Epoch [5/5], Loss: 0.2125, Accuracy: 0.9463\n",
      "Validation Loss: 0.1643\n",
      "Validation Accuracy: 0.9644\n",
      "Fold: 1, Training Loss: 0.2125, Validation Accuracy: 0.9644\n",
      "Epoch [1/5], Loss: 0.2195, Accuracy: 0.9425\n",
      "Epoch [2/5], Loss: 0.2129, Accuracy: 0.9452\n",
      "Epoch [3/5], Loss: 0.1981, Accuracy: 0.9466\n",
      "Epoch [4/5], Loss: 0.1902, Accuracy: 0.9509\n",
      "Epoch [5/5], Loss: 0.2224, Accuracy: 0.9401\n",
      "Validation Loss: 0.2998\n",
      "Validation Accuracy: 0.9310\n",
      "Fold: 2, Training Loss: 0.2224, Validation Accuracy: 0.9310\n",
      "Epoch [1/5], Loss: 0.2071, Accuracy: 0.9447\n",
      "Epoch [2/5], Loss: 0.2065, Accuracy: 0.9471\n",
      "Epoch [3/5], Loss: 0.1889, Accuracy: 0.9523\n",
      "Epoch [4/5], Loss: 0.2072, Accuracy: 0.9450\n",
      "Epoch [5/5], Loss: 0.1713, Accuracy: 0.9547\n",
      "Validation Loss: 0.1564\n",
      "Validation Accuracy: 0.9547\n",
      "Fold: 3, Training Loss: 0.1713, Validation Accuracy: 0.9547\n",
      "Epoch [1/5], Loss: 0.1830, Accuracy: 0.9574\n",
      "Epoch [2/5], Loss: 0.1814, Accuracy: 0.9525\n",
      "Epoch [3/5], Loss: 0.1812, Accuracy: 0.9501\n",
      "Epoch [4/5], Loss: 0.1992, Accuracy: 0.9520\n",
      "Epoch [5/5], Loss: 0.1831, Accuracy: 0.9520\n",
      "Validation Loss: 0.1540\n",
      "Validation Accuracy: 0.9579\n",
      "Fold: 4, Training Loss: 0.1831, Validation Accuracy: 0.9579\n",
      "Epoch [1/5], Loss: 0.1875, Accuracy: 0.9482\n",
      "Epoch [2/5], Loss: 0.1549, Accuracy: 0.9612\n",
      "Epoch [3/5], Loss: 0.1727, Accuracy: 0.9560\n",
      "Epoch [4/5], Loss: 0.1705, Accuracy: 0.9598\n",
      "Epoch [5/5], Loss: 0.1670, Accuracy: 0.9614\n",
      "Validation Loss: 0.1534\n",
      "Validation Accuracy: 0.9633\n",
      "Fold: 5, Training Loss: 0.1670, Validation Accuracy: 0.9633\n",
      "Average validation accuracy: 0.9543\n",
      "lr: 0.038095725801574686, hidden_dim: 32, embedding_dim: 512, dropout_rate: 0.3764215696620242, weight_decay: 0.0007676424739051513\n",
      "Epoch [1/5], Loss: 0.6939, Accuracy: 0.8387\n",
      "Epoch [2/5], Loss: 0.3659, Accuracy: 0.9107\n",
      "Epoch [3/5], Loss: 0.3472, Accuracy: 0.9204\n",
      "Epoch [4/5], Loss: 0.3161, Accuracy: 0.9207\n",
      "Epoch [5/5], Loss: 0.3255, Accuracy: 0.9237\n",
      "Validation Loss: 0.3818\n",
      "Validation Accuracy: 0.8910\n",
      "Fold: 1, Training Loss: 0.3255, Validation Accuracy: 0.8910\n",
      "Epoch [1/5], Loss: 0.3241, Accuracy: 0.9239\n",
      "Epoch [2/5], Loss: 0.3585, Accuracy: 0.9145\n",
      "Epoch [3/5], Loss: 0.3641, Accuracy: 0.9110\n",
      "Epoch [4/5], Loss: 0.3299, Accuracy: 0.9183\n",
      "Epoch [5/5], Loss: 0.3218, Accuracy: 0.9177\n",
      "Validation Loss: 0.3806\n",
      "Validation Accuracy: 0.9115\n",
      "Fold: 2, Training Loss: 0.3218, Validation Accuracy: 0.9115\n",
      "Epoch [1/5], Loss: 0.3946, Accuracy: 0.9064\n",
      "Epoch [2/5], Loss: 0.3428, Accuracy: 0.9177\n",
      "Epoch [3/5], Loss: 0.3927, Accuracy: 0.8991\n",
      "Epoch [4/5], Loss: 0.3685, Accuracy: 0.9137\n",
      "Epoch [5/5], Loss: 0.3625, Accuracy: 0.9112\n",
      "Validation Loss: 0.2831\n",
      "Validation Accuracy: 0.9213\n",
      "Fold: 3, Training Loss: 0.3625, Validation Accuracy: 0.9213\n",
      "Epoch [1/5], Loss: 0.3650, Accuracy: 0.9107\n",
      "Epoch [2/5], Loss: 0.3502, Accuracy: 0.9118\n",
      "Epoch [3/5], Loss: 0.3831, Accuracy: 0.9023\n",
      "Epoch [4/5], Loss: 0.3572, Accuracy: 0.9172\n",
      "Epoch [5/5], Loss: 0.3764, Accuracy: 0.9064\n",
      "Validation Loss: 0.3064\n",
      "Validation Accuracy: 0.9288\n",
      "Fold: 4, Training Loss: 0.3764, Validation Accuracy: 0.9288\n",
      "Epoch [1/5], Loss: 0.3897, Accuracy: 0.9032\n",
      "Epoch [2/5], Loss: 0.3956, Accuracy: 0.9067\n",
      "Epoch [3/5], Loss: 0.3932, Accuracy: 0.9010\n",
      "Epoch [4/5], Loss: 0.4105, Accuracy: 0.8989\n",
      "Epoch [5/5], Loss: 0.3359, Accuracy: 0.9113\n",
      "Validation Loss: 0.2637\n",
      "Validation Accuracy: 0.9244\n",
      "Fold: 5, Training Loss: 0.3359, Validation Accuracy: 0.9244\n",
      "Average validation accuracy: 0.9154\n",
      "lr: 0.0064154009940104485, hidden_dim: 64, embedding_dim: 64, dropout_rate: 0.2636339940945277, weight_decay: 8.188199864032341e-05\n",
      "Epoch [1/5], Loss: 0.9659, Accuracy: 0.8004\n",
      "Epoch [2/5], Loss: 0.2884, Accuracy: 0.9291\n",
      "Epoch [3/5], Loss: 0.1877, Accuracy: 0.9498\n",
      "Epoch [4/5], Loss: 0.1312, Accuracy: 0.9665\n",
      "Epoch [5/5], Loss: 0.1010, Accuracy: 0.9711\n",
      "Validation Loss: 0.0888\n",
      "Validation Accuracy: 0.9817\n",
      "Fold: 1, Training Loss: 0.1010, Validation Accuracy: 0.9817\n",
      "Epoch [1/5], Loss: 0.0933, Accuracy: 0.9760\n",
      "Epoch [2/5], Loss: 0.0552, Accuracy: 0.9838\n",
      "Epoch [3/5], Loss: 0.0389, Accuracy: 0.9887\n",
      "Epoch [4/5], Loss: 0.0636, Accuracy: 0.9822\n",
      "Epoch [5/5], Loss: 0.0503, Accuracy: 0.9868\n",
      "Validation Loss: 0.0843\n",
      "Validation Accuracy: 0.9838\n",
      "Fold: 2, Training Loss: 0.0503, Validation Accuracy: 0.9838\n",
      "Epoch [1/5], Loss: 0.0548, Accuracy: 0.9852\n",
      "Epoch [2/5], Loss: 0.0311, Accuracy: 0.9897\n",
      "Epoch [3/5], Loss: 0.0534, Accuracy: 0.9860\n",
      "Epoch [4/5], Loss: 0.0366, Accuracy: 0.9906\n",
      "Epoch [5/5], Loss: 0.0242, Accuracy: 0.9933\n",
      "Validation Loss: 0.0376\n",
      "Validation Accuracy: 0.9871\n",
      "Fold: 3, Training Loss: 0.0242, Validation Accuracy: 0.9871\n",
      "Epoch [1/5], Loss: 0.0501, Accuracy: 0.9865\n",
      "Epoch [2/5], Loss: 0.0293, Accuracy: 0.9922\n",
      "Epoch [3/5], Loss: 0.0366, Accuracy: 0.9906\n",
      "Epoch [4/5], Loss: 0.0217, Accuracy: 0.9933\n",
      "Epoch [5/5], Loss: 0.0358, Accuracy: 0.9906\n",
      "Validation Loss: 0.0345\n",
      "Validation Accuracy: 0.9914\n",
      "Fold: 4, Training Loss: 0.0358, Validation Accuracy: 0.9914\n",
      "Epoch [1/5], Loss: 0.0493, Accuracy: 0.9868\n",
      "Epoch [2/5], Loss: 0.0193, Accuracy: 0.9941\n",
      "Epoch [3/5], Loss: 0.0241, Accuracy: 0.9933\n",
      "Epoch [4/5], Loss: 0.0135, Accuracy: 0.9949\n",
      "Epoch [5/5], Loss: 0.0172, Accuracy: 0.9949\n",
      "Validation Loss: 0.0184\n",
      "Validation Accuracy: 0.9946\n",
      "Fold: 5, Training Loss: 0.0172, Validation Accuracy: 0.9946\n",
      "Average validation accuracy: 0.9877\n",
      "lr: 0.0064994573887921575, hidden_dim: 32, embedding_dim: 512, dropout_rate: 0.27480835364307066, weight_decay: 3.792009553147712e-05\n",
      "Epoch [1/5], Loss: 0.8996, Accuracy: 0.8120\n",
      "Epoch [2/5], Loss: 0.2363, Accuracy: 0.9447\n",
      "Epoch [3/5], Loss: 0.1323, Accuracy: 0.9674\n",
      "Epoch [4/5], Loss: 0.0854, Accuracy: 0.9781\n",
      "Epoch [5/5], Loss: 0.0556, Accuracy: 0.9835\n",
      "Validation Loss: 0.1586\n",
      "Validation Accuracy: 0.9709\n",
      "Fold: 1, Training Loss: 0.0556, Validation Accuracy: 0.9709\n",
      "Epoch [1/5], Loss: 0.0934, Accuracy: 0.9787\n",
      "Epoch [2/5], Loss: 0.0390, Accuracy: 0.9903\n",
      "Epoch [3/5], Loss: 0.0370, Accuracy: 0.9892\n",
      "Epoch [4/5], Loss: 0.0356, Accuracy: 0.9906\n",
      "Epoch [5/5], Loss: 0.0242, Accuracy: 0.9946\n",
      "Validation Loss: 0.0730\n",
      "Validation Accuracy: 0.9849\n",
      "Fold: 2, Training Loss: 0.0242, Validation Accuracy: 0.9849\n",
      "Epoch [1/5], Loss: 0.0469, Accuracy: 0.9871\n",
      "Epoch [2/5], Loss: 0.0401, Accuracy: 0.9876\n",
      "Epoch [3/5], Loss: 0.0304, Accuracy: 0.9924\n",
      "Epoch [4/5], Loss: 0.0208, Accuracy: 0.9943\n",
      "Epoch [5/5], Loss: 0.0203, Accuracy: 0.9935\n",
      "Validation Loss: 0.0467\n",
      "Validation Accuracy: 0.9903\n",
      "Fold: 3, Training Loss: 0.0203, Validation Accuracy: 0.9903\n",
      "Epoch [1/5], Loss: 0.0454, Accuracy: 0.9879\n",
      "Epoch [2/5], Loss: 0.0283, Accuracy: 0.9924\n",
      "Epoch [3/5], Loss: 0.0299, Accuracy: 0.9911\n",
      "Epoch [4/5], Loss: 0.0211, Accuracy: 0.9938\n",
      "Epoch [5/5], Loss: 0.0291, Accuracy: 0.9892\n",
      "Validation Loss: 0.0570\n",
      "Validation Accuracy: 0.9817\n",
      "Fold: 4, Training Loss: 0.0291, Validation Accuracy: 0.9817\n",
      "Epoch [1/5], Loss: 0.0444, Accuracy: 0.9857\n",
      "Epoch [2/5], Loss: 0.0323, Accuracy: 0.9908\n",
      "Epoch [3/5], Loss: 0.0171, Accuracy: 0.9949\n",
      "Epoch [4/5], Loss: 0.0085, Accuracy: 0.9981\n",
      "Epoch [5/5], Loss: 0.0075, Accuracy: 0.9981\n",
      "Validation Loss: 0.0496\n",
      "Validation Accuracy: 0.9903\n",
      "Fold: 5, Training Loss: 0.0075, Validation Accuracy: 0.9903\n",
      "Average validation accuracy: 0.9836\n",
      "lr: 0.010090923208791897, hidden_dim: 64, embedding_dim: 128, dropout_rate: 0.20342746630399794, weight_decay: 5.409176198761769e-05\n",
      "Epoch [1/5], Loss: 0.7038, Accuracy: 0.8489\n",
      "Epoch [2/5], Loss: 0.2053, Accuracy: 0.9493\n",
      "Epoch [3/5], Loss: 0.1265, Accuracy: 0.9706\n",
      "Epoch [4/5], Loss: 0.0947, Accuracy: 0.9760\n",
      "Epoch [5/5], Loss: 0.0865, Accuracy: 0.9795\n",
      "Validation Loss: 0.1106\n",
      "Validation Accuracy: 0.9752\n",
      "Fold: 1, Training Loss: 0.0865, Validation Accuracy: 0.9752\n",
      "Epoch [1/5], Loss: 0.0808, Accuracy: 0.9806\n",
      "Epoch [2/5], Loss: 0.0781, Accuracy: 0.9827\n",
      "Epoch [3/5], Loss: 0.0632, Accuracy: 0.9879\n",
      "Epoch [4/5], Loss: 0.0538, Accuracy: 0.9857\n",
      "Epoch [5/5], Loss: 0.0448, Accuracy: 0.9906\n",
      "Validation Loss: 0.1014\n",
      "Validation Accuracy: 0.9806\n",
      "Fold: 2, Training Loss: 0.0448, Validation Accuracy: 0.9806\n",
      "Epoch [1/5], Loss: 0.0771, Accuracy: 0.9825\n",
      "Epoch [2/5], Loss: 0.0603, Accuracy: 0.9844\n",
      "Epoch [3/5], Loss: 0.0464, Accuracy: 0.9895\n",
      "Epoch [4/5], Loss: 0.0527, Accuracy: 0.9889\n",
      "Epoch [5/5], Loss: 0.0550, Accuracy: 0.9862\n",
      "Validation Loss: 0.0723\n",
      "Validation Accuracy: 0.9849\n",
      "Fold: 3, Training Loss: 0.0550, Validation Accuracy: 0.9849\n",
      "Epoch [1/5], Loss: 0.0644, Accuracy: 0.9857\n",
      "Epoch [2/5], Loss: 0.0569, Accuracy: 0.9860\n",
      "Epoch [3/5], Loss: 0.0349, Accuracy: 0.9914\n",
      "Epoch [4/5], Loss: 0.0349, Accuracy: 0.9919\n",
      "Epoch [5/5], Loss: 0.0296, Accuracy: 0.9930\n",
      "Validation Loss: 0.0567\n",
      "Validation Accuracy: 0.9924\n",
      "Fold: 4, Training Loss: 0.0296, Validation Accuracy: 0.9924\n",
      "Epoch [1/5], Loss: 0.0576, Accuracy: 0.9879\n",
      "Epoch [2/5], Loss: 0.0705, Accuracy: 0.9817\n",
      "Epoch [3/5], Loss: 0.0653, Accuracy: 0.9838\n",
      "Epoch [4/5], Loss: 0.0286, Accuracy: 0.9908\n",
      "Epoch [5/5], Loss: 0.0319, Accuracy: 0.9911\n",
      "Validation Loss: 0.0698\n",
      "Validation Accuracy: 0.9838\n",
      "Fold: 5, Training Loss: 0.0319, Validation Accuracy: 0.9838\n",
      "Average validation accuracy: 0.9834\n",
      "lr: 0.0022655301869251893, hidden_dim: 256, embedding_dim: 64, dropout_rate: 0.12485417441909502, weight_decay: 0.0001731480626110073\n",
      "Epoch [1/5], Loss: 1.0410, Accuracy: 0.7899\n",
      "Epoch [2/5], Loss: 0.3632, Accuracy: 0.9212\n",
      "Epoch [3/5], Loss: 0.2233, Accuracy: 0.9439\n",
      "Epoch [4/5], Loss: 0.1694, Accuracy: 0.9568\n",
      "Epoch [5/5], Loss: 0.1456, Accuracy: 0.9625\n",
      "Validation Loss: 0.1112\n",
      "Validation Accuracy: 0.9752\n",
      "Fold: 1, Training Loss: 0.1456, Validation Accuracy: 0.9752\n",
      "Epoch [1/5], Loss: 0.1213, Accuracy: 0.9668\n",
      "Epoch [2/5], Loss: 0.1208, Accuracy: 0.9717\n",
      "Epoch [3/5], Loss: 0.0921, Accuracy: 0.9752\n",
      "Epoch [4/5], Loss: 0.0761, Accuracy: 0.9784\n",
      "Epoch [5/5], Loss: 0.0639, Accuracy: 0.9806\n",
      "Validation Loss: 0.1177\n",
      "Validation Accuracy: 0.9773\n",
      "Fold: 2, Training Loss: 0.0639, Validation Accuracy: 0.9773\n",
      "Epoch [1/5], Loss: 0.0807, Accuracy: 0.9814\n",
      "Epoch [2/5], Loss: 0.0484, Accuracy: 0.9876\n",
      "Epoch [3/5], Loss: 0.0376, Accuracy: 0.9900\n",
      "Epoch [4/5], Loss: 0.0465, Accuracy: 0.9892\n",
      "Epoch [5/5], Loss: 0.0386, Accuracy: 0.9892\n",
      "Validation Loss: 0.0749\n",
      "Validation Accuracy: 0.9838\n",
      "Fold: 3, Training Loss: 0.0386, Validation Accuracy: 0.9838\n",
      "Epoch [1/5], Loss: 0.0615, Accuracy: 0.9852\n",
      "Epoch [2/5], Loss: 0.0520, Accuracy: 0.9862\n",
      "Epoch [3/5], Loss: 0.0313, Accuracy: 0.9914\n",
      "Epoch [4/5], Loss: 0.0331, Accuracy: 0.9914\n",
      "Epoch [5/5], Loss: 0.0462, Accuracy: 0.9865\n",
      "Validation Loss: 0.0325\n",
      "Validation Accuracy: 0.9892\n",
      "Fold: 4, Training Loss: 0.0462, Validation Accuracy: 0.9892\n",
      "Epoch [1/5], Loss: 0.0449, Accuracy: 0.9884\n",
      "Epoch [2/5], Loss: 0.0349, Accuracy: 0.9900\n",
      "Epoch [3/5], Loss: 0.0312, Accuracy: 0.9908\n",
      "Epoch [4/5], Loss: 0.0324, Accuracy: 0.9911\n",
      "Epoch [5/5], Loss: 0.0206, Accuracy: 0.9935\n",
      "Validation Loss: 0.0226\n",
      "Validation Accuracy: 0.9924\n",
      "Fold: 5, Training Loss: 0.0206, Validation Accuracy: 0.9924\n",
      "Average validation accuracy: 0.9836\n",
      "lr: 0.0037036476007843203, hidden_dim: 64, embedding_dim: 256, dropout_rate: 0.49978162042926455, weight_decay: 9.728776063869132e-05\n",
      "Epoch [1/5], Loss: 1.1422, Accuracy: 0.7596\n",
      "Epoch [2/5], Loss: 0.3199, Accuracy: 0.9264\n",
      "Epoch [3/5], Loss: 0.2187, Accuracy: 0.9485\n",
      "Epoch [4/5], Loss: 0.1504, Accuracy: 0.9576\n",
      "Epoch [5/5], Loss: 0.1113, Accuracy: 0.9706\n",
      "Validation Loss: 0.1189\n",
      "Validation Accuracy: 0.9709\n",
      "Fold: 1, Training Loss: 0.1113, Validation Accuracy: 0.9709\n",
      "Epoch [1/5], Loss: 0.1028, Accuracy: 0.9725\n",
      "Epoch [2/5], Loss: 0.0788, Accuracy: 0.9800\n",
      "Epoch [3/5], Loss: 0.0533, Accuracy: 0.9852\n",
      "Epoch [4/5], Loss: 0.0361, Accuracy: 0.9900\n",
      "Epoch [5/5], Loss: 0.0306, Accuracy: 0.9892\n",
      "Validation Loss: 0.0753\n",
      "Validation Accuracy: 0.9892\n",
      "Fold: 2, Training Loss: 0.0306, Validation Accuracy: 0.9892\n",
      "Epoch [1/5], Loss: 0.0524, Accuracy: 0.9873\n",
      "Epoch [2/5], Loss: 0.0511, Accuracy: 0.9852\n",
      "Epoch [3/5], Loss: 0.0274, Accuracy: 0.9900\n",
      "Epoch [4/5], Loss: 0.0232, Accuracy: 0.9935\n",
      "Epoch [5/5], Loss: 0.0299, Accuracy: 0.9911\n",
      "Validation Loss: 0.0450\n",
      "Validation Accuracy: 0.9860\n",
      "Fold: 3, Training Loss: 0.0299, Validation Accuracy: 0.9860\n",
      "Epoch [1/5], Loss: 0.0411, Accuracy: 0.9897\n",
      "Epoch [2/5], Loss: 0.0245, Accuracy: 0.9927\n",
      "Epoch [3/5], Loss: 0.0193, Accuracy: 0.9968\n",
      "Epoch [4/5], Loss: 0.0307, Accuracy: 0.9908\n",
      "Epoch [5/5], Loss: 0.0221, Accuracy: 0.9965\n",
      "Validation Loss: 0.0309\n",
      "Validation Accuracy: 0.9924\n",
      "Fold: 4, Training Loss: 0.0221, Validation Accuracy: 0.9924\n",
      "Epoch [1/5], Loss: 0.0321, Accuracy: 0.9935\n",
      "Epoch [2/5], Loss: 0.0238, Accuracy: 0.9933\n",
      "Epoch [3/5], Loss: 0.0210, Accuracy: 0.9941\n",
      "Epoch [4/5], Loss: 0.0316, Accuracy: 0.9919\n",
      "Epoch [5/5], Loss: 0.0368, Accuracy: 0.9895\n",
      "Validation Loss: 0.0338\n",
      "Validation Accuracy: 0.9892\n",
      "Fold: 5, Training Loss: 0.0368, Validation Accuracy: 0.9892\n",
      "Average validation accuracy: 0.9855\n",
      "lr: 0.0010354475627090108, hidden_dim: 64, embedding_dim: 256, dropout_rate: 0.32015149394370424, weight_decay: 1.5130366643769503e-05\n",
      "Epoch [1/5], Loss: 1.8092, Accuracy: 0.6412\n",
      "Epoch [2/5], Loss: 0.5437, Accuracy: 0.9005\n",
      "Epoch [3/5], Loss: 0.3223, Accuracy: 0.9344\n",
      "Epoch [4/5], Loss: 0.2056, Accuracy: 0.9566\n",
      "Epoch [5/5], Loss: 0.1560, Accuracy: 0.9671\n",
      "Validation Loss: 0.1502\n",
      "Validation Accuracy: 0.9698\n",
      "Fold: 1, Training Loss: 0.1560, Validation Accuracy: 0.9698\n",
      "Epoch [1/5], Loss: 0.1473, Accuracy: 0.9657\n",
      "Epoch [2/5], Loss: 0.0957, Accuracy: 0.9803\n",
      "Epoch [3/5], Loss: 0.0766, Accuracy: 0.9830\n",
      "Epoch [4/5], Loss: 0.0665, Accuracy: 0.9835\n",
      "Epoch [5/5], Loss: 0.0479, Accuracy: 0.9873\n",
      "Validation Loss: 0.0862\n",
      "Validation Accuracy: 0.9827\n",
      "Fold: 2, Training Loss: 0.0479, Validation Accuracy: 0.9827\n",
      "Epoch [1/5], Loss: 0.0608, Accuracy: 0.9862\n",
      "Epoch [2/5], Loss: 0.0461, Accuracy: 0.9892\n",
      "Epoch [3/5], Loss: 0.0375, Accuracy: 0.9927\n",
      "Epoch [4/5], Loss: 0.0391, Accuracy: 0.9911\n",
      "Epoch [5/5], Loss: 0.0338, Accuracy: 0.9916\n",
      "Validation Loss: 0.0407\n",
      "Validation Accuracy: 0.9903\n",
      "Fold: 3, Training Loss: 0.0338, Validation Accuracy: 0.9903\n",
      "Epoch [1/5], Loss: 0.0314, Accuracy: 0.9919\n",
      "Epoch [2/5], Loss: 0.0232, Accuracy: 0.9949\n",
      "Epoch [3/5], Loss: 0.0223, Accuracy: 0.9943\n",
      "Epoch [4/5], Loss: 0.0257, Accuracy: 0.9924\n",
      "Epoch [5/5], Loss: 0.0153, Accuracy: 0.9962\n",
      "Validation Loss: 0.0104\n",
      "Validation Accuracy: 0.9968\n",
      "Fold: 4, Training Loss: 0.0153, Validation Accuracy: 0.9968\n",
      "Epoch [1/5], Loss: 0.0264, Accuracy: 0.9941\n",
      "Epoch [2/5], Loss: 0.0177, Accuracy: 0.9949\n",
      "Epoch [3/5], Loss: 0.0162, Accuracy: 0.9954\n",
      "Epoch [4/5], Loss: 0.0133, Accuracy: 0.9968\n",
      "Epoch [5/5], Loss: 0.0104, Accuracy: 0.9970\n",
      "Validation Loss: 0.0097\n",
      "Validation Accuracy: 0.9989\n",
      "Fold: 5, Training Loss: 0.0104, Validation Accuracy: 0.9989\n",
      "Average validation accuracy: 0.9877\n"
     ]
    }
   ],
   "source": [
    "experiment_id = get_or_create_experiment(\"IntentClassifierLSTMWithAttention2\")\n",
    "\n",
    "mlflow.set_experiment(experiment_id=experiment_id)\n",
    "study_name = \"IntentClassifierLSTMWithAttention\"\n",
    "optuna.logging.get_logger(\"optuna\").addHandler(logging.StreamHandler(sys.stdout))\n",
    "storage_name = \"sqlite:///{}.db\".format(study_name)\n",
    "study = optuna.create_study(study_name=study_name, storage=storage_name,load_if_exists=True,direction=\"maximize\")\n",
    "study.optimize(objective, n_trials=10)\n",
    "best_trial = study.best_trial"
   ]
  },
  {
   "cell_type": "markdown",
   "metadata": {
    "collapsed": false,
    "jupyter": {
     "outputs_hidden": false
    }
   },
   "source": [
    "## Best Model Training and Evaluation\n",
    "Tune the best model with a larger number of epochs and evaluate it on the test set."
   ]
  },
  {
   "cell_type": "code",
   "execution_count": 8,
   "metadata": {
    "collapsed": false,
    "jupyter": {
     "outputs_hidden": false
    },
    "ExecuteTime": {
     "end_time": "2023-11-22T15:21:17.022400Z",
     "start_time": "2023-11-22T15:20:52.144963Z"
    }
   },
   "outputs": [
    {
     "name": "stdout",
     "output_type": "stream",
     "text": [
      "Epoch [1/10], Loss: 1.6801, Accuracy: 0.6718\n",
      "Epoch [2/10], Loss: 0.4333, Accuracy: 0.9197\n",
      "Epoch [3/10], Loss: 0.2553, Accuracy: 0.9469\n",
      "Epoch [4/10], Loss: 0.1892, Accuracy: 0.9599\n",
      "Epoch [5/10], Loss: 0.1253, Accuracy: 0.9715\n",
      "Epoch [6/10], Loss: 0.0975, Accuracy: 0.9767\n",
      "Epoch [7/10], Loss: 0.0858, Accuracy: 0.9801\n",
      "Epoch [8/10], Loss: 0.0722, Accuracy: 0.9827\n",
      "Epoch [9/10], Loss: 0.0564, Accuracy: 0.9838\n",
      "Epoch [10/10], Loss: 0.0449, Accuracy: 0.9892\n",
      "Test Loss: 0.2989\n",
      "Test Accuracy: 0.9482\n",
      "Test Accuracy: 0.9482\n"
     ]
    }
   ],
   "source": [
    "with mlflow.start_run(experiment_id=experiment_id):\n",
    "    # Log the best parameters\n",
    "    mlflow.log_params(best_trial.params)\n",
    "\n",
    "    # Train the model using best parameters\n",
    "    model = IntentClassifierLSTMWithAttention(\n",
    "        vocab_size,\n",
    "        best_trial.params['embedding_dim'],\n",
    "        best_trial.params['hidden_dim'],\n",
    "        output_dim,\n",
    "        best_trial.params['dropout_rate']\n",
    "    ).to(device)\n",
    "\n",
    "    optimizer = optim.Adam(model.parameters(), lr=best_trial.params['lr'],\n",
    "                           weight_decay=best_trial.params['weight_decay'])\n",
    "    train_loss = train(model, optimizer, nn.CrossEntropyLoss(), train_loader, 10)\n",
    "    test_accuracy = evaluate(model, nn.CrossEntropyLoss(), test_loader, data_type=\"Test\")\n",
    "    print(f'Test Accuracy: {test_accuracy:.4f}')\n",
    "    mlflow.log_metric(\"test_accuracy\", test_accuracy)\n",
    "    mlflow.log_metric(\"train_loss\", train_loss)\n",
    "    mlflow.pytorch.log_model(model, f\"best_model_{study.study_name}\")"
   ]
  },
  {
   "cell_type": "markdown",
   "metadata": {
    "collapsed": false,
    "jupyter": {
     "outputs_hidden": false
    }
   },
   "source": [
    "## Visualize the results\n",
    "Optuna provides a number of visualizations to analyze the results of the hyperparameter tuning experiment. We can use these visualizations to analyze the results of the hyperparameter tuning experiment."
   ]
  },
  {
   "cell_type": "code",
   "execution_count": 9,
   "metadata": {
    "collapsed": false,
    "jupyter": {
     "outputs_hidden": false
    },
    "ExecuteTime": {
     "end_time": "2023-11-22T15:21:17.237347Z",
     "start_time": "2023-11-22T15:21:17.023881Z"
    }
   },
   "outputs": [
    {
     "name": "stderr",
     "output_type": "stream",
     "text": [
      "/var/folders/jk/m7rkkh0s0hjbspb28jt26mlw0000gn/T/ipykernel_8909/4237326169.py:3: ExperimentalWarning: plot_optimization_history is experimental (supported from v2.2.0). The interface can change in the future.\n",
      "  fig = optuna.visualization.matplotlib.plot_optimization_history(study)\n"
     ]
    },
    {
     "ename": "AttributeError",
     "evalue": "'Axes' object has no attribute 'show'",
     "output_type": "error",
     "traceback": [
      "\u001B[0;31m---------------------------------------------------------------------------\u001B[0m",
      "\u001B[0;31mAttributeError\u001B[0m                            Traceback (most recent call last)",
      "Cell \u001B[0;32mIn[9], line 4\u001B[0m\n\u001B[1;32m      1\u001B[0m \u001B[38;5;66;03m# Visualize the optimization history\u001B[39;00m\n\u001B[1;32m      2\u001B[0m \u001B[38;5;66;03m# Generate the Optuna plot\u001B[39;00m\n\u001B[1;32m      3\u001B[0m fig \u001B[38;5;241m=\u001B[39m optuna\u001B[38;5;241m.\u001B[39mvisualization\u001B[38;5;241m.\u001B[39mmatplotlib\u001B[38;5;241m.\u001B[39mplot_optimization_history(study)\n\u001B[0;32m----> 4\u001B[0m \u001B[43mfig\u001B[49m\u001B[38;5;241;43m.\u001B[39;49m\u001B[43mshow\u001B[49m()\n",
      "\u001B[0;31mAttributeError\u001B[0m: 'Axes' object has no attribute 'show'"
     ]
    },
    {
     "data": {
      "text/plain": "<Figure size 640x480 with 1 Axes>",
      "image/png": "[encoded data removed]"
     },
     "metadata": {},
     "output_type": "display_data"
    }
   ],
   "source": [
    "# Visualize the optimization history\n",
    "# Generate the Optuna plot\n",
    "fig = optuna.visualization.matplotlib.plot_optimization_history(study)\n",
    "fig.show()"
   ]
  },
  {
   "cell_type": "code",
   "execution_count": null,
   "metadata": {
    "collapsed": false,
    "jupyter": {
     "outputs_hidden": false
    }
   },
   "outputs": [],
   "source": [
    "fig=optuna.visualization.matplotlib.plot_parallel_coordinate(study)\n",
    "fig.show()"
   ]
  },
  {
   "cell_type": "code",
   "execution_count": null,
   "metadata": {
    "collapsed": false,
    "jupyter": {
     "outputs_hidden": false
    }
   },
   "outputs": [],
   "source": [
    "fig = optuna.visualization.matplotlib.plot_contour(study)\n",
    "fig.show()"
   ]
  },
  {
   "cell_type": "markdown",
   "metadata": {
    "collapsed": false,
    "jupyter": {
     "outputs_hidden": false
    }
   },
   "source": [
    "## Save the model and check model Serving"
   ]
  },
  {
   "cell_type": "code",
   "execution_count": null,
   "metadata": {
    "collapsed": false,
    "jupyter": {
     "outputs_hidden": false
    }
   },
   "outputs": [],
   "source": [
    "model_name = \"best_ICELSTMAmodel\"\n",
    "# Load the trained model and tokenizer from saved files\n",
    "model_serve = torch.load(f\"models/{model_name}.pth\").to(device)\n",
    "tokenizer = tokenizer = IntentTokenizer.load_state(IntentTokenizer,f\"models/{model_name}_tokenizer.pickle\", f\"models/IntentClassifierLSTMWithAttention_le.pickle\")\n",
    "max_query_length = 50\n",
    "query_text = \"what airlines off from love field between 6 and 10 am on june sixth\"\n",
    "query = pd.DataFrame({\"text\": [query_text]})\n",
    "prediction = predict(model_serve, query,tokenizer,device)\n",
    "print(f\"Predicted label: {prediction}\")"
   ]
  },
  {
   "cell_type": "code",
   "execution_count": null,
   "metadata": {},
   "outputs": [],
   "source": []
  }
 ],
 "metadata": {
  "kernelspec": {
   "display_name": "ultimate_nlp",
   "language": "python",
   "name": "ultimate-nlp"
  },
  "language_info": {
   "codemirror_mode": {
    "name": "ipython",
    "version": 3
   },
   "file_extension": ".py",
   "mimetype": "text/x-python",
   "name": "python",
   "nbconvert_exporter": "python",
   "pygments_lexer": "ipython3",
   "version": "3.9.10"
  }
 },
 "nbformat": 4,
 "nbformat_minor": 4
}
